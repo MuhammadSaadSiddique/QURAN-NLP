{
 "cells": [
  {
   "cell_type": "code",
   "execution_count": 1,
   "metadata": {},
   "outputs": [],
   "source": [
    "import pandas as pd\n",
    "import numpy as np\n",
    "\n",
    "import re\n",
    "from tqdm import tqdm\n",
    "\n"
   ]
  },
  {
   "cell_type": "markdown",
   "metadata": {},
   "source": [
    "# Processing"
   ]
  },
  {
   "cell_type": "code",
   "execution_count": 2,
   "metadata": {},
   "outputs": [
    {
     "data": {
      "text/html": [
       "<div>\n",
       "<style scoped>\n",
       "    .dataframe tbody tr th:only-of-type {\n",
       "        vertical-align: middle;\n",
       "    }\n",
       "\n",
       "    .dataframe tbody tr th {\n",
       "        vertical-align: top;\n",
       "    }\n",
       "\n",
       "    .dataframe thead th {\n",
       "        text-align: right;\n",
       "    }\n",
       "</style>\n",
       "<table border=\"1\" class=\"dataframe\">\n",
       "  <thead>\n",
       "    <tr style=\"text-align: right;\">\n",
       "      <th></th>\n",
       "      <th>Name</th>\n",
       "      <th>Surah</th>\n",
       "      <th>Ayat</th>\n",
       "      <th>Arabic</th>\n",
       "      <th>Translation - Muhammad Tahir-ul-Qadri</th>\n",
       "      <th>Translation - Arthur J</th>\n",
       "      <th>Translation - Marmaduke Pickthall</th>\n",
       "      <th>Tafaseer - Tafsir al-Jalalayn</th>\n",
       "      <th>Tafaseer - Tanwir al-Miqbas min Tafsir Ibn Abbas</th>\n",
       "      <th>EnglishTitle</th>\n",
       "      <th>ArabicTitle</th>\n",
       "      <th>RomanTitle</th>\n",
       "      <th>NumberOfVerses</th>\n",
       "      <th>NumberOfRukus</th>\n",
       "      <th>PlaceOfRevelation</th>\n",
       "    </tr>\n",
       "  </thead>\n",
       "  <tbody>\n",
       "    <tr>\n",
       "      <th>0</th>\n",
       "      <td>The Opening</td>\n",
       "      <td>1</td>\n",
       "      <td>1</td>\n",
       "      <td>بِسمِ ٱلله الرَّحْمٰنِ الرَّحِيـمِ</td>\n",
       "      <td>All praise be to Allah alone, the Sustainer of...</td>\n",
       "      <td>In the Name of God, the Merciful, the Compassi...</td>\n",
       "      <td>In the name of Allah, the Beneficent, the Merc...</td>\n",
       "      <td>In the Name of God the Compassionate the Merciful</td>\n",
       "      <td>In the name of Allah, the Beneficent, the Merc...</td>\n",
       "      <td>Al-Fatihah</td>\n",
       "      <td>ٱلْفَاتِحَة</td>\n",
       "      <td>al-Ḥamd</td>\n",
       "      <td>7</td>\n",
       "      <td>1</td>\n",
       "      <td>Makkah</td>\n",
       "    </tr>\n",
       "    <tr>\n",
       "      <th>1</th>\n",
       "      <td>The Opening</td>\n",
       "      <td>1</td>\n",
       "      <td>2</td>\n",
       "      <td>ٱلْحَمْدُ للَّهِ رَبِّ ٱلْعَالَمِينَ</td>\n",
       "      <td>Most Compassionate, Ever-Merciful,</td>\n",
       "      <td>Praise belongs to God, the Lord of all Being,</td>\n",
       "      <td>Praise be to Allah, Lord of the Worlds,</td>\n",
       "      <td>In the Name of God the name of a thing is that...</td>\n",
       "      <td>And on his authority it is related that Ibn 'A...</td>\n",
       "      <td>Al-Fatihah</td>\n",
       "      <td>ٱلْفَاتِحَة</td>\n",
       "      <td>al-Ḥamd</td>\n",
       "      <td>7</td>\n",
       "      <td>1</td>\n",
       "      <td>Makkah</td>\n",
       "    </tr>\n",
       "    <tr>\n",
       "      <th>2</th>\n",
       "      <td>The Opening</td>\n",
       "      <td>1</td>\n",
       "      <td>3</td>\n",
       "      <td>ٱلرَّحْمـٰنِ ٱلرَّحِيمِ</td>\n",
       "      <td>Master of the Day of Judgment.</td>\n",
       "      <td>the All-merciful, the All-compassionate,</td>\n",
       "      <td>The Beneficent, the Merciful.</td>\n",
       "      <td>The Compassionate the Merciful that is to say ...</td>\n",
       "      <td>(The Beneficent) the Gentle. (The Merciful) th...</td>\n",
       "      <td>Al-Fatihah</td>\n",
       "      <td>ٱلْفَاتِحَة</td>\n",
       "      <td>al-Ḥamd</td>\n",
       "      <td>7</td>\n",
       "      <td>1</td>\n",
       "      <td>Makkah</td>\n",
       "    </tr>\n",
       "    <tr>\n",
       "      <th>3</th>\n",
       "      <td>The Opening</td>\n",
       "      <td>1</td>\n",
       "      <td>4</td>\n",
       "      <td>مَـٰلِكِ يَوْمِ ٱلدِّينِ</td>\n",
       "      <td>(O Allah!) You alone do we worship and to You ...</td>\n",
       "      <td>the Master of the Day of Doom.</td>\n",
       "      <td>Owner of the Day of Judgment,</td>\n",
       "      <td>Master of the Day of Judgement that is the day...</td>\n",
       "      <td>(Owner of the Day of Judgement) the Arbitrator...</td>\n",
       "      <td>Al-Fatihah</td>\n",
       "      <td>ٱلْفَاتِحَة</td>\n",
       "      <td>al-Ḥamd</td>\n",
       "      <td>7</td>\n",
       "      <td>1</td>\n",
       "      <td>Makkah</td>\n",
       "    </tr>\n",
       "    <tr>\n",
       "      <th>4</th>\n",
       "      <td>The Opening</td>\n",
       "      <td>1</td>\n",
       "      <td>5</td>\n",
       "      <td>إِيَّاكَ نَعْبُدُ وَإِيَّاكَ نَسْتَعِينُ</td>\n",
       "      <td>Show us the straight path,</td>\n",
       "      <td>Thee only we serve; to Thee alone we pray for ...</td>\n",
       "      <td>Thee (alone) we worship; Thee (alone) we ask f...</td>\n",
       "      <td>You alone we worship and You alone we ask for ...</td>\n",
       "      <td>(Thee (alone) we worship), we turn to you as t...</td>\n",
       "      <td>Al-Fatihah</td>\n",
       "      <td>ٱلْفَاتِحَة</td>\n",
       "      <td>al-Ḥamd</td>\n",
       "      <td>7</td>\n",
       "      <td>1</td>\n",
       "      <td>Makkah</td>\n",
       "    </tr>\n",
       "  </tbody>\n",
       "</table>\n",
       "</div>"
      ],
      "text/plain": [
       "          Name  Surah  Ayat                                    Arabic  \\\n",
       "0  The Opening      1     1        بِسمِ ٱلله الرَّحْمٰنِ الرَّحِيـمِ   \n",
       "1  The Opening      1     2      ٱلْحَمْدُ للَّهِ رَبِّ ٱلْعَالَمِينَ   \n",
       "2  The Opening      1     3                   ٱلرَّحْمـٰنِ ٱلرَّحِيمِ   \n",
       "3  The Opening      1     4                  مَـٰلِكِ يَوْمِ ٱلدِّينِ   \n",
       "4  The Opening      1     5  إِيَّاكَ نَعْبُدُ وَإِيَّاكَ نَسْتَعِينُ   \n",
       "\n",
       "               Translation - Muhammad Tahir-ul-Qadri  \\\n",
       "0  All praise be to Allah alone, the Sustainer of...   \n",
       "1                 Most Compassionate, Ever-Merciful,   \n",
       "2                     Master of the Day of Judgment.   \n",
       "3  (O Allah!) You alone do we worship and to You ...   \n",
       "4                         Show us the straight path,   \n",
       "\n",
       "                              Translation - Arthur J  \\\n",
       "0  In the Name of God, the Merciful, the Compassi...   \n",
       "1      Praise belongs to God, the Lord of all Being,   \n",
       "2           the All-merciful, the All-compassionate,   \n",
       "3                     the Master of the Day of Doom.   \n",
       "4  Thee only we serve; to Thee alone we pray for ...   \n",
       "\n",
       "                   Translation - Marmaduke Pickthall  \\\n",
       "0  In the name of Allah, the Beneficent, the Merc...   \n",
       "1            Praise be to Allah, Lord of the Worlds,   \n",
       "2                      The Beneficent, the Merciful.   \n",
       "3                      Owner of the Day of Judgment,   \n",
       "4  Thee (alone) we worship; Thee (alone) we ask f...   \n",
       "\n",
       "                       Tafaseer - Tafsir al-Jalalayn  \\\n",
       "0  In the Name of God the Compassionate the Merciful   \n",
       "1  In the Name of God the name of a thing is that...   \n",
       "2  The Compassionate the Merciful that is to say ...   \n",
       "3  Master of the Day of Judgement that is the day...   \n",
       "4  You alone we worship and You alone we ask for ...   \n",
       "\n",
       "    Tafaseer - Tanwir al-Miqbas min Tafsir Ibn Abbas EnglishTitle  \\\n",
       "0  In the name of Allah, the Beneficent, the Merc...   Al-Fatihah   \n",
       "1  And on his authority it is related that Ibn 'A...   Al-Fatihah   \n",
       "2  (The Beneficent) the Gentle. (The Merciful) th...   Al-Fatihah   \n",
       "3  (Owner of the Day of Judgement) the Arbitrator...   Al-Fatihah   \n",
       "4  (Thee (alone) we worship), we turn to you as t...   Al-Fatihah   \n",
       "\n",
       "   ArabicTitle RomanTitle  NumberOfVerses NumberOfRukus PlaceOfRevelation  \n",
       "0  ٱلْفَاتِحَة    al-Ḥamd               7             1            Makkah  \n",
       "1  ٱلْفَاتِحَة    al-Ḥamd               7             1            Makkah  \n",
       "2  ٱلْفَاتِحَة    al-Ḥamd               7             1            Makkah  \n",
       "3  ٱلْفَاتِحَة    al-Ḥamd               7             1            Makkah  \n",
       "4  ٱلْفَاتِحَة    al-Ḥamd               7             1            Makkah  "
      ]
     },
     "execution_count": 2,
     "metadata": {},
     "output_type": "execute_result"
    }
   ],
   "source": [
    "df = pd.read_csv('data/main_df.csv')\n",
    "df.head()"
   ]
  },
  {
   "cell_type": "code",
   "execution_count": 3,
   "metadata": {},
   "outputs": [],
   "source": [
    "translation_col = list(df.columns)\n",
    "translation_col = [x for x in translation_col if \"Translation\" in x]\n",
    "\n",
    "tafaseer_col = list(df.columns)\n",
    "tafaseer_col = [x for x in tafaseer_col if \"Tafaseer\" in x]"
   ]
  },
  {
   "cell_type": "code",
   "execution_count": null,
   "metadata": {},
   "outputs": [],
   "source": []
  },
  {
   "cell_type": "code",
   "execution_count": 4,
   "metadata": {},
   "outputs": [],
   "source": [
    "arabic = []\n",
    "text=[]\n",
    "for index, row in df.iterrows():\n",
    "    arabic.append(row['Arabic'])\n",
    "    t = \"\"\n",
    "    t += row['Name'] + \" | \" + str(row['Arabic'])+\" | \"+ str(row['Surah'])+\" | \"+str(row['Ayat'])+\" | \"\n",
    "    t += row['EnglishTitle'] + \" | \" + str(row['ArabicTitle'])+\" | \"+ str(row['RomanTitle'])+\" | \"\n",
    "    t += row['PlaceOfRevelation'] + \" | \"\n",
    "    for j in translation_col:\n",
    "        t += row[j] + \" + \"\n",
    "    t += \" | \"\n",
    "    for j in tafaseer_col:\n",
    "        t+= row[j] + \" + \"\n",
    "    t = t[:-3]\n",
    "    text.append(t)"
   ]
  },
  {
   "cell_type": "code",
   "execution_count": 5,
   "metadata": {},
   "outputs": [
    {
     "data": {
      "text/plain": [
       "'The Opening | بِسمِ ٱلله الرَّحْمٰنِ الرَّحِيـمِ | 1 | 1 | Al-Fatihah | ٱلْفَاتِحَة | al-Ḥamd | Makkah | All praise be to Allah alone, the Sustainer of all the worlds, + In the Name of God, the Merciful, the Compassionate + In the name of Allah, the Beneficent, the Merciful. +  | In the Name of God the Compassionate the Merciful + In the name of Allah, the Beneficent, the Merciful.'"
      ]
     },
     "execution_count": 5,
     "metadata": {},
     "output_type": "execute_result"
    }
   ],
   "source": [
    "text[0]"
   ]
  },
  {
   "cell_type": "code",
   "execution_count": 6,
   "metadata": {},
   "outputs": [
    {
     "data": {
      "text/plain": [
       "'بِسمِ ٱلله الرَّحْمٰنِ الرَّحِيـمِ'"
      ]
     },
     "execution_count": 6,
     "metadata": {},
     "output_type": "execute_result"
    }
   ],
   "source": [
    "arabic[0]"
   ]
  },
  {
   "cell_type": "code",
   "execution_count": null,
   "metadata": {},
   "outputs": [],
   "source": []
  },
  {
   "cell_type": "code",
   "execution_count": null,
   "metadata": {},
   "outputs": [],
   "source": []
  },
  {
   "cell_type": "code",
   "execution_count": null,
   "metadata": {},
   "outputs": [],
   "source": []
  },
  {
   "cell_type": "code",
   "execution_count": null,
   "metadata": {},
   "outputs": [],
   "source": []
  },
  {
   "cell_type": "code",
   "execution_count": 7,
   "metadata": {},
   "outputs": [],
   "source": [
    "from sklearn.feature_extraction.text import TfidfVectorizer\n",
    "from sklearn.metrics.pairwise import cosine_similarity\n",
    "\n",
    "# Preprocess the dataset\n",
    "vectorizer = TfidfVectorizer()\n",
    "X = vectorizer.fit_transform(text)\n",
    "\n",
    "# Define the search function\n",
    "def search(query, top_k=5):\n",
    "    query_vec = vectorizer.transform([query])\n",
    "    sim_scores = cosine_similarity(query_vec, X).flatten()\n",
    "    top_indices = sim_scores.argsort()[::-1][:top_k]\n",
    "    top_paragraphs = [text[i] for i in top_indices]\n",
    "    \n",
    "    \n",
    "    \n",
    "    return top_paragraphs"
   ]
  },
  {
   "cell_type": "code",
   "execution_count": 8,
   "metadata": {},
   "outputs": [],
   "source": [
    "x = search(\"inheritance\")"
   ]
  },
  {
   "cell_type": "code",
   "execution_count": null,
   "metadata": {},
   "outputs": [],
   "source": []
  },
  {
   "cell_type": "code",
   "execution_count": 9,
   "metadata": {},
   "outputs": [
    {
     "data": {
      "text/plain": [
       "['Smoke',\n",
       " 'كَذَلِكَ وَأَوْرَثْنَاهَا قَوْماً آخَرِينَ',\n",
       " '44',\n",
       " '28',\n",
       " 'Ad-Dukhaan',\n",
       " 'ٱلدُّخَان',\n",
       " 'ad-Dukhān',\n",
       " 'Makkah',\n",
       " 'So it happened! We made another people the inheritors of all that. + Even so; and We bequeathed them upon another people. + Even so (it was), and We made it an inheritance for other folk; + ',\n",
       " 'So it was kadhālika is the predicate of a subject that is missing such as ‘the matter was so’ and We made these an inheritance that is to say their riches for another people namely the Children of Israel. + (Even so (it was)) We destroyed them, (and We made it an inheritance for other folk) We made the Children of Israel inherit all that after they were destroyed;']"
      ]
     },
     "execution_count": 9,
     "metadata": {},
     "output_type": "execute_result"
    }
   ],
   "source": [
    "x[0].split(\" | \")"
   ]
  },
  {
   "cell_type": "code",
   "execution_count": 10,
   "metadata": {},
   "outputs": [
    {
     "data": {
      "text/plain": [
       "['So it was kadhālika is the predicate of a subject that is missing such as ‘the matter was so’ and We made these an inheritance that is to say their riches for another people namely the Children of Israel.',\n",
       " '(Even so (it was)) We destroyed them, (and We made it an inheritance for other folk) We made the Children of Israel inherit all that after they were destroyed;']"
      ]
     },
     "execution_count": 10,
     "metadata": {},
     "output_type": "execute_result"
    }
   ],
   "source": [
    "x[0].split(\" | \")[-1].split(\" + \")"
   ]
  },
  {
   "cell_type": "code",
   "execution_count": 11,
   "metadata": {},
   "outputs": [
    {
     "data": {
      "text/plain": [
       "['So it happened! We made another people the inheritors of all that.',\n",
       " 'Even so; and We bequeathed them upon another people.',\n",
       " 'Even so (it was), and We made it an inheritance for other folk;',\n",
       " '']"
      ]
     },
     "execution_count": 11,
     "metadata": {},
     "output_type": "execute_result"
    }
   ],
   "source": [
    "x[0].split(\" | \")[-2].split(\" + \")"
   ]
  },
  {
   "cell_type": "code",
   "execution_count": null,
   "metadata": {},
   "outputs": [],
   "source": []
  },
  {
   "cell_type": "code",
   "execution_count": 12,
   "metadata": {},
   "outputs": [],
   "source": [
    "from deep_translator import GoogleTranslator\n",
    "# translate Urdu text to English\n"
   ]
  },
  {
   "cell_type": "code",
   "execution_count": 13,
   "metadata": {},
   "outputs": [
    {
     "name": "stdout",
     "output_type": "stream",
     "text": [
      "We are Pakistanis\n",
      "my name is rashid\n"
     ]
    }
   ],
   "source": [
    "\n",
    "\n",
    "urdu_text = \"ہم پاکستانی\"\n",
    "english_text = GoogleTranslator(source='auto', target='en').translate(urdu_text)\n",
    "print(english_text)  # output: \"We are Pakistani\"\n",
    "\n",
    "# translate Roman text to English\n",
    "roman_text = \"mera naam Rashid hai\"\n",
    "english_text = GoogleTranslator(source='auto', target='en').translate(roman_text)\n",
    "print(english_text)  # output: \"My name is Rashid\""
   ]
  }
 ],
 "metadata": {
  "kernelspec": {
   "display_name": "Python 3 (ipykernel)",
   "language": "python",
   "name": "python3"
  },
  "language_info": {
   "codemirror_mode": {
    "name": "ipython",
    "version": 3
   },
   "file_extension": ".py",
   "mimetype": "text/x-python",
   "name": "python",
   "nbconvert_exporter": "python",
   "pygments_lexer": "ipython3",
   "version": "3.9.16"
  },
  "vscode": {
   "interpreter": {
    "hash": "a665b5d41d17b532ea9890333293a1b812fa0b73c9c25c950b3cedf1bebd0438"
   }
  }
 },
 "nbformat": 4,
 "nbformat_minor": 2
}
