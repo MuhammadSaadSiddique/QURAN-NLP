{
 "cells": [
  {
   "cell_type": "code",
   "execution_count": 1,
   "metadata": {},
   "outputs": [],
   "source": [
    "import pandas as pd\n",
    "import numpy as np\n",
    "\n",
    "import re\n",
    "from tqdm import tqdm\n",
    "\n"
   ]
  },
  {
   "cell_type": "markdown",
   "metadata": {},
   "source": [
    "# Processing"
   ]
  },
  {
   "cell_type": "code",
   "execution_count": 2,
   "metadata": {},
   "outputs": [
    {
     "data": {
      "text/html": [
       "<div>\n",
       "<style scoped>\n",
       "    .dataframe tbody tr th:only-of-type {\n",
       "        vertical-align: middle;\n",
       "    }\n",
       "\n",
       "    .dataframe tbody tr th {\n",
       "        vertical-align: top;\n",
       "    }\n",
       "\n",
       "    .dataframe thead th {\n",
       "        text-align: right;\n",
       "    }\n",
       "</style>\n",
       "<table border=\"1\" class=\"dataframe\">\n",
       "  <thead>\n",
       "    <tr style=\"text-align: right;\">\n",
       "      <th></th>\n",
       "      <th>Name</th>\n",
       "      <th>Surah</th>\n",
       "      <th>Ayat</th>\n",
       "      <th>Arabic</th>\n",
       "      <th>Translation - Muhammad Tahir-ul-Qadri</th>\n",
       "      <th>Translation - Arthur J</th>\n",
       "      <th>Translation - Marmaduke Pickthall</th>\n",
       "      <th>Tafaseer - Tafsir al-Jalalayn</th>\n",
       "      <th>Tafaseer - Tanwir al-Miqbas min Tafsir Ibn Abbas</th>\n",
       "      <th>EnglishTitle</th>\n",
       "      <th>ArabicTitle</th>\n",
       "      <th>RomanTitle</th>\n",
       "      <th>NumberOfVerses</th>\n",
       "      <th>NumberOfRukus</th>\n",
       "      <th>PlaceOfRevelation</th>\n",
       "    </tr>\n",
       "  </thead>\n",
       "  <tbody>\n",
       "    <tr>\n",
       "      <th>0</th>\n",
       "      <td>The Opening</td>\n",
       "      <td>1</td>\n",
       "      <td>1</td>\n",
       "      <td>بِسمِ ٱلله الرَّحْمٰنِ الرَّحِيـمِ</td>\n",
       "      <td>All praise be to Allah alone, the Sustainer of...</td>\n",
       "      <td>In the Name of God, the Merciful, the Compassi...</td>\n",
       "      <td>In the name of Allah, the Beneficent, the Merc...</td>\n",
       "      <td>In the Name of God the Compassionate the Merciful</td>\n",
       "      <td>In the name of Allah, the Beneficent, the Merc...</td>\n",
       "      <td>Al-Fatihah</td>\n",
       "      <td>ٱلْفَاتِحَة</td>\n",
       "      <td>al-Ḥamd</td>\n",
       "      <td>7</td>\n",
       "      <td>1</td>\n",
       "      <td>Makkah</td>\n",
       "    </tr>\n",
       "    <tr>\n",
       "      <th>1</th>\n",
       "      <td>The Opening</td>\n",
       "      <td>1</td>\n",
       "      <td>2</td>\n",
       "      <td>ٱلْحَمْدُ للَّهِ رَبِّ ٱلْعَالَمِينَ</td>\n",
       "      <td>Most Compassionate, Ever-Merciful,</td>\n",
       "      <td>Praise belongs to God, the Lord of all Being,</td>\n",
       "      <td>Praise be to Allah, Lord of the Worlds,</td>\n",
       "      <td>In the Name of God the name of a thing is that...</td>\n",
       "      <td>And on his authority it is related that Ibn 'A...</td>\n",
       "      <td>Al-Fatihah</td>\n",
       "      <td>ٱلْفَاتِحَة</td>\n",
       "      <td>al-Ḥamd</td>\n",
       "      <td>7</td>\n",
       "      <td>1</td>\n",
       "      <td>Makkah</td>\n",
       "    </tr>\n",
       "    <tr>\n",
       "      <th>2</th>\n",
       "      <td>The Opening</td>\n",
       "      <td>1</td>\n",
       "      <td>3</td>\n",
       "      <td>ٱلرَّحْمـٰنِ ٱلرَّحِيمِ</td>\n",
       "      <td>Master of the Day of Judgment.</td>\n",
       "      <td>the All-merciful, the All-compassionate,</td>\n",
       "      <td>The Beneficent, the Merciful.</td>\n",
       "      <td>The Compassionate the Merciful that is to say ...</td>\n",
       "      <td>(The Beneficent) the Gentle. (The Merciful) th...</td>\n",
       "      <td>Al-Fatihah</td>\n",
       "      <td>ٱلْفَاتِحَة</td>\n",
       "      <td>al-Ḥamd</td>\n",
       "      <td>7</td>\n",
       "      <td>1</td>\n",
       "      <td>Makkah</td>\n",
       "    </tr>\n",
       "    <tr>\n",
       "      <th>3</th>\n",
       "      <td>The Opening</td>\n",
       "      <td>1</td>\n",
       "      <td>4</td>\n",
       "      <td>مَـٰلِكِ يَوْمِ ٱلدِّينِ</td>\n",
       "      <td>(O Allah!) You alone do we worship and to You ...</td>\n",
       "      <td>the Master of the Day of Doom.</td>\n",
       "      <td>Owner of the Day of Judgment,</td>\n",
       "      <td>Master of the Day of Judgement that is the day...</td>\n",
       "      <td>(Owner of the Day of Judgement) the Arbitrator...</td>\n",
       "      <td>Al-Fatihah</td>\n",
       "      <td>ٱلْفَاتِحَة</td>\n",
       "      <td>al-Ḥamd</td>\n",
       "      <td>7</td>\n",
       "      <td>1</td>\n",
       "      <td>Makkah</td>\n",
       "    </tr>\n",
       "    <tr>\n",
       "      <th>4</th>\n",
       "      <td>The Opening</td>\n",
       "      <td>1</td>\n",
       "      <td>5</td>\n",
       "      <td>إِيَّاكَ نَعْبُدُ وَإِيَّاكَ نَسْتَعِينُ</td>\n",
       "      <td>Show us the straight path,</td>\n",
       "      <td>Thee only we serve; to Thee alone we pray for ...</td>\n",
       "      <td>Thee (alone) we worship; Thee (alone) we ask f...</td>\n",
       "      <td>You alone we worship and You alone we ask for ...</td>\n",
       "      <td>(Thee (alone) we worship), we turn to you as t...</td>\n",
       "      <td>Al-Fatihah</td>\n",
       "      <td>ٱلْفَاتِحَة</td>\n",
       "      <td>al-Ḥamd</td>\n",
       "      <td>7</td>\n",
       "      <td>1</td>\n",
       "      <td>Makkah</td>\n",
       "    </tr>\n",
       "  </tbody>\n",
       "</table>\n",
       "</div>"
      ],
      "text/plain": [
       "          Name  Surah  Ayat                                    Arabic  \\\n",
       "0  The Opening      1     1        بِسمِ ٱلله الرَّحْمٰنِ الرَّحِيـمِ   \n",
       "1  The Opening      1     2      ٱلْحَمْدُ للَّهِ رَبِّ ٱلْعَالَمِينَ   \n",
       "2  The Opening      1     3                   ٱلرَّحْمـٰنِ ٱلرَّحِيمِ   \n",
       "3  The Opening      1     4                  مَـٰلِكِ يَوْمِ ٱلدِّينِ   \n",
       "4  The Opening      1     5  إِيَّاكَ نَعْبُدُ وَإِيَّاكَ نَسْتَعِينُ   \n",
       "\n",
       "               Translation - Muhammad Tahir-ul-Qadri  \\\n",
       "0  All praise be to Allah alone, the Sustainer of...   \n",
       "1                 Most Compassionate, Ever-Merciful,   \n",
       "2                     Master of the Day of Judgment.   \n",
       "3  (O Allah!) You alone do we worship and to You ...   \n",
       "4                         Show us the straight path,   \n",
       "\n",
       "                              Translation - Arthur J  \\\n",
       "0  In the Name of God, the Merciful, the Compassi...   \n",
       "1      Praise belongs to God, the Lord of all Being,   \n",
       "2           the All-merciful, the All-compassionate,   \n",
       "3                     the Master of the Day of Doom.   \n",
       "4  Thee only we serve; to Thee alone we pray for ...   \n",
       "\n",
       "                   Translation - Marmaduke Pickthall  \\\n",
       "0  In the name of Allah, the Beneficent, the Merc...   \n",
       "1            Praise be to Allah, Lord of the Worlds,   \n",
       "2                      The Beneficent, the Merciful.   \n",
       "3                      Owner of the Day of Judgment,   \n",
       "4  Thee (alone) we worship; Thee (alone) we ask f...   \n",
       "\n",
       "                       Tafaseer - Tafsir al-Jalalayn  \\\n",
       "0  In the Name of God the Compassionate the Merciful   \n",
       "1  In the Name of God the name of a thing is that...   \n",
       "2  The Compassionate the Merciful that is to say ...   \n",
       "3  Master of the Day of Judgement that is the day...   \n",
       "4  You alone we worship and You alone we ask for ...   \n",
       "\n",
       "    Tafaseer - Tanwir al-Miqbas min Tafsir Ibn Abbas EnglishTitle  \\\n",
       "0  In the name of Allah, the Beneficent, the Merc...   Al-Fatihah   \n",
       "1  And on his authority it is related that Ibn 'A...   Al-Fatihah   \n",
       "2  (The Beneficent) the Gentle. (The Merciful) th...   Al-Fatihah   \n",
       "3  (Owner of the Day of Judgement) the Arbitrator...   Al-Fatihah   \n",
       "4  (Thee (alone) we worship), we turn to you as t...   Al-Fatihah   \n",
       "\n",
       "   ArabicTitle RomanTitle  NumberOfVerses NumberOfRukus PlaceOfRevelation  \n",
       "0  ٱلْفَاتِحَة    al-Ḥamd               7             1            Makkah  \n",
       "1  ٱلْفَاتِحَة    al-Ḥamd               7             1            Makkah  \n",
       "2  ٱلْفَاتِحَة    al-Ḥamd               7             1            Makkah  \n",
       "3  ٱلْفَاتِحَة    al-Ḥamd               7             1            Makkah  \n",
       "4  ٱلْفَاتِحَة    al-Ḥamd               7             1            Makkah  "
      ]
     },
     "execution_count": 2,
     "metadata": {},
     "output_type": "execute_result"
    }
   ],
   "source": [
    "df = pd.read_csv('data/main_df.csv')\n",
    "df.head()"
   ]
  },
  {
   "cell_type": "code",
   "execution_count": 3,
   "metadata": {},
   "outputs": [],
   "source": [
    "translation_col = list(df.columns)\n",
    "translation_col = [x for x in translation_col if \"Translation\" in x]\n",
    "\n",
    "tafaseer_col = list(df.columns)\n",
    "tafaseer_col = [x for x in tafaseer_col if \"Tafaseer\" in x]"
   ]
  },
  {
   "cell_type": "code",
   "execution_count": null,
   "metadata": {},
   "outputs": [],
   "source": []
  },
  {
   "cell_type": "code",
   "execution_count": 4,
   "metadata": {},
   "outputs": [],
   "source": [
    "arabic = []\n",
    "text=[]\n",
    "for index, row in df.iterrows():\n",
    "    arabic.append(row['Arabic'])\n",
    "    t = \"\"\n",
    "    t += row['Name'] + \" | \" + str(row['Arabic'])+\" | \"+ str(row['Surah'])+\" | \"+str(row['Ayat'])+\" | \"\n",
    "    t += row['EnglishTitle'] + \" | \" + str(row['ArabicTitle'])+\" | \"+ str(row['RomanTitle'])+\" | \"\n",
    "    t += row['PlaceOfRevelation'] + \" | \"\n",
    "    for j in translation_col:\n",
    "        t += row[j] + \" + \"\n",
    "    t += \" | \"\n",
    "    for j in tafaseer_col:\n",
    "        t+= row[j] + \" + \"\n",
    "    t = t[:-3]\n",
    "    text.append(t)"
   ]
  },
  {
   "cell_type": "code",
   "execution_count": 5,
   "metadata": {},
   "outputs": [
    {
     "data": {
      "text/plain": [
       "'The Opening | بِسمِ ٱلله الرَّحْمٰنِ الرَّحِيـمِ | 1 | 1 | Al-Fatihah | ٱلْفَاتِحَة | al-Ḥamd | Makkah | All praise be to Allah alone, the Sustainer of all the worlds, + In the Name of God, the Merciful, the Compassionate + In the name of Allah, the Beneficent, the Merciful. +  | In the Name of God the Compassionate the Merciful + In the name of Allah, the Beneficent, the Merciful.'"
      ]
     },
     "execution_count": 5,
     "metadata": {},
     "output_type": "execute_result"
    }
   ],
   "source": [
    "text[0]"
   ]
  },
  {
   "cell_type": "code",
   "execution_count": 6,
   "metadata": {},
   "outputs": [
    {
     "data": {
      "text/plain": [
       "'بِسمِ ٱلله الرَّحْمٰنِ الرَّحِيـمِ'"
      ]
     },
     "execution_count": 6,
     "metadata": {},
     "output_type": "execute_result"
    }
   ],
   "source": [
    "arabic[0]"
   ]
  },
  {
   "cell_type": "code",
   "execution_count": null,
   "metadata": {},
   "outputs": [],
   "source": []
  },
  {
   "cell_type": "code",
   "execution_count": null,
   "metadata": {},
   "outputs": [],
   "source": []
  },
  {
   "cell_type": "code",
   "execution_count": null,
   "metadata": {},
   "outputs": [],
   "source": []
  },
  {
   "cell_type": "code",
   "execution_count": null,
   "metadata": {},
   "outputs": [],
   "source": []
  },
  {
   "cell_type": "code",
   "execution_count": 7,
   "metadata": {},
   "outputs": [],
   "source": [
    "from sklearn.feature_extraction.text import TfidfVectorizer\n",
    "from sklearn.metrics.pairwise import cosine_similarity\n",
    "\n",
    "# Preprocess the dataset\n",
    "vectorizer = TfidfVectorizer()\n",
    "X = vectorizer.fit_transform(text)\n",
    "\n",
    "# Define the search function\n",
    "def search(query, top_k=5):\n",
    "    query_vec = vectorizer.transform([query])\n",
    "    sim_scores = cosine_similarity(query_vec, X).flatten()\n",
    "    top_indices = sim_scores.argsort()[::-1][:top_k]\n",
    "    top_paragraphs = [text[i] for i in top_indices]\n",
    "    \n",
    "    \n",
    "    \n",
    "    return top_paragraphs"
   ]
  },
  {
   "cell_type": "code",
   "execution_count": 8,
   "metadata": {},
   "outputs": [],
   "source": [
    "x = search(\"inheritance\")"
   ]
  },
  {
   "cell_type": "code",
   "execution_count": 9,
   "metadata": {},
   "outputs": [
    {
     "data": {
      "text/plain": [
       "['Smoke',\n",
       " 'كَذَلِكَ وَأَوْرَثْنَاهَا قَوْماً آخَرِينَ',\n",
       " '44',\n",
       " '28',\n",
       " 'Ad-Dukhaan',\n",
       " 'ٱلدُّخَان',\n",
       " 'ad-Dukhān',\n",
       " 'Makkah',\n",
       " 'So it happened! We made another people the inheritors of all that. + Even so; and We bequeathed them upon another people. + Even so (it was), and We made it an inheritance for other folk; + ',\n",
       " 'So it was kadhālika is the predicate of a subject that is missing such as ‘the matter was so’ and We made these an inheritance that is to say their riches for another people namely the Children of Israel. + (Even so (it was)) We destroyed them, (and We made it an inheritance for other folk) We made the Children of Israel inherit all that after they were destroyed;']"
      ]
     },
     "execution_count": 9,
     "metadata": {},
     "output_type": "execute_result"
    }
   ],
   "source": [
    "x[0].split(\" | \")"
   ]
  },
  {
   "cell_type": "code",
   "execution_count": 10,
   "metadata": {},
   "outputs": [
    {
     "data": {
      "text/plain": [
       "['So it was kadhālika is the predicate of a subject that is missing such as ‘the matter was so’ and We made these an inheritance that is to say their riches for another people namely the Children of Israel.',\n",
       " '(Even so (it was)) We destroyed them, (and We made it an inheritance for other folk) We made the Children of Israel inherit all that after they were destroyed;']"
      ]
     },
     "execution_count": 10,
     "metadata": {},
     "output_type": "execute_result"
    }
   ],
   "source": [
    "x[0].split(\" | \")[-1].split(\" + \")"
   ]
  },
  {
   "cell_type": "code",
   "execution_count": 11,
   "metadata": {},
   "outputs": [
    {
     "data": {
      "text/plain": [
       "['So it happened! We made another people the inheritors of all that.',\n",
       " 'Even so; and We bequeathed them upon another people.',\n",
       " 'Even so (it was), and We made it an inheritance for other folk;',\n",
       " '']"
      ]
     },
     "execution_count": 11,
     "metadata": {},
     "output_type": "execute_result"
    }
   ],
   "source": [
    "x[0].split(\" | \")[-2].split(\" + \")"
   ]
  },
  {
   "cell_type": "code",
   "execution_count": null,
   "metadata": {},
   "outputs": [],
   "source": []
  },
  {
   "cell_type": "code",
   "execution_count": 12,
   "metadata": {},
   "outputs": [],
   "source": [
    "import nltk\n",
    "from nltk.corpus import stopwords\n",
    "from nltk.tokenize import word_tokenize\n",
    "from nltk.stem import PorterStemmer\n",
    "from collections import defaultdict\n",
    "import numpy as np \n",
    "\n",
    "\n",
    "class SearchEngine:\n",
    "    def __init__(self, documents):\n",
    "        self.documents = documents\n",
    "        self.stop_words = set(stopwords.words('english'))\n",
    "        self.index = defaultdict(list)\n",
    "        self.document_lengths = []\n",
    "        self.total_documents = len(documents)\n",
    "        self.idf = {}\n",
    "\n",
    "        # Preprocess the documents and build the search index\n",
    "        self.build_index()\n",
    "\n",
    "    def preprocess(self, document):\n",
    "        \"\"\"\n",
    "        Tokenize, remove stop words, and stem the words in the document.\n",
    "        \"\"\"\n",
    "        words = word_tokenize(document.lower())\n",
    "        words = [word for word in words if word.isalpha() and word not in self.stop_words]\n",
    "        ps = PorterStemmer()\n",
    "        words = [ps.stem(word) for word in words]\n",
    "        return words\n",
    "\n",
    "    def build_index(self):\n",
    "        \"\"\"\n",
    "        Build an inverted index of the preprocessed documents.\n",
    "        \"\"\"\n",
    "        for i, document in enumerate(self.documents):\n",
    "            words = self.preprocess(document)\n",
    "            self.document_lengths.append(len(words))\n",
    "            for word in words:\n",
    "                self.index[word].append(i)\n",
    "\n",
    "        # Compute IDF for each term\n",
    "        for term in self.index:\n",
    "            self.idf[term] = 1 + np.log(self.total_documents / len(self.index[term]))\n",
    "\n",
    "    def search(self, query, top_k=10):\n",
    "        \"\"\"\n",
    "        Search the documents for the given query and return the top_k most relevant documents.\n",
    "        \"\"\"\n",
    "        query_words = self.preprocess(query)\n",
    "\n",
    "        # Compute the TF-IDF score for each document\n",
    "        scores = defaultdict(float)\n",
    "        for word in query_words:\n",
    "            if word in self.index:\n",
    "                for doc_id in self.index[word]:\n",
    "                    tf = self.documents[doc_id].count(word) / self.document_lengths[doc_id]\n",
    "                    scores[doc_id] += tf * self.idf[word]\n",
    "\n",
    "        # Sort the documents by their scores\n",
    "        sorted_docs = sorted(scores.items(), key=lambda x: x[1], reverse=True)\n",
    "\n",
    "        # Return the top_k most relevant documents\n",
    "        top_docs = [self.documents[doc_id] for doc_id, score in sorted_docs[:top_k]]\n",
    "\n",
    "        return top_docs\n"
   ]
  },
  {
   "cell_type": "code",
   "execution_count": 13,
   "metadata": {},
   "outputs": [],
   "source": [
    "s = SearchEngine(text)"
   ]
  },
  {
   "cell_type": "code",
   "execution_count": 22,
   "metadata": {},
   "outputs": [
    {
     "data": {
      "text/plain": [
       "[\"The Cow | أَيَّاماً مَّعْدُودَاتٍ فَمَن كَانَ مِنكُم مَّرِيضاً أَوْ عَلَىٰ سَفَرٍ فَعِدَّةٌ مِّنْ أَيَّامٍ أُخَرَ وَعَلَى ٱلَّذِينَ يُطِيقُونَهُ فِدْيَةٌ طَعَامُ مِسْكِينٍ فَمَن تَطَوَّعَ خَيْراً فَهُوَ خَيْرٌ لَّهُ وَأَن تَصُومُواْ خَيْرٌ لَّكُمْ إِن كُنْتُمْ تَعْلَمُونَ | 2 | 184 | Al-Baqarah | ٱلْبَقَرَة | al-Baq̈arah | Madinah | (These are) a fixed number of days. So, whoever amongst you is ill or on a journey, then he shall complete fasting for the fixed number by (fasting on) other days. But those who are not able to fast, it is obligatory on them to provide food for a needy person in lieu of that. But whoever does (greater) good seeking pleasure, that is better for him. And your fasting is better for you if you understand. + for days numbered; and if any of you be sick, or if he be on a journey, then a number of other days; and for those who are able to fast, a redemption by feeding a poor man. Yet better it is for him who volunteers good, and that you should fast is better for you, if you but know; + (Fast) a certain number of days; and (for) him who is sick among you, or on a journey, (the same) number of other days; and for those who can afford it there is a ransom: the feeding of a man in need - but whoso doeth good of his own accord, it is better for him: and that ye fast is better for you if ye did but know - +  | For days ayyāman ‘days’ is in the accusative as the object of al-siyām ‘the fast’ or of an implied yasūmū ‘he fasts’ numbered few or specific in number that is those of Ramadān as will be mentioned below; God has specified a small number as a way of facilitating matters for those under the obligation; and if any of you during the month be sick or be on a journey in which prayers are shortened or if one is strained by the fast in both cases and breaks it then a number of other days equal to the ones during which he broke his fast — let him fast them instead; and for those who are not able to do it to fast on account of old age or chronic illness a redemption which is the feeding of a poor man with about the same amount one consumes in a given day that is one mudd measure of the principal food of that town each day a variant reading has genitive fidyatin as an explicative clause. It is also said that the lā negation of the verb yutīqūnahu is not actually implied because at the very beginning of Islam they could choose between fasting or offering the redemption; but later on this was abrogated by fixing the Fast as an obligation where God says So let those of you who are present at the month fast it Q. 2185 Ibn ‘Abbās said by way of qualification ‘Except for the pregnant one and the one breastfeeding if they break their fast out of concern for the child; in the case of these two the verse remains valid and has not been abrogated’. For him who volunteers good by offering more than the minimum amount mentioned for the redemption; that volunteering is good for him; but that you should fast wa-an tasūmū is the subject is better for you khayrun lakum is its predicate than breaking the fast and paying the redemption if you but knew that this is better for you then do it. + ((Fast) a certain number of days) 30 days; (and (for) him who is sick among you, or on a journey, (the same) number of other days) let him fast the same number of days he missed; (and for those who can afford it) afford to fast (there is a ransom: the feeding of a man in need-) let him feed a person in need, instead of every day of the fast that he missed, half a measure of wheat. But this is abrogated by Allah's saying: (And whoever of you is present, let him fast the month). It is also said that this means: those who can afford a ransom and are not able to fast, old men and women who are unable to fast, they should feed a needy person, for every missed day of fast in Ramadan, half a measure of wheat. (But whoso doeth good of his own accord) gives more than two pounds, (it is better for him) in terms of reward: (and that ye fast is better for you) than giving ransom (if ye did but know-)\",\n",
       " \"The Cow | شَهْرُ رَمَضَانَ ٱلَّذِيۤ أُنْزِلَ فِيهِ ٱلْقُرْآنُ هُدًى لِّلنَّاسِ وَبَيِّنَاتٍ مِّنَ ٱلْهُدَىٰ وَٱلْفُرْقَانِ فَمَن شَهِدَ مِنكُمُ ٱلشَّهْرَ فَلْيَصُمْهُ وَمَن كَانَ مَرِيضاً أَوْ عَلَىٰ سَفَرٍ فَعِدَّةٌ مِّنْ أَيَّامٍ أُخَرَ يُرِيدُ ٱللَّهُ بِكُمُ ٱلْيُسْرَ وَلاَ يُرِيدُ بِكُمُ ٱلْعُسْرَ وَلِتُكْمِلُواْ ٱلْعِدَّةَ وَلِتُكَبِّرُواْ ٱللَّهَ عَلَىٰ مَا هَدَاكُمْ وَلَعَلَّكُمْ تَشْكُرُونَ | 2 | 185 | Al-Baqarah | ٱلْبَقَرَة | al-Baq̈arah | Madinah | The month of Ramadan (is the month) in which the Qur’an has been sent down as guidance for mankind containing clear signs which lead (to the straight road) and distinguishing (the truth from falsehood). Therefore, he who witnesses this month must fast it, and he who is ill or on a journey should complete the count by (fasting on equal number of) other days. Allah desires ease for you and does not desire hardship for you so that you complete the prescribed number of fasting days, and that you glorify Him for the guidance which He has blessed you with, and that you may become grateful. + the month of Ramadan, wherein the Koran was sent down to be a guidance to the people, and as clear signs of the Guidance and the Salvation. So let those of you, who are present at the month, fast it; and if any of you be sick, or if he be on a journey, then a number of other days; God desires ease for you, and desires not hardship for you; and that you fulfil the number, and magnify God that He has guided you, and haply you will be thankful. + The month of Ramadan in which was revealed the Qur’an, a guidance for mankind, and clear proofs of the guidance, and the Criterion (of right and wrong). And whosoever of you is present, let him fast the month, and whosoever of you is sick or on a journey, (let him fast the same) number of other days. Allah desireth for you ease; He desireth not hardship for you; and (He desireth) that ye should complete the period, and that ye should magnify Allah for having guided you, and that peradventure ye may be thankful. +  | These days of the month of Ramadān wherein the Qur’ān was revealed from the Preserved Tablet to the earthly heaven on the Night of Ordainment laylat al-qadr from Him a guidance hudan ‘a guidance’ is a circumstantial qualifier guiding away from error for the people and as clear proofs lucid verses of the Guidance the rulings that guide to truth and of the Criterion that discriminates between truth and falsehood; So let those of you who are present at the month fast it and if any of you be sick or if he be on a journey then a number of other days this concession has already been mentioned but it is repeated here to avoid the mistaken impression that it has been abrogated by the comprehensive implication of man shahida ‘who are present’. God desires ease for you and desires not hardship for you and for this reason He has permitted you the breaking of the fast during illness or travel this ease being the very reason He has commanded you to fast; He supplements the previous statement with and that you fulfil read tukmilū or tukammilū the number of the fasting days of Ramadān and magnify God when you have completed them for having guided you for having directed you to the principal rites of His religion and that you might be thankful to God for this. + (The month of Ramadan is) the month in (which was revealed the Qur'an) whereupon Gabriel brought down the entire Qur'an to the first heaven, dictated it to the scribes among the angels (al-safarah) and then took it down to Muhammad (pbuh) day after day, sometimes revealing to him just one, two or three verses and sometimes an entire surah, (a guidance for mankind) the Qur'an elucidates error to people, (and clear proofs of the guidance) in the matter of Religion, (and the Criterion (of right and wrong)) the lawful and the unlawful, the legal rulings, legal punishments and the steering away from doubtful matters. (And whoever of you is present) in settled areas and not travelling, (let him fast the month. And whoever of you is sick) during the month of Ramadan (or on a journey, (let him fast the same) number of days) at another time. (Allah desireth for your ease) He desires for you the dispensation of breaking the fast while on a journey; it is also said that this means: Allah wants you to break the fast when travelling; (He desireth not hardship for you) He does not desire for you the hardship of fasting while travelling; (and (He desireth) that ye should complete the period) that you should fast when you are back in your settlement the same number of days of fast you broke during your travel, (and that ye should magnify Allah for having guided you) as He guided you to His religion and legal dispensation, (and that peradventure ye may be thankful) so that you be thankful for His giving you this dispensation.\",\n",
       " \"Ornaments of Gold | فَٱسْتَمْسِكْ بِٱلَّذِيۤ أُوحِيَ إِلَيْكَ إِنَّكَ عَلَىٰ صِرَاطٍ مُّسْتَقِيمٍ | 43 | 43 | Az-Zukhruf | ٱلْزُّخْرُف | az-Zukhruf | Makkah | So hold fast to this (Qur’an) which has been revealed to you. Surely, you are (firm) on the straight path. + So hold thou fast unto that which has been revealed unto thee; surely thou art upon a straight path. + So hold thou fast to that which is inspired in thee. Lo! thou art on a right path. +  | So hold fast to that which has been revealed to you namely the Qur’ān; surely you are on a straight path a straight way. + (So hold thou fast to) act upon (that which is inspired in you) i.e. the Qur'an. (Lo! thou) O Muhammad (art on a right path) are on an established religion with which Allah is pleased.\",\n",
       " \"Women | فَأَمَّا ٱلَّذِينَ آمَنُواْ بِٱللَّهِ وَٱعْتَصَمُواْ بِهِ فَسَيُدْخِلُهُمْ فِي رَحْمَةٍ مِّنْهُ وَفَضْلٍ وَيَهْدِيهِمْ إِلَيْهِ صِرَاطاً مُّسْتَقِيماً | 4 | 175 | An-Nisa | ٱلنِّسَاء | an-Nisāʾ | Madinah | So, those who believe in Allah and hold fast to His (embrace, Allah) will soon admit them to His (exceptional) mercy and grace and will show them the straight path to (reach) Him. + As for those who believe in God, and hold fast to Him, He will surely admit them to mercy from Him, and bounty, and will guide them to Him on a straight path. + As for those who believe in Allah, and hold fast unto Him, them He will cause to enter into His mercy and grace, and will guide them unto Him by a straight road. +  | As for those who believe in God and hold fast to Him He will surely admit them to mercy from Him and bounty and He will guide them to Him by a straight path namely the religion of Islam. + (As for those who believe in Allah) as well as in Muhammad and the Qur'an, (and hold fast unto Him) and hold fast to believing in Allah's divine Oneness, (them He will cause to enter into His mercy) in Paradise (and grace) and they shall also receive His honour, (and will guide them unto Him by a straight road) He will confirm them on a straight path in this world. He says: He will confirm them in this world in faith and will enter them into Paradise in the Hereafter.\",\n",
       " 'The Clans | إِنَّ ٱلْمُسْلِمِينَ وَٱلْمُسْلِمَاتِ وَٱلْمُؤْمِنِينَ وَٱلْمُؤْمِنَاتِ وَٱلْقَانِتِينَ وَٱلْقَانِتَاتِ وَٱلصَّادِقِينَ وَٱلصَّادِقَاتِ وَٱلصَّابِرِينَ وَٱلصَّابِرَاتِ وَٱلْخَاشِعِينَ وَٱلْخَاشِعَاتِ وَٱلْمُتَصَدِّقِينَ وَٱلْمُتَصَدِّقَاتِ وٱلصَّائِمِينَ وٱلصَّائِمَاتِ وَٱلْحَافِظِينَ فُرُوجَهُمْ وَٱلْحَافِـظَاتِ وَٱلذَّاكِـرِينَ ٱللَّهَ كَثِيراً وَٱلذَّاكِرَاتِ أَعَدَّ ٱللَّهُ لَهُم مَّغْفِرَةً وَأَجْراً عَظِيماً | 33 | 35 | Al-Ahzaab | ٱلْأَحْزَاب | al-ʾAḥzāb | Madinah | Surely, the submissive men and the submissive women, and the believing men and the believing women, and the obedient men and the obedient women, and the truthful men and the truthful women, and the steadfast men and the steadfast women, and the humble men and the humble women, and the men who give alms and the women who give alms, and the men who fast and the women who fast, and the men who guard their chastity and the women who guard their chastity, and the men who remember Allah abundantly and the women who remember Allah very much—Allah has prepared for all of them forgiveness and a mighty reward. + Men and women who have surrendered, believing men and believing women, obedient men and obedient women, truthful men and truthful women, enduring men and enduring women, humble men and humble women, men and women who give in charity, men who fast and women who fast, men and women who guard their private parts, men and women who remember God oft -- for them God has prepared forgiveness and a mighty wage. + Lo! men who surrender unto Allah, and women who surrender, and men who believe and women who believe, and men who obey and women who obey, and men who speak the truth and women who speak the truth, and men who persevere (in righteousness) and women who persevere, and men who are humble and women who are humble, and men who give alms and women who give alms, and men who fast and women who fast, and men who guard their modesty and women who guard (their modesty), and men who remember Allah much and women who remember - Allah hath prepared for them forgiveness and a vast reward. +  | Indeed the men who have submitted to God and the women who have submitted to God and the believing men and the believing women and the obedient men and the obedient women and the men who are truthful and the women who are truthful in their faith and the patient men and the patient women steadfast in performing acts of obedience and the humble men and the humble women and the charitable men and the charitable women and the men who fast and the women who fast and the men who guard their private parts and the women who guard their private parts from what is unlawful and the men who remember God often and the women who remember God often — for them God has prepared forgiveness of their acts of disobedience and a great reward for their acts of obedience. + Then it was revealed about Umm Salamah, the wife of the Prophet (pbuh) and Nusaybah Bint Ka\\'b al-Ansariyyah who said: \" O Messenger of Allah! Allah does not mention women with anything good; it is all about men \": (Lo! men who surrender unto Allah) the men who profess Allah\\'s divine Oneness, (and women who surrender) and women who profess Allah\\'s divine Oneness, (and men who believe) truly (and women who believe) truly, (and men who obey and women who obey, and men who speak the Truth) and men who are true in their faith (and women who speak the Truth) and women who are true in their faith, (and men who persevere) in fulfilling the commands of Allah and endure misfortunes (and women who persevere) in fulfilling the commands of Allah and endure misfortunes, (and men who are humble and women who are humble, and men who give alms) from their wealth (and women who give alms) from their wealth, (and men who fast and women who fast, and men who guard their modesty and women who guard (their modesty), and men who remember Allah much and women who remember Allah hath prepared for them forgiveness) of their sins (and a vast reward) and an abundant reward in Paradise.',\n",
       " \"The Cow | وَأَتِمُّواْ ٱلْحَجَّ وَٱلْعُمْرَةَ للَّهِ فَإِنْ أُحْصِرْتُمْ فَمَا ٱسْتَيْسَرَ مِنَ ٱلْهَدْيِ وَلاَ تَحْلِقُواْ رُؤُوسَكُمْ حَتَّىٰ يَبْلُغَ ٱلْهَدْيُ مَحِلَّهُ فَمَن كَانَ مِنكُم مَّرِيضاً أَوْ بِهِ أَذًى مِّن رَّأْسِهِ فَفِدْيَةٌ مِّن صِيَامٍ أَوْ صَدَقَةٍ أَوْ نُسُكٍ فَإِذَآ أَمِنتُمْ فَمَن تَمَتَّعَ بِٱلْعُمْرَةِ إِلَى ٱلْحَجِّ فَمَا ٱسْتَيْسَرَ مِنَ ٱلْهَدْيِ فَمَن لَّمْ يَجِدْ فَصِيَامُ ثَلاثَةِ أَيَّامٍ فِي ٱلْحَجِّ وَسَبْعَةٍ إِذَا رَجَعْتُمْ تِلْكَ عَشَرَةٌ كَامِلَةٌ ذٰلِكَ لِمَن لَّمْ يَكُنْ أَهْلُهُ حَاضِرِي ٱلْمَسْجِدِ ٱلْحَرَامِ وَٱتَّقُواْ ٱللَّهَ وَٱعْلَمُواْ أَنَّ ٱللَّهَ شَدِيدُ ٱلْعِقَابِ | 2 | 196 | Al-Baqarah | ٱلْبَقَرَة | al-Baq̈arah | Madinah | And accomplish (the ceremonies of) ±ajj (Pilgrimage) and ‘Umra (Visitation) for Allah. But if you are prevented (on the way), then (send for slaughter) whatever sacrificial animal is available. And do not shave your heads until the sacrificial animal has reached its place. But whoever amongst you is ill or suffers from some ailment of the head (and because of that gets his head shaved before time), then he has to recompense (it) by (keeping) fasts or (giving) alms or (offering) sacrifice. Then, when in peaceful condition, anyone of you who takes the advantage of combining ‘Umra (Visitation) with ±ajj (Pilgrimage) should (offer whatever) sacrifice is available. However, the one who fails to manage even this shall fast for three days during ±ajj ([Pilgrimage] days) and for seven days on returning from ±ajj, making ten days (fasting) in all. This (dispensation) is meant for the one whose family does not reside in the vicinity of the Sacred Mosque (i.e., not a resident of Mecca). And fear Allah and remember that Allah gives severe punishment. + Fulfil the Pilgrimage and the Visitation unto God; but if you are prevented, then such offering as may be feasible. And shave not your heads, till the offering reaches its place of sacrifice. If any of you is sick, or injured in his head, then redemption by fast, or freewill offering, or ritual sacrifice. When you are secure, then whosoever enjoys the Visitation until the Pilgrimage, let his offering be such as may be feasible; or if he finds none, then a fast of three days in the Pilgrimage, and of seven when you return, that is ten completely; that is for him whose family are not present at the Holy Mosque. And fear God, and know that God is terrible in retribution. + Perform the pilgrimage and the visit (to Makka) for Allah. And if ye are prevented, then send such gifts as can be obtained with ease, and shave not your heads until the gifts have reached their destination. And whoever among you is sick or hath an ailment of the head must pay a ransom of fasting or almsgiving or offering. And if ye are in safety, then whosoever contenteth himself with the visit for the pilgrimage (shall give) such gifts as can be had with ease. And whosoever cannot find (such gifts), then a fast of three days while on the pilgrimage, and of seven when ye have returned; that is, ten in all. That is for him whoso folk are not present at the Inviolable Place of Worship. Observe your duty to Allah, and know that Allah is severe in punishment. +  | Fulfil the Pilgrimage and the Visitation to God by completing them according to their due; but if you are prevented from fulfilling them by an enemy then give such offering as may be feasible for you — a sheep — and do not shave your heads that is do not release yourselves from the state of pilgrimage inviolability until the offering mentioned reaches its place its place of sacrifice that is within the enclosure according to al-Shāfi‘ī; the sacrifice is then made with the intention of releasing oneself from the state of pilgrimage inviolability and is divided among the needy after which the head is shaved and the release is effected. If any of you is sick or has an ailment of the head such as lice or severe pains and has thus shaved his head while in a state of pilgrimage inviolability then incumbent upon him is a redemption by fast for three days or a voluntary almsgiving consisting of three cubic measures of the principal food of the town for six needy persons or a ritual sacrifice that is the slaughter of a sheep aw ‘or’ denotes freedom of choice. To this last has been added the case of the one who shaves his head without excuse because the requirement of redemption is most obvious in his case; but also it is required in the case of one that enjoys without shaving such things as scents attire or oils be it with an excuse or without. When you are secure knowing that the enemy has gone or is not present then whoever enjoys the Visitation having completed it and observed its ritual prohibitions until the Pilgrimage until he enters its ritual inviolability in the relevant months; let his offering be such as is feasible for him such as a sheep that he sacrifices after entering into the state of pilgrimage inviolability ideally on the Day of Sacrifice; or if he finds none because there are none available or because he does not have sufficient funds then incumbent upon him is a fast of three days in the Pilgrimage that is to say in a state of pilgrimage inviolability. In such a case he should enter into the state of pilgrimage inviolability before the seventh of Dhū’l-Hijja but ideally before the sixth because one is discouraged from fasting on the Day of ‘Arafa. + (Perform the pilgrimage and the visit for Allah) so that He may accept them, and this by making them sincere unto Him and also by performing the pilgrimage to its final completion and by performing the lesser pilgrimage to the Sacred House. (And if ye are prevented) from performing the pilgrimage or the lesser pilgrimage because of enemies or ill-health, (then send such gifts as can be obtained with ease) then you should offer whatever gifts you can obtain: a sheep, cow or camel in order to leave the Sacred Precinct, (and shave not your heads) if you are prevented (until the gifts) that you have sent (have reached their destination) where it is going to be immolated. (And whoever among you is sick) and cannot remain in the place where he is, then he can return home before his gift reaches its destination (or hath an ailment of the head) or if his head is infested with lice, he should shave it. This verse was revealed about Ka'b Ibn 'Ujrah who shaved his hair when still in a state of ritual consecration because it was infested with lice, (must pay ransom of fasting) the ransom is to fast three days (or almsgiving) to six needy people from the inhabitants of Mecca (or offering) a sheep to be sent to the place of immolation. (And if ye are in safety) from the enemy and you have recovered from your sickness, then you should make up that which Allah has made obligatory upon you in the following year, whether it is a question of the pilgrimage or the lesser pilgrimage, (then whoever contenteth himself with) perfume and clothes after (the visit) the lesser pilgrimage and until he engages in ritual consecration (for the Pilgrimage (shall give) such gifts) then he should offer a sacrifice for making 'Umrah before Hajj (dam al-tamattu') and a sacrifice for doing Hajj and 'Umrah simultaneously (dam al-qaran wa'l-mut'a), whether it is a sheep, cow or camel (as can be had with ease. And whoever cannot find (such gifts)) either a sheep, cow or camel, (then a fast of three days) a fast of three consecutive days (while on the pilgrimage) in the ten days of the pilgrimage, the last of which being the Day of 'Arafah, (and of seven when ye have returned) on your way to your families or after you have returned to your families; (that is, ten in all) in exchange for the gifts.\",\n",
       " \"Ornaments of Gold | أَمْ آتَيْنَاهُمْ كِتَاباً مِّن قَبْلِهِ فَهُم بِهِ مُسْتَمْسِكُونَ | 43 | 21 | Az-Zukhruf | ٱلْزُّخْرُف | az-Zukhruf | Makkah | Have We given them before this any Book which they stick to as an authority? + Or did We bring them a Book aforetime to which they hold? + Or have We given them any scripture before (this Qur’an) so that they are holding fast thereto ? +  | Or have We brought them a scripture before that is before the Qur’ān that they should worship other than God so that they are holding fast to it? In other words this never happened. + (Or have We given them any Scripture before) this Qur'an (so that they are holding fast thereto) so that they take such a belief from this Scripture?\",\n",
       " \"She That Disputeth | فَمَن لَّمْ يَجِدْ فَصِيَامُ شَهْرَيْنِ مُتَتَابِعَيْنِ مِن قَبْلِ أَن يَتَمَآسَّا فَمَن لَّمْ يَسْتَطِعْ فَإِطْعَامُ سِتِّينَ مِسْكِيناً ذَلِكَ لِتُؤْمِنُواْ بِٱللَّهِ وَرَسُولِهِ وَتِلْكَ حُدُودُ ٱللَّهِ وَلِلْكَافِرِينَ عَذَابٌ أَلِيمٌ | 58 | 4 | Al-Mujadila | ٱلْمُجَادِلَة | al-Mujādilah | Madinah | But the one who does not find (a slave) must fast for two consecutive months (as an obligation) before they touch each other. Then someone who is unable to do that must feed sixty poor people (under obligation). That is in order that you may keep your belief in Allah and His Messenger (blessings and peace be upon him). And these are the limits (set by) Allah. And there is a painful punishment for the disbelievers. + But whosoever finds not the means, then let him fast two successive months, before the two of them touch one another. And if any man is not able to, then let him feed sixty poor persons -- that, that you may believe in God and His Messenger. Those are God’s bounds; and for the unbelievers there awaits yet a painful chastisement. + And he who findeth not (the wherewithal), let him fast for two successive months before they touch one another; and for him who is unable to do so (the penance is) the feeding of sixty needy ones. This, that ye may put trust in Allah and His messenger. Such are the limits (imposed by Allah); and for disbelievers is a painful doom. +  | And he who cannot find the wherewithal to set free a slave then his redemption shall be the fasting of two successive months before they touch one another. And if he is unable to fast then the redemption shall be the feeding of sixty needy persons as an obligation upon him that is before they touch one another understanding the unrestricted prescription as having the same restriction as the restricted one. For every needy person he should give one mudd measure of the principal food of the town. This namely lightening of the atonement is so that you may believe in God and His Messenger. And these namely the rulings mentioned are God’s bounds; and for the rejecters of them there is a painful chastisement. + (And he who findeth not (the wherewithal)) the means to free a slave, (let him fast for two successive months before they touch one another) before they have sexual intercourse with one another; (and for him who is unable to do so) i.e. to fast because he is weak ((the penance is) the feeding of sixty needy ones) giving each needy person half a measure (half a sa') of wheat or one measure (sa') of barley or dates. (This) which I have explained regarding the expiation of the Zihar, (that ye may put trust in Allah and His messenger) in order that you acknowledge the obligations of Allah and the wont of His Messenger. (Such are the limits (imposed by Allah)) such are the legal rulings and obligations of Allah regarding the Zihar; (and for disbelievers) in the limits imposed by Allah (is a painful doom) whose pain will extend to their hearts. From the beginning of the surah to this point was revealed about Khawlah Bint Tha'labah Ibn Malik al-Ansariyyah and her husband Aws Ibn al-Samit, the brother of 'Ubadah Ibn al-Samit, who was angered by his wife for refusing him to sleep with her and, as a result, made sexual intercourse with her forbidden on him. But he regretted doing so, and Allah revealed how he could expiate the sin he committed. The Prophet (pbuh) told him: “You should free a slave”. Aws said: “I have very little money and it costs a great deal to free a slave”. The Prophet (pbuh) said: “Then you should fast two successive months”. Aws said: “I cannot do so! If I do not eat once or twice a day my eyesight becomes dim; and I fear peril if I fast”. The Prophet (pbuh) said: “Then you should feed 60 needy ones”. Aws said: “I can not afford it”. The Prophet (pbuh) ordered for him a measure of dates and commanded him to give it to the needy. Aws said: “I do not know of anyone in Medina who is more in need of it than I”. The Prophet (pbuh) told him to eat it and, with the help of another person, the Prophet (pbuh) fed 60 needy people, and this allowed Aws to go back to his wife whom he had declared unlawful for himself.\",\n",
       " \"The Cow | أُحِلَّ لَكُمْ لَيْلَةَ ٱلصِّيَامِ ٱلرَّفَثُ إِلَىٰ نِسَآئِكُمْ هُنَّ لِبَاسٌ لَّكُمْ وَأَنْتُمْ لِبَاسٌ لَّهُنَّ عَلِمَ ٱللَّهُ أَنَّكُمْ كُنتُمْ تَخْتانُونَ أَنْفُسَكُمْ فَتَابَ عَلَيْكُمْ وَعَفَا عَنْكُمْ فَٱلآنَ بَٰشِرُوهُنَّ وَٱبْتَغُواْ مَا كَتَبَ ٱللَّهُ لَكُمْ وَكُلُواْ وَٱشْرَبُواْ حَتَّىٰ يَتَبَيَّنَ لَكُمُ ٱلْخَيْطُ ٱلأَبْيَضُ مِنَ ٱلْخَيْطِ ٱلأَسْوَدِ مِنَ ٱلْفَجْرِ ثُمَّ أَتِمُّواْ ٱلصِّيَامَ إِلَى ٱلَّليْلِ وَلاَ تُبَٰشِرُوهُنَّ وَأَنْتُمْ عَٰكِفُونَ فِي ٱلْمَسَٰجِدِ تِلْكَ حُدُودُ ٱللَّهِ فَلاَ تَقْرَبُوهَا كَذٰلِكَ يُبَيِّنُ ٱللَّهُ ءَايَٰتِهِ لِلنَّاسِ لَعَلَّهُمْ يَتَّقُونَ | 2 | 187 | Al-Baqarah | ٱلْبَقَرَة | al-Baq̈arah | Madinah | It is made lawful for you to approach your wives during the nights of the fasts. They are like clothes for you and you are like clothes for them. Allah knows that you broke the trust in the case of your own right. But He has shown mercy to you and has forgiven you. So, have sexual relations with them now (during the nights of the fasts without any inhibition) and seek what Allah has prescribed for you. And eat and drink until the white thread of dawn becomes distinct to you (separated) from the black thread (of night). Then complete the fast till dusk. And refrain from having sexual contact with your wives, whilst you are in retreat in the mosques. These are the bounds (set) by Allah. So do not draw near to them (to step over). Thus Allah explains His Verses (clearly) for the people, so that they may embrace piety. + Permitted to you, upon the night of the Fast, is to go in to your wives; -- they are a vestment for you, and you are a vestment for them. God knows that you have been betraying yourselves, and has turned to you and pardoned you. So now lie with them, and seek what God has prescribed for you. And eat and drink, until the white thread shows clearly to you from the black thread at the dawn; then complete the Fast unto the night, and do not lie with them while you cleave to the mosques. Those are God’s bounds; keep well within them. So God makes clear His signs to men; haply they will be godfearing. + It is made lawful for you to go in unto your wives on the night of the fast. They are raiment for you and ye are raiment for them. Allah is Aware that ye were deceiving yourselves in this respect and He hath turned in mercy toward you and relieved you. So hold intercourse with them and seek that which Allah hath ordained for you, and eat and drink until the white thread becometh distinct to you from the black thread of the dawn. Then strictly observe the fast till nightfall and touch them not, but be at your devotions in the mosques. These are the limits imposed by Allah, so approach them not. Thus Allah expoundeth His revelation to mankind that they may ward off (evil). +  | Permitted to you upon the night of the Fast is to go in to your wives in sexual intercourse this was revealed as an abrogation of its unlawfulness during the earliest phase of Islam as well as an abrogation of the unlawfulness of eating and drinking after the night prayer; they are a vestment for you and you are a vestment for them a metaphor for their embraces or their need for one another; God knows that you have been betraying yourselves by having sexual intercourse on the eve of the fast this happened with ‘Umar b. al-Khattāb and others and they apologised to the Prophet s and so He has turned to you relenting before you even turned in repentance and He has pardoned you. So now when it is permitted to you lie with them in sexual intercourse and seek what God has prescribed for you of sexual intercourse or what it produces of offspring; and eat and drink at any time during the night until the white thread is distinct to you from the black thread at daybreak that is the true moment of daybreak which explains the white thread while the explanation of the black thread namely the night has been left out. The whiteness and the darkness of the dawn twilight are likened to two black and white threads in the way they stretch out; then complete the fast from daybreak to the night that is until it arrives after the setting of the sun; and do not lie with them your women while you cleave to the mosques in devotion to God while you are residing therein with the intention of performing i‘tikāf ‘spiritual retreat’. This was a prohibition pertaining to one who used to leave the mosque whilst in a state of i‘tikāf have sexual intercourse with his wife and then return. Those rulings mentioned are God’s bounds delimited by God for His servants so that they do not overstep them; do not approach them lā taqrabūhā is more intense than lā ta‘taddūhā ‘Do not overstep’ used in verses elsewhere. So just as He makes clear to you what has been mentioned God makes clear His signs to people so that they might fear disobeying His prohibitions. + (It is made lawful for you to go unto your wives on the night of the fast) for sexual intercourse. (They are raiment for you) a repose for you (and you are raiment for them) a repose for them. (Allah is aware that ye were deceiving yourselves in this respect) by having sexual intercourse with them at night (and He hath turned in mercy towards you) He forgave you (and relieved you) from your deception and did not punish you. (So) now that it is made lawful, (hold intercourse with them and seek that which Allah hath ordained for you) to have a righteous child; this verse was revealed about 'Umar Ibn al-Khattab, (and eat and drink) from the time the night falls (until the white thread becometh distinct to you from the black thread of the dawn) i.e. until the light of day becomes distinct to you from the darkness of night. (Then strictly observe the fast till nightfall) the beginning of nightfall; this verse was revealed about Sirmah Ibn Malik Ibn 'Adiyy (and touch them not) do not have sexual intercourse with them, (while you are at your devotions) in pious retreat (in the mosques) whether this is during the day or the night. (These are the limits imposed by Allah) such sexual intercourse is a transgression against Allah, (so approach them not) abstain from having sexual intercourse with your wives, during the day and at night, while you are in such retreats. (Thus Allah expoundeth His revelations) His commands and prohibitions (to mankind) as He has exposited this matter (that they may ward off (evil)) they may ward off transgressing against Him. This verse was revealed about a group of Companions of Allah's Messenger (pbuh) among whom were 'Ali Ibn Abi Talib and 'Ammar Ibn Yasir, who were in retreat in the mosque and used to go to their wives whenever they needed them, and then take a ritual bath and return to the mosque. Henceforth but they were forbidden to do so.\",\n",
       " 'The Cow | يٰأَيُّهَا ٱلَّذِينَ آمَنُواْ كُتِبَ عَلَيْكُمُ ٱلصِّيَامُ كَمَا كُتِبَ عَلَى ٱلَّذِينَ مِن قَبْلِكُمْ لَعَلَّكُمْ تَتَّقُونَ | 2 | 183 | Al-Baqarah | ٱلْبَقَرَة | al-Baq̈arah | Madinah | O believers! Fasting is prescribed for you as it was prescribed for the people before you so that you may become pious. + O believers, prescribed for you is the Fast, even as it was prescribed for those that were before you -- haply you will be godfearing -- + O ye who believe! Fasting is prescribed for you, even as it was prescribed for those before you, that ye may ward off (evil); +  | O you who believe prescribed for you obligatory for you is the Fast just as it was prescribed for those communities that were before you so that you might guard yourselves against acts of disobedience for it the fast curbs the desires that prompt these acts. + (O ye who believe! Fasting is prescribed for you) for a specific number of days; it is said that this means: fasting is prescribed for you: you abstain from eating and drinking and from sexual intercourse from the dawn prayer or from the time one sleeps before the dawn prayer, (even as it was prescribed for those before you) for the people of the Book, (that ye may ward off (evil)) that you may ward off eating, drinking and sexual intercourse after the last night prayer or before sleeping after the last night prayer. However, this is abrogated by the verses: (It is made lawful for you to go unto your wives on the night of the fast) and (and eat and drink until the white thread becomes distinct to you from the black thread of the dawn).']"
      ]
     },
     "execution_count": 22,
     "metadata": {},
     "output_type": "execute_result"
    }
   ],
   "source": [
    "s.search(\"fast\")"
   ]
  },
  {
   "cell_type": "code",
   "execution_count": null,
   "metadata": {},
   "outputs": [],
   "source": []
  },
  {
   "cell_type": "code",
   "execution_count": null,
   "metadata": {},
   "outputs": [],
   "source": []
  },
  {
   "cell_type": "code",
   "execution_count": null,
   "metadata": {},
   "outputs": [],
   "source": []
  },
  {
   "cell_type": "code",
   "execution_count": null,
   "metadata": {},
   "outputs": [],
   "source": []
  },
  {
   "cell_type": "code",
   "execution_count": 15,
   "metadata": {},
   "outputs": [],
   "source": [
    "from deep_translator import GoogleTranslator\n",
    "# translate Urdu text to English\n"
   ]
  },
  {
   "cell_type": "code",
   "execution_count": 16,
   "metadata": {},
   "outputs": [
    {
     "name": "stdout",
     "output_type": "stream",
     "text": [
      "We are Pakistanis\n",
      "my name is rashid\n"
     ]
    }
   ],
   "source": [
    "\n",
    "\n",
    "urdu_text = \"ہم پاکستانی\"\n",
    "english_text = GoogleTranslator(source='auto', target='en').translate(urdu_text)\n",
    "print(english_text)  # output: \"We are Pakistani\"\n",
    "\n",
    "# translate Roman text to English\n",
    "roman_text = \"mera naam Rashid hai\"\n",
    "english_text = GoogleTranslator(source='auto', target='en').translate(roman_text)\n",
    "print(english_text)  # output: \"My name is Rashid\""
   ]
  },
  {
   "cell_type": "code",
   "execution_count": 17,
   "metadata": {
    "scrolled": false
   },
   "outputs": [
    {
     "data": {
      "text/plain": [
       "{'afrikaans': 'af',\n",
       " 'albanian': 'sq',\n",
       " 'amharic': 'am',\n",
       " 'arabic': 'ar',\n",
       " 'armenian': 'hy',\n",
       " 'assamese': 'as',\n",
       " 'aymara': 'ay',\n",
       " 'azerbaijani': 'az',\n",
       " 'bambara': 'bm',\n",
       " 'basque': 'eu',\n",
       " 'belarusian': 'be',\n",
       " 'bengali': 'bn',\n",
       " 'bhojpuri': 'bho',\n",
       " 'bosnian': 'bs',\n",
       " 'bulgarian': 'bg',\n",
       " 'catalan': 'ca',\n",
       " 'cebuano': 'ceb',\n",
       " 'chichewa': 'ny',\n",
       " 'chinese (simplified)': 'zh-CN',\n",
       " 'chinese (traditional)': 'zh-TW',\n",
       " 'corsican': 'co',\n",
       " 'croatian': 'hr',\n",
       " 'czech': 'cs',\n",
       " 'danish': 'da',\n",
       " 'dhivehi': 'dv',\n",
       " 'dogri': 'doi',\n",
       " 'dutch': 'nl',\n",
       " 'english': 'en',\n",
       " 'esperanto': 'eo',\n",
       " 'estonian': 'et',\n",
       " 'ewe': 'ee',\n",
       " 'filipino': 'tl',\n",
       " 'finnish': 'fi',\n",
       " 'french': 'fr',\n",
       " 'frisian': 'fy',\n",
       " 'galician': 'gl',\n",
       " 'georgian': 'ka',\n",
       " 'german': 'de',\n",
       " 'greek': 'el',\n",
       " 'guarani': 'gn',\n",
       " 'gujarati': 'gu',\n",
       " 'haitian creole': 'ht',\n",
       " 'hausa': 'ha',\n",
       " 'hawaiian': 'haw',\n",
       " 'hebrew': 'iw',\n",
       " 'hindi': 'hi',\n",
       " 'hmong': 'hmn',\n",
       " 'hungarian': 'hu',\n",
       " 'icelandic': 'is',\n",
       " 'igbo': 'ig',\n",
       " 'ilocano': 'ilo',\n",
       " 'indonesian': 'id',\n",
       " 'irish': 'ga',\n",
       " 'italian': 'it',\n",
       " 'japanese': 'ja',\n",
       " 'javanese': 'jw',\n",
       " 'kannada': 'kn',\n",
       " 'kazakh': 'kk',\n",
       " 'khmer': 'km',\n",
       " 'kinyarwanda': 'rw',\n",
       " 'konkani': 'gom',\n",
       " 'korean': 'ko',\n",
       " 'krio': 'kri',\n",
       " 'kurdish (kurmanji)': 'ku',\n",
       " 'kurdish (sorani)': 'ckb',\n",
       " 'kyrgyz': 'ky',\n",
       " 'lao': 'lo',\n",
       " 'latin': 'la',\n",
       " 'latvian': 'lv',\n",
       " 'lingala': 'ln',\n",
       " 'lithuanian': 'lt',\n",
       " 'luganda': 'lg',\n",
       " 'luxembourgish': 'lb',\n",
       " 'macedonian': 'mk',\n",
       " 'maithili': 'mai',\n",
       " 'malagasy': 'mg',\n",
       " 'malay': 'ms',\n",
       " 'malayalam': 'ml',\n",
       " 'maltese': 'mt',\n",
       " 'maori': 'mi',\n",
       " 'marathi': 'mr',\n",
       " 'meiteilon (manipuri)': 'mni-Mtei',\n",
       " 'mizo': 'lus',\n",
       " 'mongolian': 'mn',\n",
       " 'myanmar': 'my',\n",
       " 'nepali': 'ne',\n",
       " 'norwegian': 'no',\n",
       " 'odia (oriya)': 'or',\n",
       " 'oromo': 'om',\n",
       " 'pashto': 'ps',\n",
       " 'persian': 'fa',\n",
       " 'polish': 'pl',\n",
       " 'portuguese': 'pt',\n",
       " 'punjabi': 'pa',\n",
       " 'quechua': 'qu',\n",
       " 'romanian': 'ro',\n",
       " 'russian': 'ru',\n",
       " 'samoan': 'sm',\n",
       " 'sanskrit': 'sa',\n",
       " 'scots gaelic': 'gd',\n",
       " 'sepedi': 'nso',\n",
       " 'serbian': 'sr',\n",
       " 'sesotho': 'st',\n",
       " 'shona': 'sn',\n",
       " 'sindhi': 'sd',\n",
       " 'sinhala': 'si',\n",
       " 'slovak': 'sk',\n",
       " 'slovenian': 'sl',\n",
       " 'somali': 'so',\n",
       " 'spanish': 'es',\n",
       " 'sundanese': 'su',\n",
       " 'swahili': 'sw',\n",
       " 'swedish': 'sv',\n",
       " 'tajik': 'tg',\n",
       " 'tamil': 'ta',\n",
       " 'tatar': 'tt',\n",
       " 'telugu': 'te',\n",
       " 'thai': 'th',\n",
       " 'tigrinya': 'ti',\n",
       " 'tsonga': 'ts',\n",
       " 'turkish': 'tr',\n",
       " 'turkmen': 'tk',\n",
       " 'twi': 'ak',\n",
       " 'ukrainian': 'uk',\n",
       " 'urdu': 'ur',\n",
       " 'uyghur': 'ug',\n",
       " 'uzbek': 'uz',\n",
       " 'vietnamese': 'vi',\n",
       " 'welsh': 'cy',\n",
       " 'xhosa': 'xh',\n",
       " 'yiddish': 'yi',\n",
       " 'yoruba': 'yo',\n",
       " 'zulu': 'zu'}"
      ]
     },
     "execution_count": 17,
     "metadata": {},
     "output_type": "execute_result"
    }
   ],
   "source": [
    "GoogleTranslator().get_supported_languages(as_dict=True) "
   ]
  },
  {
   "cell_type": "code",
   "execution_count": null,
   "metadata": {},
   "outputs": [],
   "source": []
  },
  {
   "cell_type": "code",
   "execution_count": 18,
   "metadata": {},
   "outputs": [],
   "source": [
    "import re"
   ]
  },
  {
   "cell_type": "code",
   "execution_count": 19,
   "metadata": {},
   "outputs": [],
   "source": [
    "email = \"user@doma\""
   ]
  },
  {
   "cell_type": "code",
   "execution_count": 20,
   "metadata": {},
   "outputs": [],
   "source": [
    "re.match(r'^[a-zA-Z0-9._%+-]+@[a-zA-Z0-9.-]+\\.[a-zA-Z]{2,}$', email)"
   ]
  },
  {
   "cell_type": "code",
   "execution_count": 21,
   "metadata": {},
   "outputs": [
    {
     "data": {
      "text/plain": [
       "<function __main__.<lambda>(email)>"
      ]
     },
     "execution_count": 21,
     "metadata": {},
     "output_type": "execute_result"
    }
   ],
   "source": [
    "lambda email: re.match(r'^[a-zA-Z0-9._%+-]+@[a-zA-Z0-9.-]+\\.[a-zA-Z]{2,}$', email) is not None"
   ]
  },
  {
   "cell_type": "code",
   "execution_count": null,
   "metadata": {},
   "outputs": [],
   "source": []
  }
 ],
 "metadata": {
  "kernelspec": {
   "display_name": "Python 3 (ipykernel)",
   "language": "python",
   "name": "python3"
  },
  "language_info": {
   "codemirror_mode": {
    "name": "ipython",
    "version": 3
   },
   "file_extension": ".py",
   "mimetype": "text/x-python",
   "name": "python",
   "nbconvert_exporter": "python",
   "pygments_lexer": "ipython3",
   "version": "3.9.16"
  },
  "vscode": {
   "interpreter": {
    "hash": "a665b5d41d17b532ea9890333293a1b812fa0b73c9c25c950b3cedf1bebd0438"
   }
  }
 },
 "nbformat": 4,
 "nbformat_minor": 2
}
