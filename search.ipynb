{
 "cells": [
  {
   "cell_type": "code",
   "execution_count": 17,
   "metadata": {},
   "outputs": [],
   "source": [
    "import pandas as pd\n",
    "import numpy as np\n",
    "\n",
    "import re\n",
    "from tqdm import tqdm\n",
    "\n",
    "import pickle"
   ]
  },
  {
   "cell_type": "markdown",
   "metadata": {},
   "source": [
    "# Processing"
   ]
  },
  {
   "cell_type": "code",
   "execution_count": 4,
   "metadata": {},
   "outputs": [
    {
     "data": {
      "text/html": [
       "<div>\n",
       "<style scoped>\n",
       "    .dataframe tbody tr th:only-of-type {\n",
       "        vertical-align: middle;\n",
       "    }\n",
       "\n",
       "    .dataframe tbody tr th {\n",
       "        vertical-align: top;\n",
       "    }\n",
       "\n",
       "    .dataframe thead th {\n",
       "        text-align: right;\n",
       "    }\n",
       "</style>\n",
       "<table border=\"1\" class=\"dataframe\">\n",
       "  <thead>\n",
       "    <tr style=\"text-align: right;\">\n",
       "      <th></th>\n",
       "      <th>Name</th>\n",
       "      <th>Surah</th>\n",
       "      <th>Ayat</th>\n",
       "      <th>Arabic</th>\n",
       "      <th>Translation - Muhammad Tahir-ul-Qadri</th>\n",
       "      <th>Translation - Arthur J</th>\n",
       "      <th>Translation - Marmaduke Pickthall</th>\n",
       "      <th>Tafaseer - Tafsir al-Jalalayn</th>\n",
       "      <th>Tafaseer - Tanwir al-Miqbas min Tafsir Ibn Abbas</th>\n",
       "      <th>EnglishTitle</th>\n",
       "      <th>ArabicTitle</th>\n",
       "      <th>RomanTitle</th>\n",
       "      <th>NumberOfVerses</th>\n",
       "      <th>NumberOfRukus</th>\n",
       "      <th>PlaceOfRevelation</th>\n",
       "    </tr>\n",
       "  </thead>\n",
       "  <tbody>\n",
       "    <tr>\n",
       "      <th>0</th>\n",
       "      <td>The Opening</td>\n",
       "      <td>1</td>\n",
       "      <td>1</td>\n",
       "      <td>بِسمِ ٱلله الرَّحْمٰنِ الرَّحِيـمِ</td>\n",
       "      <td>All praise be to Allah alone, the Sustainer of...</td>\n",
       "      <td>In the Name of God, the Merciful, the Compassi...</td>\n",
       "      <td>In the name of Allah, the Beneficent, the Merc...</td>\n",
       "      <td>In the Name of God the Compassionate the Merciful</td>\n",
       "      <td>In the name of Allah, the Beneficent, the Merc...</td>\n",
       "      <td>Al-Fatihah</td>\n",
       "      <td>ٱلْفَاتِحَة</td>\n",
       "      <td>al-Ḥamd</td>\n",
       "      <td>7</td>\n",
       "      <td>1</td>\n",
       "      <td>Makkah</td>\n",
       "    </tr>\n",
       "    <tr>\n",
       "      <th>1</th>\n",
       "      <td>The Opening</td>\n",
       "      <td>1</td>\n",
       "      <td>2</td>\n",
       "      <td>ٱلْحَمْدُ للَّهِ رَبِّ ٱلْعَالَمِينَ</td>\n",
       "      <td>Most Compassionate, Ever-Merciful,</td>\n",
       "      <td>Praise belongs to God, the Lord of all Being,</td>\n",
       "      <td>Praise be to Allah, Lord of the Worlds,</td>\n",
       "      <td>In the Name of God the name of a thing is that...</td>\n",
       "      <td>And on his authority it is related that Ibn 'A...</td>\n",
       "      <td>Al-Fatihah</td>\n",
       "      <td>ٱلْفَاتِحَة</td>\n",
       "      <td>al-Ḥamd</td>\n",
       "      <td>7</td>\n",
       "      <td>1</td>\n",
       "      <td>Makkah</td>\n",
       "    </tr>\n",
       "    <tr>\n",
       "      <th>2</th>\n",
       "      <td>The Opening</td>\n",
       "      <td>1</td>\n",
       "      <td>3</td>\n",
       "      <td>ٱلرَّحْمـٰنِ ٱلرَّحِيمِ</td>\n",
       "      <td>Master of the Day of Judgment.</td>\n",
       "      <td>the All-merciful, the All-compassionate,</td>\n",
       "      <td>The Beneficent, the Merciful.</td>\n",
       "      <td>The Compassionate the Merciful that is to say ...</td>\n",
       "      <td>(The Beneficent) the Gentle. (The Merciful) th...</td>\n",
       "      <td>Al-Fatihah</td>\n",
       "      <td>ٱلْفَاتِحَة</td>\n",
       "      <td>al-Ḥamd</td>\n",
       "      <td>7</td>\n",
       "      <td>1</td>\n",
       "      <td>Makkah</td>\n",
       "    </tr>\n",
       "    <tr>\n",
       "      <th>3</th>\n",
       "      <td>The Opening</td>\n",
       "      <td>1</td>\n",
       "      <td>4</td>\n",
       "      <td>مَـٰلِكِ يَوْمِ ٱلدِّينِ</td>\n",
       "      <td>(O Allah!) You alone do we worship and to You ...</td>\n",
       "      <td>the Master of the Day of Doom.</td>\n",
       "      <td>Owner of the Day of Judgment,</td>\n",
       "      <td>Master of the Day of Judgement that is the day...</td>\n",
       "      <td>(Owner of the Day of Judgement) the Arbitrator...</td>\n",
       "      <td>Al-Fatihah</td>\n",
       "      <td>ٱلْفَاتِحَة</td>\n",
       "      <td>al-Ḥamd</td>\n",
       "      <td>7</td>\n",
       "      <td>1</td>\n",
       "      <td>Makkah</td>\n",
       "    </tr>\n",
       "    <tr>\n",
       "      <th>4</th>\n",
       "      <td>The Opening</td>\n",
       "      <td>1</td>\n",
       "      <td>5</td>\n",
       "      <td>إِيَّاكَ نَعْبُدُ وَإِيَّاكَ نَسْتَعِينُ</td>\n",
       "      <td>Show us the straight path,</td>\n",
       "      <td>Thee only we serve; to Thee alone we pray for ...</td>\n",
       "      <td>Thee (alone) we worship; Thee (alone) we ask f...</td>\n",
       "      <td>You alone we worship and You alone we ask for ...</td>\n",
       "      <td>(Thee (alone) we worship), we turn to you as t...</td>\n",
       "      <td>Al-Fatihah</td>\n",
       "      <td>ٱلْفَاتِحَة</td>\n",
       "      <td>al-Ḥamd</td>\n",
       "      <td>7</td>\n",
       "      <td>1</td>\n",
       "      <td>Makkah</td>\n",
       "    </tr>\n",
       "  </tbody>\n",
       "</table>\n",
       "</div>"
      ],
      "text/plain": [
       "          Name  Surah  Ayat                                    Arabic  \\\n",
       "0  The Opening      1     1        بِسمِ ٱلله الرَّحْمٰنِ الرَّحِيـمِ   \n",
       "1  The Opening      1     2      ٱلْحَمْدُ للَّهِ رَبِّ ٱلْعَالَمِينَ   \n",
       "2  The Opening      1     3                   ٱلرَّحْمـٰنِ ٱلرَّحِيمِ   \n",
       "3  The Opening      1     4                  مَـٰلِكِ يَوْمِ ٱلدِّينِ   \n",
       "4  The Opening      1     5  إِيَّاكَ نَعْبُدُ وَإِيَّاكَ نَسْتَعِينُ   \n",
       "\n",
       "               Translation - Muhammad Tahir-ul-Qadri  \\\n",
       "0  All praise be to Allah alone, the Sustainer of...   \n",
       "1                 Most Compassionate, Ever-Merciful,   \n",
       "2                     Master of the Day of Judgment.   \n",
       "3  (O Allah!) You alone do we worship and to You ...   \n",
       "4                         Show us the straight path,   \n",
       "\n",
       "                              Translation - Arthur J  \\\n",
       "0  In the Name of God, the Merciful, the Compassi...   \n",
       "1      Praise belongs to God, the Lord of all Being,   \n",
       "2           the All-merciful, the All-compassionate,   \n",
       "3                     the Master of the Day of Doom.   \n",
       "4  Thee only we serve; to Thee alone we pray for ...   \n",
       "\n",
       "                   Translation - Marmaduke Pickthall  \\\n",
       "0  In the name of Allah, the Beneficent, the Merc...   \n",
       "1            Praise be to Allah, Lord of the Worlds,   \n",
       "2                      The Beneficent, the Merciful.   \n",
       "3                      Owner of the Day of Judgment,   \n",
       "4  Thee (alone) we worship; Thee (alone) we ask f...   \n",
       "\n",
       "                       Tafaseer - Tafsir al-Jalalayn  \\\n",
       "0  In the Name of God the Compassionate the Merciful   \n",
       "1  In the Name of God the name of a thing is that...   \n",
       "2  The Compassionate the Merciful that is to say ...   \n",
       "3  Master of the Day of Judgement that is the day...   \n",
       "4  You alone we worship and You alone we ask for ...   \n",
       "\n",
       "    Tafaseer - Tanwir al-Miqbas min Tafsir Ibn Abbas EnglishTitle  \\\n",
       "0  In the name of Allah, the Beneficent, the Merc...   Al-Fatihah   \n",
       "1  And on his authority it is related that Ibn 'A...   Al-Fatihah   \n",
       "2  (The Beneficent) the Gentle. (The Merciful) th...   Al-Fatihah   \n",
       "3  (Owner of the Day of Judgement) the Arbitrator...   Al-Fatihah   \n",
       "4  (Thee (alone) we worship), we turn to you as t...   Al-Fatihah   \n",
       "\n",
       "   ArabicTitle RomanTitle  NumberOfVerses NumberOfRukus PlaceOfRevelation  \n",
       "0  ٱلْفَاتِحَة    al-Ḥamd               7             1            Makkah  \n",
       "1  ٱلْفَاتِحَة    al-Ḥamd               7             1            Makkah  \n",
       "2  ٱلْفَاتِحَة    al-Ḥamd               7             1            Makkah  \n",
       "3  ٱلْفَاتِحَة    al-Ḥamd               7             1            Makkah  \n",
       "4  ٱلْفَاتِحَة    al-Ḥamd               7             1            Makkah  "
      ]
     },
     "execution_count": 4,
     "metadata": {},
     "output_type": "execute_result"
    }
   ],
   "source": [
    "df = pd.read_csv('data/main_df.csv')\n",
    "df.head()"
   ]
  },
  {
   "cell_type": "code",
   "execution_count": 5,
   "metadata": {},
   "outputs": [],
   "source": [
    "translation_col = list(df.columns)\n",
    "translation_col = [x for x in translation_col if \"Translation\" in x]\n",
    "\n",
    "tafaseer_col = list(df.columns)\n",
    "tafaseer_col = [x for x in tafaseer_col if \"Tafaseer\" in x]"
   ]
  },
  {
   "cell_type": "code",
   "execution_count": null,
   "metadata": {},
   "outputs": [],
   "source": []
  },
  {
   "cell_type": "code",
   "execution_count": 6,
   "metadata": {},
   "outputs": [],
   "source": [
    "arabic = []\n",
    "text=[]\n",
    "for index, row in df.iterrows():\n",
    "    arabic.append(row['Arabic'])\n",
    "    t = \"\"\n",
    "    t += row['Name'] + \" | \" + str(row['Arabic'])+\" | \"+ str(row['Surah'])+\" | \"+str(row['Ayat'])+\" | \"\n",
    "    t += row['EnglishTitle'] + \" | \" + str(row['ArabicTitle'])+\" | \"+ str(row['RomanTitle'])+\" | \"\n",
    "    t += row['PlaceOfRevelation'] + \" | \"\n",
    "    for j in translation_col:\n",
    "        t += row[j] + \" + \"\n",
    "    t += \" | \"\n",
    "    for j in tafaseer_col:\n",
    "        t+= row[j] + \" + \"\n",
    "    t = t[:-3]\n",
    "    text.append(t)"
   ]
  },
  {
   "cell_type": "code",
   "execution_count": 7,
   "metadata": {},
   "outputs": [
    {
     "data": {
      "text/plain": [
       "'The Opening | بِسمِ ٱلله الرَّحْمٰنِ الرَّحِيـمِ | 1 | 1 | Al-Fatihah | ٱلْفَاتِحَة | al-Ḥamd | Makkah | All praise be to Allah alone, the Sustainer of all the worlds, + In the Name of God, the Merciful, the Compassionate + In the name of Allah, the Beneficent, the Merciful. +  | In the Name of God the Compassionate the Merciful + In the name of Allah, the Beneficent, the Merciful.'"
      ]
     },
     "execution_count": 7,
     "metadata": {},
     "output_type": "execute_result"
    }
   ],
   "source": [
    "text[0]"
   ]
  },
  {
   "cell_type": "code",
   "execution_count": 8,
   "metadata": {},
   "outputs": [
    {
     "data": {
      "text/plain": [
       "'بِسمِ ٱلله الرَّحْمٰنِ الرَّحِيـمِ'"
      ]
     },
     "execution_count": 8,
     "metadata": {},
     "output_type": "execute_result"
    }
   ],
   "source": [
    "arabic[0]"
   ]
  },
  {
   "cell_type": "code",
   "execution_count": null,
   "metadata": {},
   "outputs": [],
   "source": []
  },
  {
   "cell_type": "code",
   "execution_count": null,
   "metadata": {},
   "outputs": [],
   "source": []
  },
  {
   "cell_type": "code",
   "execution_count": null,
   "metadata": {},
   "outputs": [],
   "source": []
  },
  {
   "cell_type": "code",
   "execution_count": null,
   "metadata": {},
   "outputs": [],
   "source": []
  },
  {
   "cell_type": "code",
   "execution_count": 9,
   "metadata": {},
   "outputs": [],
   "source": [
    "from sklearn.feature_extraction.text import TfidfVectorizer\n",
    "from sklearn.metrics.pairwise import cosine_similarity\n",
    "\n",
    "# Preprocess the dataset\n",
    "vectorizer = TfidfVectorizer()\n",
    "X = vectorizer.fit_transform(text)\n",
    "\n",
    "# Define the search function\n",
    "def search(query, top_k=5):\n",
    "    query_vec = vectorizer.transform([query])\n",
    "    sim_scores = cosine_similarity(query_vec, X).flatten()\n",
    "    top_indices = sim_scores.argsort()[::-1][:top_k]\n",
    "    top_paragraphs = [text[i] for i in top_indices]\n",
    "    \n",
    "    \n",
    "    \n",
    "    return top_paragraphs"
   ]
  },
  {
   "cell_type": "code",
   "execution_count": 10,
   "metadata": {},
   "outputs": [],
   "source": [
    "x = search(\"inheritance\")"
   ]
  },
  {
   "cell_type": "code",
   "execution_count": 11,
   "metadata": {},
   "outputs": [
    {
     "data": {
      "text/plain": [
       "['Smoke',\n",
       " 'كَذَلِكَ وَأَوْرَثْنَاهَا قَوْماً آخَرِينَ',\n",
       " '44',\n",
       " '28',\n",
       " 'Ad-Dukhaan',\n",
       " 'ٱلدُّخَان',\n",
       " 'ad-Dukhān',\n",
       " 'Makkah',\n",
       " 'So it happened! We made another people the inheritors of all that. + Even so; and We bequeathed them upon another people. + Even so (it was), and We made it an inheritance for other folk; + ',\n",
       " 'So it was kadhālika is the predicate of a subject that is missing such as ‘the matter was so’ and We made these an inheritance that is to say their riches for another people namely the Children of Israel. + (Even so (it was)) We destroyed them, (and We made it an inheritance for other folk) We made the Children of Israel inherit all that after they were destroyed;']"
      ]
     },
     "execution_count": 11,
     "metadata": {},
     "output_type": "execute_result"
    }
   ],
   "source": [
    "x[0].split(\" | \")"
   ]
  },
  {
   "cell_type": "code",
   "execution_count": 12,
   "metadata": {},
   "outputs": [
    {
     "data": {
      "text/plain": [
       "['So it was kadhālika is the predicate of a subject that is missing such as ‘the matter was so’ and We made these an inheritance that is to say their riches for another people namely the Children of Israel.',\n",
       " '(Even so (it was)) We destroyed them, (and We made it an inheritance for other folk) We made the Children of Israel inherit all that after they were destroyed;']"
      ]
     },
     "execution_count": 12,
     "metadata": {},
     "output_type": "execute_result"
    }
   ],
   "source": [
    "x[0].split(\" | \")[-1].split(\" + \")"
   ]
  },
  {
   "cell_type": "code",
   "execution_count": 13,
   "metadata": {},
   "outputs": [
    {
     "data": {
      "text/plain": [
       "['So it happened! We made another people the inheritors of all that.',\n",
       " 'Even so; and We bequeathed them upon another people.',\n",
       " 'Even so (it was), and We made it an inheritance for other folk;',\n",
       " '']"
      ]
     },
     "execution_count": 13,
     "metadata": {},
     "output_type": "execute_result"
    }
   ],
   "source": [
    "x[0].split(\" | \")[-2].split(\" + \")"
   ]
  },
  {
   "cell_type": "code",
   "execution_count": null,
   "metadata": {},
   "outputs": [],
   "source": []
  },
  {
   "cell_type": "code",
   "execution_count": 14,
   "metadata": {},
   "outputs": [],
   "source": [
    "import nltk\n",
    "from nltk.corpus import stopwords\n",
    "from nltk.tokenize import word_tokenize\n",
    "from nltk.stem import PorterStemmer\n",
    "from collections import defaultdict\n",
    "import numpy as np \n",
    "\n",
    "\n",
    "class SearchEngine:\n",
    "    def __init__(self, documents):\n",
    "        self.documents = documents\n",
    "        self.stop_words = set(stopwords.words('english'))\n",
    "        self.index = defaultdict(list)\n",
    "        self.document_lengths = []\n",
    "        self.total_documents = len(documents)\n",
    "        self.idf = {}\n",
    "\n",
    "        # Preprocess the documents and build the search index\n",
    "        self.build_index()\n",
    "\n",
    "    def preprocess(self, document):\n",
    "        \"\"\"\n",
    "        Tokenize, remove stop words, and stem the words in the document.\n",
    "        \"\"\"\n",
    "        words = word_tokenize(document.lower())\n",
    "        words = [word for word in words if word.isalpha() and word not in self.stop_words]\n",
    "        ps = PorterStemmer()\n",
    "        words = [ps.stem(word) for word in words]\n",
    "        return words\n",
    "\n",
    "    def build_index(self):\n",
    "        \"\"\"\n",
    "        Build an inverted index of the preprocessed documents.\n",
    "        \"\"\"\n",
    "        for i, document in enumerate(self.documents):\n",
    "            words = self.preprocess(document)\n",
    "            self.document_lengths.append(len(words))\n",
    "            for word in words:\n",
    "                self.index[word].append(i)\n",
    "\n",
    "        # Compute IDF for each term\n",
    "        for term in self.index:\n",
    "            self.idf[term] = 1 + np.log(self.total_documents / len(self.index[term]))\n",
    "\n",
    "    def search(self, query, top_k=10):\n",
    "        \"\"\"\n",
    "        Search the documents for the given query and return the top_k most relevant documents.\n",
    "        \"\"\"\n",
    "        query_words = self.preprocess(query)\n",
    "\n",
    "        # Compute the TF-IDF score for each document\n",
    "        scores = defaultdict(float)\n",
    "        for word in query_words:\n",
    "            if word in self.index:\n",
    "                for doc_id in self.index[word]:\n",
    "                    tf = self.documents[doc_id].count(word) / self.document_lengths[doc_id]\n",
    "                    scores[doc_id] += tf * self.idf[word]\n",
    "\n",
    "        # Sort the documents by their scores\n",
    "        sorted_docs = sorted(scores.items(), key=lambda x: x[1], reverse=True)\n",
    "\n",
    "        # Return the top_k most relevant documents\n",
    "        top_docs = [self.documents[doc_id] for doc_id, score in sorted_docs[:top_k]]\n",
    "\n",
    "        return top_docs\n",
    "    \n",
    "    def save_model(self, model_path):\n",
    "        with open(model_path, 'wb') as f:\n",
    "            pickle.dump(self, f)\n"
   ]
  },
  {
   "cell_type": "code",
   "execution_count": 20,
   "metadata": {},
   "outputs": [],
   "source": [
    "def load_model(model_path):\n",
    "    with open(model_path, 'rb') as f:\n",
    "        return pickle.load(f)"
   ]
  },
  {
   "cell_type": "code",
   "execution_count": 15,
   "metadata": {},
   "outputs": [],
   "source": [
    "s = SearchEngine(text)"
   ]
  },
  {
   "cell_type": "code",
   "execution_count": 22,
   "metadata": {},
   "outputs": [
    {
     "data": {
      "text/plain": [
       "[\"The Cow | أَيَّاماً مَّعْدُودَاتٍ فَمَن كَانَ مِنكُم مَّرِيضاً أَوْ عَلَىٰ سَفَرٍ فَعِدَّةٌ مِّنْ أَيَّامٍ أُخَرَ وَعَلَى ٱلَّذِينَ يُطِيقُونَهُ فِدْيَةٌ طَعَامُ مِسْكِينٍ فَمَن تَطَوَّعَ خَيْراً فَهُوَ خَيْرٌ لَّهُ وَأَن تَصُومُواْ خَيْرٌ لَّكُمْ إِن كُنْتُمْ تَعْلَمُونَ | 2 | 184 | Al-Baqarah | ٱلْبَقَرَة | al-Baq̈arah | Madinah | (These are) a fixed number of days. So, whoever amongst you is ill or on a journey, then he shall complete fasting for the fixed number by (fasting on) other days. But those who are not able to fast, it is obligatory on them to provide food for a needy person in lieu of that. But whoever does (greater) good seeking pleasure, that is better for him. And your fasting is better for you if you understand. + for days numbered; and if any of you be sick, or if he be on a journey, then a number of other days; and for those who are able to fast, a redemption by feeding a poor man. Yet better it is for him who volunteers good, and that you should fast is better for you, if you but know; + (Fast) a certain number of days; and (for) him who is sick among you, or on a journey, (the same) number of other days; and for those who can afford it there is a ransom: the feeding of a man in need - but whoso doeth good of his own accord, it is better for him: and that ye fast is better for you if ye did but know - +  | For days ayyāman ‘days’ is in the accusative as the object of al-siyām ‘the fast’ or of an implied yasūmū ‘he fasts’ numbered few or specific in number that is those of Ramadān as will be mentioned below; God has specified a small number as a way of facilitating matters for those under the obligation; and if any of you during the month be sick or be on a journey in which prayers are shortened or if one is strained by the fast in both cases and breaks it then a number of other days equal to the ones during which he broke his fast — let him fast them instead; and for those who are not able to do it to fast on account of old age or chronic illness a redemption which is the feeding of a poor man with about the same amount one consumes in a given day that is one mudd measure of the principal food of that town each day a variant reading has genitive fidyatin as an explicative clause. It is also said that the lā negation of the verb yutīqūnahu is not actually implied because at the very beginning of Islam they could choose between fasting or offering the redemption; but later on this was abrogated by fixing the Fast as an obligation where God says So let those of you who are present at the month fast it Q. 2185 Ibn ‘Abbās said by way of qualification ‘Except for the pregnant one and the one breastfeeding if they break their fast out of concern for the child; in the case of these two the verse remains valid and has not been abrogated’. For him who volunteers good by offering more than the minimum amount mentioned for the redemption; that volunteering is good for him; but that you should fast wa-an tasūmū is the subject is better for you khayrun lakum is its predicate than breaking the fast and paying the redemption if you but knew that this is better for you then do it. + ((Fast) a certain number of days) 30 days; (and (for) him who is sick among you, or on a journey, (the same) number of other days) let him fast the same number of days he missed; (and for those who can afford it) afford to fast (there is a ransom: the feeding of a man in need-) let him feed a person in need, instead of every day of the fast that he missed, half a measure of wheat. But this is abrogated by Allah's saying: (And whoever of you is present, let him fast the month). It is also said that this means: those who can afford a ransom and are not able to fast, old men and women who are unable to fast, they should feed a needy person, for every missed day of fast in Ramadan, half a measure of wheat. (But whoso doeth good of his own accord) gives more than two pounds, (it is better for him) in terms of reward: (and that ye fast is better for you) than giving ransom (if ye did but know-)\"]"
      ]
     },
     "execution_count": 22,
     "metadata": {},
     "output_type": "execute_result"
    }
   ],
   "source": [
    "s.search(\"fast\", 1)"
   ]
  },
  {
   "cell_type": "code",
   "execution_count": null,
   "metadata": {},
   "outputs": [],
   "source": []
  },
  {
   "cell_type": "code",
   "execution_count": 18,
   "metadata": {},
   "outputs": [],
   "source": [
    "s.save_model('./search_model/search_engine_model.pkl')"
   ]
  },
  {
   "cell_type": "code",
   "execution_count": 21,
   "metadata": {},
   "outputs": [],
   "source": [
    "loaded_search_engine = load_model('./search_model/search_engine_model.pkl')"
   ]
  },
  {
   "cell_type": "code",
   "execution_count": null,
   "metadata": {},
   "outputs": [],
   "source": [
    "loaded_search_engine"
   ]
  },
  {
   "cell_type": "code",
   "execution_count": null,
   "metadata": {},
   "outputs": [],
   "source": []
  },
  {
   "cell_type": "code",
   "execution_count": null,
   "metadata": {},
   "outputs": [],
   "source": []
  },
  {
   "cell_type": "code",
   "execution_count": null,
   "metadata": {},
   "outputs": [],
   "source": []
  },
  {
   "cell_type": "code",
   "execution_count": null,
   "metadata": {},
   "outputs": [],
   "source": []
  },
  {
   "cell_type": "code",
   "execution_count": null,
   "metadata": {},
   "outputs": [],
   "source": []
  },
  {
   "cell_type": "code",
   "execution_count": 15,
   "metadata": {},
   "outputs": [],
   "source": [
    "from deep_translator import GoogleTranslator\n",
    "# translate Urdu text to English\n"
   ]
  },
  {
   "cell_type": "code",
   "execution_count": 16,
   "metadata": {},
   "outputs": [
    {
     "name": "stdout",
     "output_type": "stream",
     "text": [
      "We are Pakistanis\n",
      "my name is rashid\n"
     ]
    }
   ],
   "source": [
    "\n",
    "\n",
    "urdu_text = \"ہم پاکستانی\"\n",
    "english_text = GoogleTranslator(source='auto', target='en').translate(urdu_text)\n",
    "print(english_text)  # output: \"We are Pakistani\"\n",
    "\n",
    "# translate Roman text to English\n",
    "roman_text = \"mera naam Rashid hai\"\n",
    "english_text = GoogleTranslator(source='auto', target='en').translate(roman_text)\n",
    "print(english_text)  # output: \"My name is Rashid\""
   ]
  },
  {
   "cell_type": "code",
   "execution_count": 17,
   "metadata": {
    "scrolled": false
   },
   "outputs": [
    {
     "data": {
      "text/plain": [
       "{'afrikaans': 'af',\n",
       " 'albanian': 'sq',\n",
       " 'amharic': 'am',\n",
       " 'arabic': 'ar',\n",
       " 'armenian': 'hy',\n",
       " 'assamese': 'as',\n",
       " 'aymara': 'ay',\n",
       " 'azerbaijani': 'az',\n",
       " 'bambara': 'bm',\n",
       " 'basque': 'eu',\n",
       " 'belarusian': 'be',\n",
       " 'bengali': 'bn',\n",
       " 'bhojpuri': 'bho',\n",
       " 'bosnian': 'bs',\n",
       " 'bulgarian': 'bg',\n",
       " 'catalan': 'ca',\n",
       " 'cebuano': 'ceb',\n",
       " 'chichewa': 'ny',\n",
       " 'chinese (simplified)': 'zh-CN',\n",
       " 'chinese (traditional)': 'zh-TW',\n",
       " 'corsican': 'co',\n",
       " 'croatian': 'hr',\n",
       " 'czech': 'cs',\n",
       " 'danish': 'da',\n",
       " 'dhivehi': 'dv',\n",
       " 'dogri': 'doi',\n",
       " 'dutch': 'nl',\n",
       " 'english': 'en',\n",
       " 'esperanto': 'eo',\n",
       " 'estonian': 'et',\n",
       " 'ewe': 'ee',\n",
       " 'filipino': 'tl',\n",
       " 'finnish': 'fi',\n",
       " 'french': 'fr',\n",
       " 'frisian': 'fy',\n",
       " 'galician': 'gl',\n",
       " 'georgian': 'ka',\n",
       " 'german': 'de',\n",
       " 'greek': 'el',\n",
       " 'guarani': 'gn',\n",
       " 'gujarati': 'gu',\n",
       " 'haitian creole': 'ht',\n",
       " 'hausa': 'ha',\n",
       " 'hawaiian': 'haw',\n",
       " 'hebrew': 'iw',\n",
       " 'hindi': 'hi',\n",
       " 'hmong': 'hmn',\n",
       " 'hungarian': 'hu',\n",
       " 'icelandic': 'is',\n",
       " 'igbo': 'ig',\n",
       " 'ilocano': 'ilo',\n",
       " 'indonesian': 'id',\n",
       " 'irish': 'ga',\n",
       " 'italian': 'it',\n",
       " 'japanese': 'ja',\n",
       " 'javanese': 'jw',\n",
       " 'kannada': 'kn',\n",
       " 'kazakh': 'kk',\n",
       " 'khmer': 'km',\n",
       " 'kinyarwanda': 'rw',\n",
       " 'konkani': 'gom',\n",
       " 'korean': 'ko',\n",
       " 'krio': 'kri',\n",
       " 'kurdish (kurmanji)': 'ku',\n",
       " 'kurdish (sorani)': 'ckb',\n",
       " 'kyrgyz': 'ky',\n",
       " 'lao': 'lo',\n",
       " 'latin': 'la',\n",
       " 'latvian': 'lv',\n",
       " 'lingala': 'ln',\n",
       " 'lithuanian': 'lt',\n",
       " 'luganda': 'lg',\n",
       " 'luxembourgish': 'lb',\n",
       " 'macedonian': 'mk',\n",
       " 'maithili': 'mai',\n",
       " 'malagasy': 'mg',\n",
       " 'malay': 'ms',\n",
       " 'malayalam': 'ml',\n",
       " 'maltese': 'mt',\n",
       " 'maori': 'mi',\n",
       " 'marathi': 'mr',\n",
       " 'meiteilon (manipuri)': 'mni-Mtei',\n",
       " 'mizo': 'lus',\n",
       " 'mongolian': 'mn',\n",
       " 'myanmar': 'my',\n",
       " 'nepali': 'ne',\n",
       " 'norwegian': 'no',\n",
       " 'odia (oriya)': 'or',\n",
       " 'oromo': 'om',\n",
       " 'pashto': 'ps',\n",
       " 'persian': 'fa',\n",
       " 'polish': 'pl',\n",
       " 'portuguese': 'pt',\n",
       " 'punjabi': 'pa',\n",
       " 'quechua': 'qu',\n",
       " 'romanian': 'ro',\n",
       " 'russian': 'ru',\n",
       " 'samoan': 'sm',\n",
       " 'sanskrit': 'sa',\n",
       " 'scots gaelic': 'gd',\n",
       " 'sepedi': 'nso',\n",
       " 'serbian': 'sr',\n",
       " 'sesotho': 'st',\n",
       " 'shona': 'sn',\n",
       " 'sindhi': 'sd',\n",
       " 'sinhala': 'si',\n",
       " 'slovak': 'sk',\n",
       " 'slovenian': 'sl',\n",
       " 'somali': 'so',\n",
       " 'spanish': 'es',\n",
       " 'sundanese': 'su',\n",
       " 'swahili': 'sw',\n",
       " 'swedish': 'sv',\n",
       " 'tajik': 'tg',\n",
       " 'tamil': 'ta',\n",
       " 'tatar': 'tt',\n",
       " 'telugu': 'te',\n",
       " 'thai': 'th',\n",
       " 'tigrinya': 'ti',\n",
       " 'tsonga': 'ts',\n",
       " 'turkish': 'tr',\n",
       " 'turkmen': 'tk',\n",
       " 'twi': 'ak',\n",
       " 'ukrainian': 'uk',\n",
       " 'urdu': 'ur',\n",
       " 'uyghur': 'ug',\n",
       " 'uzbek': 'uz',\n",
       " 'vietnamese': 'vi',\n",
       " 'welsh': 'cy',\n",
       " 'xhosa': 'xh',\n",
       " 'yiddish': 'yi',\n",
       " 'yoruba': 'yo',\n",
       " 'zulu': 'zu'}"
      ]
     },
     "execution_count": 17,
     "metadata": {},
     "output_type": "execute_result"
    }
   ],
   "source": [
    "GoogleTranslator().get_supported_languages(as_dict=True) "
   ]
  },
  {
   "cell_type": "code",
   "execution_count": null,
   "metadata": {},
   "outputs": [],
   "source": []
  },
  {
   "cell_type": "code",
   "execution_count": 18,
   "metadata": {},
   "outputs": [],
   "source": [
    "import re"
   ]
  },
  {
   "cell_type": "code",
   "execution_count": 19,
   "metadata": {},
   "outputs": [],
   "source": [
    "email = \"user@doma\""
   ]
  },
  {
   "cell_type": "code",
   "execution_count": 20,
   "metadata": {},
   "outputs": [],
   "source": [
    "re.match(r'^[a-zA-Z0-9._%+-]+@[a-zA-Z0-9.-]+\\.[a-zA-Z]{2,}$', email)"
   ]
  },
  {
   "cell_type": "code",
   "execution_count": 21,
   "metadata": {},
   "outputs": [
    {
     "data": {
      "text/plain": [
       "<function __main__.<lambda>(email)>"
      ]
     },
     "execution_count": 21,
     "metadata": {},
     "output_type": "execute_result"
    }
   ],
   "source": [
    "lambda email: re.match(r'^[a-zA-Z0-9._%+-]+@[a-zA-Z0-9.-]+\\.[a-zA-Z]{2,}$', email) is not None"
   ]
  },
  {
   "cell_type": "code",
   "execution_count": null,
   "metadata": {},
   "outputs": [],
   "source": []
  }
 ],
 "metadata": {
  "kernelspec": {
   "display_name": "Python 3 (ipykernel)",
   "language": "python",
   "name": "python3"
  },
  "language_info": {
   "codemirror_mode": {
    "name": "ipython",
    "version": 3
   },
   "file_extension": ".py",
   "mimetype": "text/x-python",
   "name": "python",
   "nbconvert_exporter": "python",
   "pygments_lexer": "ipython3",
   "version": "3.9.16"
  },
  "vscode": {
   "interpreter": {
    "hash": "a665b5d41d17b532ea9890333293a1b812fa0b73c9c25c950b3cedf1bebd0438"
   }
  }
 },
 "nbformat": 4,
 "nbformat_minor": 2
}
