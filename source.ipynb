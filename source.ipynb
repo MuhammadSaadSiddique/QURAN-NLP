{
 "cells": [
  {
   "cell_type": "markdown",
   "metadata": {},
   "source": [
    "# QURAN & NLP "
   ]
  },
  {
   "cell_type": "code",
   "execution_count": 1,
   "metadata": {},
   "outputs": [],
   "source": [
    "import pandas as pd\n",
    "from matplotlib import pyplot as plt\n"
   ]
  },
  {
   "cell_type": "code",
   "execution_count": 2,
   "metadata": {},
   "outputs": [
    {
     "data": {
      "text/html": [
       "<div>\n",
       "<style scoped>\n",
       "    .dataframe tbody tr th:only-of-type {\n",
       "        vertical-align: middle;\n",
       "    }\n",
       "\n",
       "    .dataframe tbody tr th {\n",
       "        vertical-align: top;\n",
       "    }\n",
       "\n",
       "    .dataframe thead th {\n",
       "        text-align: right;\n",
       "    }\n",
       "</style>\n",
       "<table border=\"1\" class=\"dataframe\">\n",
       "  <thead>\n",
       "    <tr style=\"text-align: right;\">\n",
       "      <th></th>\n",
       "      <th>Surah</th>\n",
       "      <th>Ayat</th>\n",
       "      <th>Translation</th>\n",
       "    </tr>\n",
       "  </thead>\n",
       "  <tbody>\n",
       "    <tr>\n",
       "      <th>0</th>\n",
       "      <td>1</td>\n",
       "      <td>1</td>\n",
       "      <td>In the name of Allah Most Gracious Most Merciful.</td>\n",
       "    </tr>\n",
       "    <tr>\n",
       "      <th>1</th>\n",
       "      <td>1</td>\n",
       "      <td>2</td>\n",
       "      <td>Praise be to Allah the Cherisher and Sustainer...</td>\n",
       "    </tr>\n",
       "    <tr>\n",
       "      <th>2</th>\n",
       "      <td>1</td>\n",
       "      <td>3</td>\n",
       "      <td>Most Gracious Most Merciful;</td>\n",
       "    </tr>\n",
       "    <tr>\n",
       "      <th>3</th>\n",
       "      <td>1</td>\n",
       "      <td>4</td>\n",
       "      <td>Master of the Day of Judgment.</td>\n",
       "    </tr>\n",
       "    <tr>\n",
       "      <th>4</th>\n",
       "      <td>1</td>\n",
       "      <td>5</td>\n",
       "      <td>Thee do we worship and Thine aid we seek.</td>\n",
       "    </tr>\n",
       "  </tbody>\n",
       "</table>\n",
       "</div>"
      ],
      "text/plain": [
       "   Surah  Ayat                                        Translation\n",
       "0      1     1  In the name of Allah Most Gracious Most Merciful.\n",
       "1      1     2  Praise be to Allah the Cherisher and Sustainer...\n",
       "2      1     3                       Most Gracious Most Merciful;\n",
       "3      1     4                     Master of the Day of Judgment.\n",
       "4      1     5          Thee do we worship and Thine aid we seek."
      ]
     },
     "execution_count": 2,
     "metadata": {},
     "output_type": "execute_result"
    }
   ],
   "source": [
    "df = pd.read_csv(\"Quran_English.csv\", encoding= 'unicode_escape')\n",
    "df.head()"
   ]
  },
  {
   "cell_type": "code",
   "execution_count": 3,
   "metadata": {},
   "outputs": [],
   "source": [
    "clean_text = []\n",
    "text=[]\n",
    "for index, row in df.iterrows():\n",
    "    clean_text.append(row['Translation'])\n",
    "    text.append(str(row['Surah'])+\"|\"+str(row['Ayat'])+\"|\"+row['Translation'])"
   ]
  },
  {
   "cell_type": "code",
   "execution_count": 4,
   "metadata": {},
   "outputs": [
    {
     "data": {
      "text/plain": [
       "6162"
      ]
     },
     "execution_count": 4,
     "metadata": {},
     "output_type": "execute_result"
    }
   ],
   "source": [
    "len(text)"
   ]
  },
  {
   "cell_type": "code",
   "execution_count": 5,
   "metadata": {},
   "outputs": [
    {
     "data": {
      "text/plain": [
       "'1|1|In the name of Allah Most Gracious Most Merciful.'"
      ]
     },
     "execution_count": 5,
     "metadata": {},
     "output_type": "execute_result"
    }
   ],
   "source": [
    "text[0]"
   ]
  },
  {
   "cell_type": "code",
   "execution_count": 6,
   "metadata": {},
   "outputs": [
    {
     "data": {
      "text/plain": [
       "'1|2|Praise be to Allah the Cherisher and Sustainer of the worlds;'"
      ]
     },
     "execution_count": 6,
     "metadata": {},
     "output_type": "execute_result"
    }
   ],
   "source": [
    "text[1]"
   ]
  },
  {
   "cell_type": "code",
   "execution_count": 7,
   "metadata": {},
   "outputs": [],
   "source": [
    "surah = []\n",
    "ayat = []\n",
    "curr = 1\n",
    "for i in range(len(text)):\n",
    "    if int(text[i].split(\"|\")[0]) != curr:\n",
    "        if len(ayat)>0:\n",
    "            surah.append(ayat)\n",
    "        ayat = []\n",
    "        curr+=1\n",
    "    \n",
    "    ayat.append(clean_text[i])\n",
    "surah.append(ayat)"
   ]
  },
  {
   "cell_type": "code",
   "execution_count": 8,
   "metadata": {},
   "outputs": [
    {
     "data": {
      "text/plain": [
       "['In the name of Allah Most Gracious Most Merciful.',\n",
       " 'Praise be to Allah the Cherisher and Sustainer of the worlds;',\n",
       " 'Most Gracious Most Merciful;',\n",
       " 'Master of the Day of Judgment.',\n",
       " 'Thee do we worship and Thine aid we seek.',\n",
       " 'Show us the straight way',\n",
       " 'The way of those on whom Thou hast bestowed Thy Grace those whose (portion) is not wrath and who go not astray.']"
      ]
     },
     "execution_count": 8,
     "metadata": {},
     "output_type": "execute_result"
    }
   ],
   "source": [
    "surah[0]"
   ]
  },
  {
   "cell_type": "code",
   "execution_count": 9,
   "metadata": {},
   "outputs": [
    {
     "data": {
      "text/plain": [
       "['Say: I seek refuge with the Lord and Cherisher of Mankind',\n",
       " 'The King (or Ruler) of Mankind',\n",
       " 'The god (or judge) of Mankind-',\n",
       " 'From the mischief of the Whisperer (of Evil) who withdraws (after his whisper)-',\n",
       " '(The same) who whispers into the hearts of Mankind-',\n",
       " 'Among Jinns and among men.']"
      ]
     },
     "execution_count": 9,
     "metadata": {},
     "output_type": "execute_result"
    }
   ],
   "source": [
    "surah[-1]"
   ]
  },
  {
   "cell_type": "code",
   "execution_count": 10,
   "metadata": {},
   "outputs": [],
   "source": [
    "quran = \"\"\n",
    "for ayats in surah:\n",
    "    for ayat in ayats:\n",
    "        quran += ayat + \"\\n\""
   ]
  },
  {
   "cell_type": "code",
   "execution_count": 11,
   "metadata": {},
   "outputs": [
    {
     "data": {
      "text/plain": [
       "862608"
      ]
     },
     "execution_count": 11,
     "metadata": {},
     "output_type": "execute_result"
    }
   ],
   "source": [
    "len(quran)"
   ]
  },
  {
   "cell_type": "code",
   "execution_count": 12,
   "metadata": {},
   "outputs": [
    {
     "data": {
      "text/plain": [
       "[<matplotlib.lines.Line2D at 0x1becc3b4508>]"
      ]
     },
     "execution_count": 12,
     "metadata": {},
     "output_type": "execute_result"
    },
    {
     "data": {
      "image/png": "[encoded data removed]",
      "text/plain": [
       "<Figure size 432x288 with 1 Axes>"
      ]
     },
     "metadata": {
      "needs_background": "light"
     },
     "output_type": "display_data"
    }
   ],
   "source": [
    "len_of_surahs = []\n",
    "for i in surah:\n",
    "    len_of_surahs.append(len(i))\n",
    "\n",
    "plt.title(\"Length of Surahs\")\n",
    "plt.plot(len_of_surahs)"
   ]
  },
  {
   "cell_type": "code",
   "execution_count": 13,
   "metadata": {},
   "outputs": [
    {
     "data": {
      "text/plain": [
       "[<matplotlib.lines.Line2D at 0x1becc4b5848>]"
      ]
     },
     "execution_count": 13,
     "metadata": {},
     "output_type": "execute_result"
    },
    {
     "data": {
      "image/png": "[encoded data removed]",
      "text/plain": [
       "<Figure size 432x288 with 1 Axes>"
      ]
     },
     "metadata": {
      "needs_background": "light"
     },
     "output_type": "display_data"
    }
   ],
   "source": [
    "len_of_ayats = []\n",
    "for i in surah:\n",
    "    for j in i:\n",
    "        len_of_ayats.append(len(j))\n",
    "    \n",
    "plt.title(\"Length of Ayats\")\n",
    "plt.plot(len_of_ayats)"
   ]
  },
  {
   "cell_type": "markdown",
   "metadata": {},
   "source": [
    "# NLP"
   ]
  },
  {
   "cell_type": "code",
   "execution_count": 14,
   "metadata": {},
   "outputs": [
    {
     "name": "stderr",
     "output_type": "stream",
     "text": [
      "[nltk_data] Downloading package punkt to C:\\Users\\Ali Zahid\n",
      "[nltk_data]     Raja\\AppData\\Roaming\\nltk_data...\n",
      "[nltk_data]   Package punkt is already up-to-date!\n",
      "[nltk_data] Downloading package stopwords to C:\\Users\\Ali Zahid\n",
      "[nltk_data]     Raja\\AppData\\Roaming\\nltk_data...\n",
      "[nltk_data]   Package stopwords is already up-to-date!\n",
      "[nltk_data] Downloading package wordnet to C:\\Users\\Ali Zahid\n",
      "[nltk_data]     Raja\\AppData\\Roaming\\nltk_data...\n",
      "[nltk_data]   Package wordnet is already up-to-date!\n",
      "[nltk_data] Downloading package omw-1.4 to C:\\Users\\Ali Zahid\n",
      "[nltk_data]     Raja\\AppData\\Roaming\\nltk_data...\n",
      "[nltk_data]   Package omw-1.4 is already up-to-date!\n"
     ]
    },
    {
     "data": {
      "text/plain": [
       "True"
      ]
     },
     "execution_count": 14,
     "metadata": {},
     "output_type": "execute_result"
    }
   ],
   "source": [
    "import nltk\n",
    "nltk.download('punkt')\n",
    "nltk.download('stopwords')\n",
    "nltk.download('wordnet')\n",
    "nltk.download('omw-1.4')"
   ]
  },
  {
   "cell_type": "code",
   "execution_count": 15,
   "metadata": {},
   "outputs": [],
   "source": [
    "from autocorrect import Speller\n",
    "from nltk.tokenize import word_tokenize\n",
    "\n",
    "\n",
    "def to_lower(text):\n",
    "\n",
    "    \"\"\"\n",
    "    Converting text to lower case as in, converting \"Hello\" to  \"hello\" or \"HELLO\" to \"hello\".\n",
    "    \"\"\"\n",
    "    \n",
    "    # Specll check the words\n",
    "    spell  = Speller(lang='en')\n",
    "    \n",
    "    texts = spell(text)\n",
    "    \n",
    "    return ' '.join([w.lower() for w in word_tokenize(text)])\n",
    "\n",
    "lower_case = to_lower(quran)"
   ]
  },
  {
   "cell_type": "code",
   "execution_count": 16,
   "metadata": {},
   "outputs": [],
   "source": [
    "import nltk\n",
    "import re\n",
    "import string\n",
    "from nltk.corpus import stopwords, brown\n",
    "from nltk.tokenize import word_tokenize, sent_tokenize, RegexpTokenizer\n",
    "from nltk.stem import WordNetLemmatizer\n",
    "from autocorrect import spell"
   ]
  },
  {
   "cell_type": "code",
   "execution_count": 17,
   "metadata": {},
   "outputs": [],
   "source": [
    "def clean_text(lower_case):\n",
    "    # split text phrases into words\n",
    "    words  = nltk.word_tokenize(lower_case)\n",
    "    \n",
    "    \n",
    "    # Create a list of all the punctuations we wish to remove\n",
    "    punctuations = ['.', ',', '/', '!', '?', ';', ':', '(',')', '[',']', '-', '_', '%']\n",
    "    \n",
    "    # Remove all the special characters\n",
    "    punctuations = re.sub(r'\\W', ' ', str(lower_case))\n",
    "    \n",
    "    stop_words  = stopwords.words('english')\n",
    "    \n",
    "    # Getting rid of all the words that contain numbers in them\n",
    "    w_num = re.sub('\\w*\\d\\w*', '', lower_case).strip()\n",
    "    \n",
    "    # remove all single characters\n",
    "    lower_case = re.sub(r'\\s+[a-zA-Z]\\s+', ' ', lower_case)\n",
    "    \n",
    "    # Substituting multiple spaces with single space\n",
    "    lower_case = re.sub(r'\\s+', ' ', lower_case, flags=re.I)\n",
    "        \n",
    "    # Removing non-english characters\n",
    "    lower_case = re.sub(r'^b\\s+', '', lower_case)\n",
    "    \n",
    "    # Return keywords which are not in stop words \n",
    "    keywords = [word for word in words if not word in stop_words  and word in punctuations and  word in w_num]\n",
    "    \n",
    "    return keywords"
   ]
  },
  {
   "cell_type": "code",
   "execution_count": 18,
   "metadata": {},
   "outputs": [
    {
     "data": {
      "text/plain": [
       "451716"
      ]
     },
     "execution_count": 18,
     "metadata": {},
     "output_type": "execute_result"
    }
   ],
   "source": [
    "# Lemmatize the words\n",
    "wordnet_lemmatizer = WordNetLemmatizer()\n",
    "\n",
    "lemmatized_word = [wordnet_lemmatizer.lemmatize(word) for word in clean_text(lower_case)]\n",
    "\n",
    "clean_data = ' '.join(lemmatized_word)\n",
    "len(clean_data)"
   ]
  },
  {
   "cell_type": "code",
   "execution_count": 19,
   "metadata": {},
   "outputs": [
    {
     "data": {
      "text/html": [
       "<div>\n",
       "<style scoped>\n",
       "    .dataframe tbody tr th:only-of-type {\n",
       "        vertical-align: middle;\n",
       "    }\n",
       "\n",
       "    .dataframe tbody tr th {\n",
       "        vertical-align: top;\n",
       "    }\n",
       "\n",
       "    .dataframe thead th {\n",
       "        text-align: right;\n",
       "    }\n",
       "</style>\n",
       "<table border=\"1\" class=\"dataframe\">\n",
       "  <thead>\n",
       "    <tr style=\"text-align: right;\">\n",
       "      <th></th>\n",
       "      <th>script</th>\n",
       "    </tr>\n",
       "  </thead>\n",
       "  <tbody>\n",
       "    <tr>\n",
       "      <th>quran</th>\n",
       "      <td>name allah gracious merciful praise allah cher...</td>\n",
       "    </tr>\n",
       "  </tbody>\n",
       "</table>\n",
       "</div>"
      ],
      "text/plain": [
       "                                                  script\n",
       "quran  name allah gracious merciful praise allah cher..."
      ]
     },
     "execution_count": 19,
     "metadata": {},
     "output_type": "execute_result"
    }
   ],
   "source": [
    "df_clean = pd.DataFrame([clean_data])\n",
    "df_clean.columns = ['script']\n",
    "df_clean.index = ['quran']\n",
    "df_clean"
   ]
  },
  {
   "cell_type": "code",
   "execution_count": 20,
   "metadata": {},
   "outputs": [],
   "source": [
    "#  Counting the occurrences of tokens and building a sparse matrix of documents x tokens.\n",
    "from sklearn.feature_extraction.text import CountVectorizer\n",
    "import numpy as np\n",
    "\n",
    "corpus = df_clean.script\n",
    "vect = CountVectorizer(stop_words='english')\n",
    "\n",
    "# Transforms the data into a bag of words\n",
    "data_vect = vect.fit_transform(corpus)"
   ]
  },
  {
   "cell_type": "code",
   "execution_count": 21,
   "metadata": {},
   "outputs": [
    {
     "data": {
      "text/html": [
       "<div>\n",
       "<style scoped>\n",
       "    .dataframe tbody tr th:only-of-type {\n",
       "        vertical-align: middle;\n",
       "    }\n",
       "\n",
       "    .dataframe tbody tr th {\n",
       "        vertical-align: top;\n",
       "    }\n",
       "\n",
       "    .dataframe thead th {\n",
       "        text-align: right;\n",
       "    }\n",
       "</style>\n",
       "<table border=\"1\" class=\"dataframe\">\n",
       "  <thead>\n",
       "    <tr style=\"text-align: right;\">\n",
       "      <th></th>\n",
       "      <th>aaron</th>\n",
       "      <th>abandon</th>\n",
       "      <th>abandoned</th>\n",
       "      <th>abase</th>\n",
       "      <th>abated</th>\n",
       "      <th>abatement</th>\n",
       "      <th>abhor</th>\n",
       "      <th>abide</th>\n",
       "      <th>abides</th>\n",
       "      <th>abiding</th>\n",
       "      <th>...</th>\n",
       "      <th>young</th>\n",
       "      <th>youth</th>\n",
       "      <th>youthful</th>\n",
       "      <th>zaid</th>\n",
       "      <th>zakariya</th>\n",
       "      <th>zaqqum</th>\n",
       "      <th>zeal</th>\n",
       "      <th>zihar</th>\n",
       "      <th>zodiacal</th>\n",
       "      <th>zone</th>\n",
       "    </tr>\n",
       "  </thead>\n",
       "  <tbody>\n",
       "    <tr>\n",
       "      <th>quran</th>\n",
       "      <td>24</td>\n",
       "      <td>3</td>\n",
       "      <td>3</td>\n",
       "      <td>1</td>\n",
       "      <td>1</td>\n",
       "      <td>2</td>\n",
       "      <td>1</td>\n",
       "      <td>21</td>\n",
       "      <td>1</td>\n",
       "      <td>2</td>\n",
       "      <td>...</td>\n",
       "      <td>9</td>\n",
       "      <td>8</td>\n",
       "      <td>1</td>\n",
       "      <td>1</td>\n",
       "      <td>8</td>\n",
       "      <td>3</td>\n",
       "      <td>2</td>\n",
       "      <td>3</td>\n",
       "      <td>2</td>\n",
       "      <td>2</td>\n",
       "    </tr>\n",
       "  </tbody>\n",
       "</table>\n",
       "<p>1 rows × 5211 columns</p>\n",
       "</div>"
      ],
      "text/plain": [
       "       aaron  abandon  abandoned  abase  abated  abatement  abhor  abide  \\\n",
       "quran     24        3          3      1       1          2      1     21   \n",
       "\n",
       "       abides  abiding  ...  young  youth  youthful  zaid  zakariya  zaqqum  \\\n",
       "quran       1        2  ...      9      8         1     1         8       3   \n",
       "\n",
       "       zeal  zihar  zodiacal  zone  \n",
       "quran     2      3         2     2  \n",
       "\n",
       "[1 rows x 5211 columns]"
      ]
     },
     "execution_count": 21,
     "metadata": {},
     "output_type": "execute_result"
    }
   ],
   "source": [
    "feature_names = vect.get_feature_names()\n",
    "data_vect_feat = pd.DataFrame(data_vect.toarray(), columns=feature_names)\n",
    "data_vect_feat.index = df_clean.index\n",
    "data_vect_feat"
   ]
  },
  {
   "cell_type": "code",
   "execution_count": 22,
   "metadata": {},
   "outputs": [
    {
     "data": {
      "text/plain": [
       "(5211, 1)"
      ]
     },
     "execution_count": 22,
     "metadata": {},
     "output_type": "execute_result"
    }
   ],
   "source": [
    "data = data_vect_feat.transpose()\n",
    "data.shape"
   ]
  },
  {
   "cell_type": "code",
   "execution_count": 66,
   "metadata": {},
   "outputs": [],
   "source": [
    "import matplotlib.pyplot as plt\n",
    "import seaborn as sn\n",
    "\n",
    "top_dict = {}\n",
    "for c in data.columns:\n",
    "    top = data[c].sort_values(ascending=False)\n",
    "    top_dict[c]= list(zip(top.index, top.values))"
   ]
  },
  {
   "cell_type": "code",
   "execution_count": 102,
   "metadata": {},
   "outputs": [
    {
     "data": {
      "text/plain": [
       "[('allah', 2760),\n",
       " ('ye', 1942),\n",
       " ('lord', 917),\n",
       " ('say', 779),\n",
       " ('thou', 753),\n",
       " ('said', 705),\n",
       " ('shall', 615),\n",
       " ('thee', 591),\n",
       " ('day', 543),\n",
       " ('people', 516)]"
      ]
     },
     "execution_count": 102,
     "metadata": {},
     "output_type": "execute_result"
    }
   ],
   "source": [
    "top_dict['quran'][:10]"
   ]
  },
  {
   "cell_type": "code",
   "execution_count": null,
   "metadata": {},
   "outputs": [],
   "source": [
    "from wordcloud import WordCloud, STOPWORDS\n",
    "import matplotlib.pyplot as plt\n",
    "import nltk\n",
    "\n",
    "\n",
    "word_count_dict = dict(top_dict['quran'])\n",
    "popular_words = sorted(word_count_dict, key = word_count_dict.get, reverse = True)\n",
    "popular_words_nonstop = [w for w in popular_words if w not in stopwords.words(\"english\")]\n",
    "wordcloud = WordCloud(stopwords=STOPWORDS,\n",
    "                          background_color='white',\n",
    "                          max_words=1000,\n",
    "                          width=1000,height=1000,\n",
    "                         ).generate(\" \".join(popular_words))\n",
    "plt.imshow(wordcloud, interpolation = 'bilinear')\n",
    "fig=plt.gcf()\n",
    "fig.set_size_inches(10,12)\n",
    "plt.axis('off')\n",
    "plt.title(\"Top most common 1000 words from Quran\",fontsize=20)\n",
    "plt.tight_layout(pad=0)\n",
    "plt.savefig('topmost.png')"
   ]
  },
  {
   "cell_type": "code",
   "execution_count": 112,
   "metadata": {},
   "outputs": [
    {
     "data": {
      "image/png": "[encoded data removed]",
      "text/plain": [
       "<Figure size 720x720 with 1 Axes>"
      ]
     },
     "metadata": {
      "needs_background": "light"
     },
     "output_type": "display_data"
    }
   ],
   "source": [
    "word_count_dict = dict(top_dict['quran'][:50])\n",
    "popular_words = sorted(word_count_dict, key = word_count_dict.get, reverse = True)\n",
    "popular_words_nonstop = [w for w in popular_words if w not in stopwords.words(\"english\")]\n",
    "plt.figure(figsize=(10,10))\n",
    "plt.barh(range(50), [word_count_dict[w] for w in reversed(popular_words_nonstop[0:50])])\n",
    "plt.yticks([x + 0.5 for x in range(50)], reversed(popular_words_nonstop[0:50]))\n",
    "plt.title(\"Top words\")\n",
    "plt.show()"
   ]
  },
  {
   "cell_type": "code",
   "execution_count": null,
   "metadata": {},
   "outputs": [],
   "source": []
  },
  {
   "cell_type": "code",
   "execution_count": null,
   "metadata": {},
   "outputs": [],
   "source": []
  },
  {
   "cell_type": "code",
   "execution_count": null,
   "metadata": {},
   "outputs": [],
   "source": []
  },
  {
   "cell_type": "markdown",
   "metadata": {},
   "source": [
    "# Sentiment Analysis"
   ]
  },
  {
   "cell_type": "code",
   "execution_count": 26,
   "metadata": {},
   "outputs": [
    {
     "name": "stderr",
     "output_type": "stream",
     "text": [
      "[nltk_data] Downloading package vader_lexicon to C:\\Users\\Ali Zahid\n",
      "[nltk_data]     Raja\\AppData\\Roaming\\nltk_data...\n",
      "[nltk_data]   Package vader_lexicon is already up-to-date!\n"
     ]
    },
    {
     "data": {
      "text/plain": [
       "True"
      ]
     },
     "execution_count": 26,
     "metadata": {},
     "output_type": "execute_result"
    }
   ],
   "source": [
    "from nltk.sentiment import SentimentIntensityAnalyzer\n",
    "nltk.download('vader_lexicon')"
   ]
  },
  {
   "cell_type": "code",
   "execution_count": 27,
   "metadata": {},
   "outputs": [
    {
     "data": {
      "text/plain": [
       "{'neg': 0.0, 'neu': 0.471, 'pos': 0.529, 'compound': 0.6696}"
      ]
     },
     "execution_count": 27,
     "metadata": {},
     "output_type": "execute_result"
    }
   ],
   "source": [
    "sia = SentimentIntensityAnalyzer()\n",
    "sia.polarity_scores(\"Islam is the best religion!\")"
   ]
  },
  {
   "cell_type": "code",
   "execution_count": 28,
   "metadata": {},
   "outputs": [
    {
     "data": {
      "text/plain": [
       "{'neg': 0.105, 'neu': 0.765, 'pos': 0.13, 'compound': 1.0}"
      ]
     },
     "execution_count": 28,
     "metadata": {},
     "output_type": "execute_result"
    }
   ],
   "source": [
    "sia.polarity_scores(quran)"
   ]
  },
  {
   "cell_type": "code",
   "execution_count": 29,
   "metadata": {},
   "outputs": [
    {
     "name": "stdout",
     "output_type": "stream",
     "text": [
      "1 {'neg': 0.0, 'neu': 0.731, 'pos': 0.269, 'compound': 0.9673}\n",
      "2 {'neg': 0.111, 'neu': 0.765, 'pos': 0.124, 'compound': 0.9993}\n",
      "3 {'neg': 0.119, 'neu': 0.733, 'pos': 0.148, 'compound': 0.9998}\n",
      "4 {'neg': 0.121, 'neu': 0.731, 'pos': 0.148, 'compound': 0.9997}\n",
      "5 {'neg': 0.12, 'neu': 0.768, 'pos': 0.113, 'compound': -0.996}\n",
      "6 {'neg': 0.105, 'neu': 0.794, 'pos': 0.101, 'compound': -0.993}\n",
      "7 {'neg': 0.122, 'neu': 0.776, 'pos': 0.102, 'compound': -0.9996}\n",
      "8 {'neg': 0.11, 'neu': 0.769, 'pos': 0.121, 'compound': 0.8246}\n",
      "9 {'neg': 0.131, 'neu': 0.74, 'pos': 0.129, 'compound': -0.9389}\n",
      "10 {'neg': 0.092, 'neu': 0.796, 'pos': 0.112, 'compound': 0.9971}\n",
      "11 {'neg': 0.102, 'neu': 0.757, 'pos': 0.141, 'compound': 0.9995}\n",
      "12 {'neg': 0.079, 'neu': 0.805, 'pos': 0.116, 'compound': 0.9994}\n",
      "13 {'neg': 0.082, 'neu': 0.799, 'pos': 0.119, 'compound': 0.9968}\n",
      "14 {'neg': 0.105, 'neu': 0.77, 'pos': 0.125, 'compound': 0.9914}\n",
      "15 {'neg': 0.089, 'neu': 0.8, 'pos': 0.111, 'compound': 0.9835}\n",
      "16 {'neg': 0.102, 'neu': 0.774, 'pos': 0.124, 'compound': 0.998}\n",
      "17 {'neg': 0.106, 'neu': 0.756, 'pos': 0.137, 'compound': 0.9988}\n",
      "18 {'neg': 0.073, 'neu': 0.794, 'pos': 0.132, 'compound': 0.9997}\n",
      "19 {'neg': 0.081, 'neu': 0.748, 'pos': 0.171, 'compound': 0.9997}\n",
      "20 {'neg': 0.079, 'neu': 0.805, 'pos': 0.116, 'compound': 0.9991}\n",
      "21 {'neg': 0.092, 'neu': 0.765, 'pos': 0.143, 'compound': 0.9994}\n",
      "22 {'neg': 0.106, 'neu': 0.771, 'pos': 0.123, 'compound': 0.9944}\n",
      "23 {'neg': 0.085, 'neu': 0.774, 'pos': 0.141, 'compound': 0.9993}\n",
      "24 {'neg': 0.095, 'neu': 0.786, 'pos': 0.119, 'compound': 0.9975}\n",
      "25 {'neg': 0.109, 'neu': 0.759, 'pos': 0.132, 'compound': 0.9934}\n",
      "26 {'neg': 0.093, 'neu': 0.757, 'pos': 0.15, 'compound': 0.9996}\n",
      "27 {'neg': 0.084, 'neu': 0.776, 'pos': 0.14, 'compound': 0.9995}\n",
      "28 {'neg': 0.077, 'neu': 0.8, 'pos': 0.123, 'compound': 0.9994}\n",
      "29 {'neg': 0.109, 'neu': 0.754, 'pos': 0.137, 'compound': 0.9935}\n",
      "30 {'neg': 0.105, 'neu': 0.759, 'pos': 0.137, 'compound': 0.9958}\n",
      "31 {'neg': 0.081, 'neu': 0.758, 'pos': 0.161, 'compound': 0.9988}\n",
      "32 {'neg': 0.106, 'neu': 0.792, 'pos': 0.102, 'compound': -0.9046}\n",
      "33 {'neg': 0.093, 'neu': 0.776, 'pos': 0.131, 'compound': 0.9989}\n",
      "34 {'neg': 0.095, 'neu': 0.787, 'pos': 0.118, 'compound': 0.9923}\n",
      "35 {'neg': 0.127, 'neu': 0.752, 'pos': 0.121, 'compound': -0.9784}\n",
      "36 {'neg': 0.095, 'neu': 0.793, 'pos': 0.112, 'compound': 0.985}\n",
      "37 {'neg': 0.072, 'neu': 0.768, 'pos': 0.161, 'compound': 0.9997}\n",
      "38 {'neg': 0.11, 'neu': 0.745, 'pos': 0.144, 'compound': 0.9966}\n",
      "39 {'neg': 0.111, 'neu': 0.744, 'pos': 0.145, 'compound': 0.9985}\n",
      "40 {'neg': 0.106, 'neu': 0.766, 'pos': 0.128, 'compound': 0.9943}\n",
      "41 {'neg': 0.118, 'neu': 0.758, 'pos': 0.123, 'compound': -0.8442}\n",
      "42 {'neg': 0.086, 'neu': 0.768, 'pos': 0.146, 'compound': 0.9991}\n",
      "43 {'neg': 0.093, 'neu': 0.778, 'pos': 0.129, 'compound': 0.9971}\n",
      "44 {'neg': 0.107, 'neu': 0.728, 'pos': 0.165, 'compound': 0.994}\n",
      "45 {'neg': 0.1, 'neu': 0.802, 'pos': 0.098, 'compound': -0.9028}\n",
      "46 {'neg': 0.123, 'neu': 0.781, 'pos': 0.096, 'compound': -0.9931}\n",
      "47 {'neg': 0.109, 'neu': 0.797, 'pos': 0.094, 'compound': -0.983}\n",
      "48 {'neg': 0.1, 'neu': 0.745, 'pos': 0.155, 'compound': 0.9965}\n",
      "49 {'neg': 0.097, 'neu': 0.715, 'pos': 0.188, 'compound': 0.9976}\n",
      "50 {'neg': 0.109, 'neu': 0.763, 'pos': 0.128, 'compound': 0.9517}\n",
      "51 {'neg': 0.065, 'neu': 0.81, 'pos': 0.126, 'compound': 0.9945}\n",
      "52 {'neg': 0.077, 'neu': 0.771, 'pos': 0.152, 'compound': 0.9968}\n",
      "53 {'neg': 0.102, 'neu': 0.747, 'pos': 0.151, 'compound': 0.994}\n",
      "54 {'neg': 0.166, 'neu': 0.75, 'pos': 0.084, 'compound': -0.9982}\n",
      "55 {'neg': 0.095, 'neu': 0.722, 'pos': 0.183, 'compound': 0.9986}\n",
      "56 {'neg': 0.048, 'neu': 0.837, 'pos': 0.115, 'compound': 0.9959}\n",
      "57 {'neg': 0.062, 'neu': 0.773, 'pos': 0.165, 'compound': 0.9994}\n",
      "58 {'neg': 0.117, 'neu': 0.768, 'pos': 0.114, 'compound': -0.8434}\n",
      "59 {'neg': 0.145, 'neu': 0.715, 'pos': 0.14, 'compound': -0.6507}\n",
      "60 {'neg': 0.078, 'neu': 0.785, 'pos': 0.136, 'compound': 0.9945}\n",
      "61 {'neg': 0.075, 'neu': 0.801, 'pos': 0.124, 'compound': 0.974}\n",
      "62 {'neg': 0.089, 'neu': 0.746, 'pos': 0.165, 'compound': 0.9856}\n",
      "63 {'neg': 0.085, 'neu': 0.814, 'pos': 0.102, 'compound': 0.8165}\n",
      "64 {'neg': 0.067, 'neu': 0.732, 'pos': 0.201, 'compound': 0.9979}\n",
      "65 {'neg': 0.097, 'neu': 0.839, 'pos': 0.064, 'compound': -0.9668}\n",
      "66 {'neg': 0.052, 'neu': 0.827, 'pos': 0.121, 'compound': 0.9895}\n",
      "67 {'neg': 0.097, 'neu': 0.751, 'pos': 0.152, 'compound': 0.9941}\n",
      "68 {'neg': 0.087, 'neu': 0.787, 'pos': 0.126, 'compound': 0.9892}\n",
      "69 {'neg': 0.104, 'neu': 0.784, 'pos': 0.112, 'compound': -0.5059}\n",
      "70 {'neg': 0.075, 'neu': 0.764, 'pos': 0.161, 'compound': 0.9939}\n",
      "71 {'neg': 0.086, 'neu': 0.776, 'pos': 0.138, 'compound': 0.98}\n",
      "72 {'neg': 0.092, 'neu': 0.853, 'pos': 0.055, 'compound': -0.9772}\n",
      "73 {'neg': 0.076, 'neu': 0.782, 'pos': 0.141, 'compound': 0.9895}\n",
      "74 {'neg': 0.107, 'neu': 0.827, 'pos': 0.066, 'compound': -0.9781}\n",
      "75 {'neg': 0.144, 'neu': 0.797, 'pos': 0.059, 'compound': -0.992}\n",
      "76 {'neg': 0.051, 'neu': 0.798, 'pos': 0.151, 'compound': 0.9964}\n",
      "77 {'neg': 0.139, 'neu': 0.764, 'pos': 0.097, 'compound': -0.9745}\n",
      "78 {'neg': 0.07, 'neu': 0.826, 'pos': 0.104, 'compound': 0.9462}\n",
      "79 {'neg': 0.097, 'neu': 0.837, 'pos': 0.066, 'compound': -0.9378}\n",
      "80 {'neg': 0.107, 'neu': 0.816, 'pos': 0.077, 'compound': -0.8813}\n",
      "81 {'neg': 0.059, 'neu': 0.866, 'pos': 0.074, 'compound': 0.2272}\n",
      "82 {'neg': 0.098, 'neu': 0.818, 'pos': 0.083, 'compound': 0.5293}\n",
      "83 {'neg': 0.104, 'neu': 0.817, 'pos': 0.079, 'compound': -0.8698}\n",
      "84 {'neg': 0.077, 'neu': 0.803, 'pos': 0.12, 'compound': 0.9232}\n",
      "85 {'neg': 0.068, 'neu': 0.833, 'pos': 0.099, 'compound': 0.8409}\n",
      "86 {'neg': 0.089, 'neu': 0.797, 'pos': 0.114, 'compound': 0.7445}\n",
      "87 {'neg': 0.061, 'neu': 0.799, 'pos': 0.14, 'compound': 0.9394}\n",
      "88 {'neg': 0.126, 'neu': 0.786, 'pos': 0.088, 'compound': -0.7755}\n",
      "89 {'neg': 0.07, 'neu': 0.803, 'pos': 0.126, 'compound': 0.9717}\n",
      "90 {'neg': 0.053, 'neu': 0.799, 'pos': 0.147, 'compound': 0.9659}\n",
      "91 {'neg': 0.185, 'neu': 0.77, 'pos': 0.044, 'compound': -0.983}\n",
      "92 {'neg': 0.134, 'neu': 0.694, 'pos': 0.172, 'compound': 0.9145}\n",
      "93 {'neg': 0.0, 'neu': 0.903, 'pos': 0.097, 'compound': 0.8142}\n",
      "94 {'neg': 0.12, 'neu': 0.749, 'pos': 0.132, 'compound': 0.4479}\n",
      "95 {'neg': 0.114, 'neu': 0.74, 'pos': 0.146, 'compound': 0.5833}\n",
      "96 {'neg': 0.118, 'neu': 0.801, 'pos': 0.081, 'compound': -0.9038}\n",
      "97 {'neg': 0.0, 'neu': 0.906, 'pos': 0.094, 'compound': 0.6351}\n",
      "98 {'neg': 0.071, 'neu': 0.738, 'pos': 0.191, 'compound': 0.9652}\n",
      "99 {'neg': 0.11, 'neu': 0.817, 'pos': 0.073, 'compound': -0.5848}\n",
      "100 {'neg': 0.103, 'neu': 0.802, 'pos': 0.095, 'compound': 0.2168}\n",
      "101 {'neg': 0.028, 'neu': 0.824, 'pos': 0.148, 'compound': 0.8829}\n",
      "102 {'neg': 0.051, 'neu': 0.765, 'pos': 0.185, 'compound': 0.9315}\n",
      "103 {'neg': 0.057, 'neu': 0.817, 'pos': 0.126, 'compound': 0.4215}\n",
      "104 {'neg': 0.079, 'neu': 0.822, 'pos': 0.099, 'compound': 0.4374}\n",
      "105 {'neg': 0.03, 'neu': 0.923, 'pos': 0.047, 'compound': 0.264}\n",
      "106 {'neg': 0.102, 'neu': 0.684, 'pos': 0.215, 'compound': 0.7003}\n",
      "107 {'neg': 0.143, 'neu': 0.802, 'pos': 0.055, 'compound': -0.6593}\n",
      "108 {'neg': 0.063, 'neu': 0.876, 'pos': 0.06, 'compound': -0.0258}\n",
      "109 {'neg': 0.045, 'neu': 0.606, 'pos': 0.348, 'compound': 0.9324}\n",
      "110 {'neg': 0.0, 'neu': 0.653, 'pos': 0.347, 'compound': 0.9432}\n",
      "111 {'neg': 0.078, 'neu': 0.759, 'pos': 0.163, 'compound': 0.7243}\n",
      "112 {'neg': 0.078, 'neu': 0.922, 'pos': 0.0, 'compound': -0.2755}\n",
      "113 {'neg': 0.299, 'neu': 0.664, 'pos': 0.037, 'compound': -0.9042}\n",
      "114 {'neg': 0.046, 'neu': 0.855, 'pos': 0.099, 'compound': 0.4215}\n"
     ]
    }
   ],
   "source": [
    "s_num = 1\n",
    "for ayats in surah:\n",
    "    s = \"\"\n",
    "    for ayat in ayats:\n",
    "        #print(ayat.split(\"|\")[-1])\n",
    "        s += ayat.split(\"|\")[-1] + \"\\n\"\n",
    "    print(s_num, sia.polarity_scores(s))\n",
    "    s_num+=1"
   ]
  },
  {
   "cell_type": "code",
   "execution_count": 30,
   "metadata": {},
   "outputs": [],
   "source": [
    "from collections import defaultdict\n",
    "from vaderSentiment.vaderSentiment import SentimentIntensityAnalyzer\n",
    "from textblob import TextBlob"
   ]
  },
  {
   "cell_type": "code",
   "execution_count": 31,
   "metadata": {},
   "outputs": [
    {
     "data": {
      "text/plain": [
       "Sentiment(polarity=0.08534967255499142, subjectivity=0.5377807004615831)"
      ]
     },
     "execution_count": 31,
     "metadata": {},
     "output_type": "execute_result"
    }
   ],
   "source": [
    "blob = TextBlob(clean_data)\n",
    "blob.sentiment"
   ]
  },
  {
   "cell_type": "markdown",
   "metadata": {},
   "source": [
    "## TEXT SUMMARY"
   ]
  },
  {
   "cell_type": "markdown",
   "metadata": {},
   "source": [
    "### Summary of Quran"
   ]
  },
  {
   "cell_type": "code",
   "execution_count": 32,
   "metadata": {},
   "outputs": [],
   "source": [
    "import heapq"
   ]
  },
  {
   "cell_type": "code",
   "execution_count": 33,
   "metadata": {},
   "outputs": [],
   "source": [
    "def summarise(text):\n",
    "    sentence_list = nltk.sent_tokenize(text)\n",
    "    stopwords = nltk.corpus.stopwords.words('english')\n",
    "    word_frequencies = {}\n",
    "    for word in nltk.word_tokenize(text):\n",
    "        if word not in stopwords:\n",
    "            if word not in word_frequencies.keys():\n",
    "                word_frequencies[word] = 1\n",
    "            else:\n",
    "                word_frequencies[word] += 1\n",
    "\n",
    "    maximum_frequncy = max(word_frequencies.values())\n",
    "    for word in word_frequencies.keys():\n",
    "        word_frequencies[word] = (word_frequencies[word]/maximum_frequncy)\n",
    "\n",
    "    sentence_scores = {}\n",
    "    for sent in sentence_list:\n",
    "        for word in nltk.word_tokenize(sent.lower()):\n",
    "            if word in word_frequencies.keys():\n",
    "                if len(sent.split(' ')) < 30:\n",
    "                    if sent not in sentence_scores.keys():\n",
    "                        sentence_scores[sent] = word_frequencies[word]\n",
    "                    else:\n",
    "                        sentence_scores[sent] += word_frequencies[word]\n",
    "\n",
    "\n",
    "    summary_sentences = heapq.nlargest(7, sentence_scores, key=sentence_scores.get)\n",
    "    summary = ' '.join(summary_sentences)\n",
    "    return summary"
   ]
  },
  {
   "cell_type": "code",
   "execution_count": 34,
   "metadata": {},
   "outputs": [
    {
     "data": {
      "text/plain": [
       "'O ye who believe! Behold! He said: \"O my people! He said: \"O my Lord! He said: \"Yea (and more)- for ye shall in that case be (raised to posts) nearest (to my person).\" After them succeeded an (evil) generation: They inherited the Book but they chose (for themselves) the vanities of this world saying (for excuse): \"(Everything) will be forgiven us.\" (Iblis) said: \"O my Lord!'"
      ]
     },
     "execution_count": 34,
     "metadata": {},
     "output_type": "execute_result"
    }
   ],
   "source": [
    "summarise(quran)"
   ]
  },
  {
   "cell_type": "markdown",
   "metadata": {},
   "source": [
    "### Summary of Surahs"
   ]
  },
  {
   "cell_type": "code",
   "execution_count": 35,
   "metadata": {},
   "outputs": [
    {
     "name": "stdout",
     "output_type": "stream",
     "text": [
      "SURAH NUMBER: 1 SUMMARY: Show us the straight way\n",
      "The way of those on whom Thou hast bestowed Thy Grace those whose (portion) is not wrath and who go not astray. Praise be to Allah the Cherisher and Sustainer of the worlds;\n",
      "Most Gracious Most Merciful;\n",
      "Master of the Day of Judgment. Thee do we worship and Thine aid we seek. In the name of Allah Most Gracious Most Merciful.\n",
      "\n",
      "SURAH NUMBER: 2 SUMMARY: his Lord said to him: \"Bow (thy will to Me):\" He said: \"I bow (my will) to the Lord and Cherisher of the Universe.\" The Jews say: \"The Christians have naught (to stand) upon; and the Christians say: \"The Jews have naught (To stand) upon.\" O ye who believe! They said: \"We shall worship Thy god and the god of thy fathers of Abraham IsmaÂ´il and Isaac- the one (True) Allah: To Him we bow (in Islam).\" There came to you Moses with clear (Signs); yet ye worshipped the calf (Even) after that and ye did behave wrongfully. Ramadhan is the (month) in which was sent down the QurÂ´an as a guide to mankind also clear (Signs) for guidance and judgment (Between right and wrong). So We said: \"Strike the (body) with a piece of the (heifer).\"\n",
      "\n",
      "SURAH NUMBER: 3 SUMMARY: (They are) the ones that say (of their brethren slain) while they themselves sit (at ease): \"If only they had listened to us they would not have been slain.\" O ye who believe! But those whose faces will be (lit with) white- they will be in (the light of) AllahÂ´s mercy: therein to dwell (for ever). Say: \"True guidance is the Guidance of Allah: (Fear ye) Lest a revelation be sent to someone (else) Like unto that which was sent unto you? They (also) said: \"Allah took our promise not to believe in an messenger unless He showed us a sacrifice consumed by Fire (From heaven).\" If then they turn back say ye: \"Bear witness that we (at least) are Muslims (bowing to AllahÂ´s Will). These were told: \"Come fight in the way of Allah or (at least) drive (The foe from your city).\"\n",
      "\n",
      "SURAH NUMBER: 4 SUMMARY: O ye who believe! Say not \"Trinity\" : desist: it will be better for you: for Allah is one Allah: Glory be to Him: (far exalted is He) above having a son. the sincere (lovers of Truth) the witnesses (who testify) and the Righteous (who do good): Ah! Follow not the lusts (of your hearts) lest ye swerve and if ye distort (justice) or decline to do justice verily Allah is well-acquainted with all that ye do. Whether ye publish a good deed or conceal it or cover evil with pardon verily Allah doth blot out (sins) and hath power (in the judgment of values). Allah doth wish to lighten your (difficulties): For man was created Weak (in flesh). -\n",
      "Except those who are (really) weak and oppressed - men women and children - who have no means in their power nor (a guide-post) to their way.\n",
      "\n",
      "SURAH NUMBER: 5 SUMMARY: O ye who believe! when ye prepare for prayer wash your faces and your hands (and arms) to the elbows; Rub your heads (with water); and (wash) your feet to the ankles. When it is said to them: \"Come to what Allah hath revealed; come to the Messenger\": They say: \"Enough for us are the ways we found our fathers following.\" The (selfish) soul of the other led him to the murder of his brother: he murdered him and became (himself) one of the lost ones. In this land are a people of exceeding strength: Never shall we enter it until they leave it: if (once) they leave then shall we enter.\" Your (real) friends are (no less than) Allah His Messenger and the (fellowship of) believers#NAME? And if any fail to judge by (the light of) what Allah hath revealed they are (No better than) wrong-doers.\n",
      "\n",
      "SURAH NUMBER: 6 SUMMARY: Verily this is My way leading straight: follow it: follow not (other) paths: they will scatter you about from His (great) path: thus doth He command you. One day shall We gather them all together: We shall say to those who ascribed partners (to Us): \"Where are the partners whom ye (invented and) talked about?\" When there comes to them a sign (from Allah) They say: \"We shall not believe until we receive one (exactly) like those received by AllahÂ´s messengers.\" I fear not (the beings) ye associate with Allah: Unless my Lord willeth (nothing can happen). Say: \"Allah (sent it down)\": Then leave them to plunge in vain discourse and trifling. He said: \"(Come) ye to dispute with me about Allah when He (Himself) hath guided me? He knoweth what ye hide and what ye reveal and He knoweth the (recompense) which ye earn (by your deeds).\n",
      "\n",
      "SURAH NUMBER: 7 SUMMARY: After them succeeded an (evil) generation: They inherited the Book but they chose (for themselves) the vanities of this world saying (for excuse): \"(Everything) will be forgiven us.\" (Allah) said: \"Get thee down from this: it is not for thee to be arrogant here: get out for thou art of the meanest (of creatures).\" He said: \"Yea (and more)- for ye shall in that case be (raised to posts) nearest (to my person).\" He said: \"O my people! We also (sent) Lut: He said to his people: \"Do ye commit lewdness such as no people in creation (ever) committed before you? They said: \"Keep him and his brother in suspense (for a while); and send to the cities men to collect-\n",
      "And bring up to thee all (our) sorcerers well-versed.\" He said: \"Their male children will we slay; (only) their females will we save alive; and we have over them (power) irresistible.\"\n",
      "\n",
      "SURAH NUMBER: 8 SUMMARY: Thus (will it be said): \"Taste ye then of the (punishment): for those who resist Allah is the penalty of the Fire.\" Their prayer at the House (of Allah) is nothing but whistling and clapping of hands: (Its only answer can be) \"Taste ye the penalty because ye blasphemed.\" But if the enemy incline towards peace do thou (also) incline towards peace and trust in Allah: for He is One that heareth and knoweth (all things). If thou fearest treachery from any group throw back (their covenant) to them (so as to be) on equal terms: for Allah loveth not the treacherous. Let not the unbelievers think that they can get the better (of the godly): they will never frustrate (them). But (now) enjoy what ye took in war lawful and good: but fear Allah: for Allah is Oft-forgiving Most Merciful. The Unbelievers are protectors one of another: Unless ye do this (protect each other) there would be tumult and oppression on earth and great mischief.\n",
      "\n",
      "SURAH NUMBER: 9 SUMMARY: The vanguard (of Islam)- the first of those who forsook (their homes) and of those who gave them aid and (also) those who follow them in (all) good deeds#NAME? If there had been immediate gain (in sight) and the journey easy they would (all) without doubt have followed thee but the distance was long (and weighed) on them. Say: \"Spend (for the cause) willingly or unwillingly: not from you will it be accepted: for ye are indeed a people rebellious and wicked.\" after that the hearts of a part of them had nearly swerved (from duty); but He turned to them (also): for He is unto them Most Kind Most Merciful. They prefer to be with (the women) who remain behind (at home): their hearts are sealed and so they understand not. Praise and glory to Him: (Far is He) from having the partners they associate (with Him). But if they turn away Say: \"Allah sufficeth me: there is no god but He: On Him is my trust- He the Lord of the Throne (of Glory) Supreme!\"\n",
      "\n",
      "SURAH NUMBER: 10 SUMMARY: (It was said to him): \"Ah now!- But a little while before wast thou in rebellion!- and thou didst mischief (and violence)! Say: \"The Unseen is only for Allah (to know) then wait ye: I too will wait with you.\" Said Moses: \"Say ye (this) about the truth when it hath (actually) reached you? Say: \"It is Allah Who originates creation and repeats it: then how are ye deluded away (from the truth)?\" To every people is a term appointed: when their term is reached not an hour can they cause delay nor (an hour) can they advance (it in anticipation).\" Say: \"O ye men! he said to his people: \"O my people if it be hard on your (mind) that I should stay (with you) and commemorate the signs of Allah#NAME?\n",
      "\n",
      "SURAH NUMBER: 11 SUMMARY: He said: \"O my people! \"And O my people! So he said: \"Enjoy yourselves in your homes for three days: (Then will be your ruin): (Behold) there a promise not to be belied!\" They worship nothing but what their fathers worshipped before (them): but verily We shall pay them back (in full) their portion without (the least) abatement. Behold! So the Ark floated with them on the waves (towering) like mountains and Noah called out to his son who had separated himself (from the rest): \"O my son! To the Madyan People (We sent) ShuÂ´aib one of their own brethren: he said: \"O my people!\n",
      "\n"
     ]
    },
    {
     "name": "stdout",
     "output_type": "stream",
     "text": [
      "SURAH NUMBER: 12 SUMMARY: The king (of Egypt) said: \"I do see (in a vision) seven fat kine whom seven lean ones devour and seven green ears of corn and seven (others) withered. (The king) said (to the ladies): \"What was your affair when ye did seek to seduce Joseph from his (true) self?\" \"Tell us\" (they said) \"The truth and meaning thereof: for we see thou art one that doth good (to all).\" But she in whose house he was sought to seduce him from his (true) self: she fastened the doors and said: \"Now come thou (dear one)!\" (Joseph) said: \"Set me over the store-houses of the land: I will indeed guard them as one that knows (their importance).\" They said: \"O our father! He (simply) said (to himself): \"Ye are the worse situated; and Allah knoweth best the truth of what ye assert!\"\n",
      "\n",
      "SURAH NUMBER: 13 SUMMARY: Mocked were (many) messengers before thee: but I granted respite to the unbelievers and finally I punished them: Then how (terrible) was my requital! If thou dost marvel (at their want of faith) strange is their saying: \"When we are (actually) dust shall we indeed then be in a creation renewed?\" \"For those who believe and work righteousness is (every) blessedness and a beautiful place of (final) return.\" For each (such person) there are (angels) in succession before and behind him: They guard him by command of Allah. Allah doth know what every female (womb) doth bear by how much the wombs fall short (of their time or number) or do exceed. They are those round whose necks will be yokes (of servitude): they will be Companions of the Fire to dwell therein (for aye)! Allah doth enlarge or grant by (strict) measure the sustenance (which He giveth) to whomso He pleaseth.\n",
      "\n",
      "SURAH NUMBER: 14 SUMMARY: your Lord caused to be declared (publicly): \"If ye are grateful I will add more (favours) unto you; But if ye show ingratitude truly My punishment is terrible indeed.\" We sent not a messenger except (to teach) in the language of his (own) people in order to make (things) clear to them. Here is a Message for mankind: Let them take warning therefrom and let them know that He is (no other than) One Allah: let men of understanding take heed. Ye wish to turn us away from the (gods) our fathers used to worship: then bring us some clear authority.\" cover (us) with Thy Forgiveness - me my parents and (all) Believers on the Day that the Reckoning will be established! And they set up (idols) as equal to Allah to mislead (men) from the Path! respite us (if only) for a short term: we will answer Thy call and follow the messengers!\"\n",
      "\n",
      "SURAH NUMBER: 15 SUMMARY: Leave them alone to enjoy (the good things of this life) and to please themselves: let (false) hope amuse them: soon will knowledge (undeceive them). And We shall remove from their hearts any lurking sense of injury: (they will be) brothers (joyfully) facing each other on thrones (of dignity). (Iblis) said: \"O my Lord! He said: \"There are my daughters (to marry) if ye must act (so).\" (Allah) said: \"This (way of My sincere servants) is indeed a way that leads straight to Me. Abraham said: \"What then is the business on which ye (have come) O ye messengers (of Allah)?\" (Wistfully) at what We have bestowed on certain classes of them nor grieve over them: but lower thy wing (in gentleness) to the believers.\n",
      "\n",
      "SURAH NUMBER: 16 SUMMARY: Allah has said: \"Take not (for worship) two gods: for He is just One Allah: then fear Me (and Me alone).\" And cattle He has created for you (men): from them ye derive warmth and numerous benefits and of their (meat) ye eat. And to Allah doth obeisance all that is in the heavens and on earth whether moving (living) creatures or the angels: for none are arrogant (before their Lord). That Day shall they (openly) show (their) submission to Allah; and all their inventions shall leave them in the lurch. 16\n",
      "The Sabbath was only made (strict) for those who disagreed (as to its observance); But Allah will judge between them on the Day of Judgment as to their differences. Then would they offer submission (with the pretence) \"We did no evil (knowingly).\" then enjoy (your brief day): but soon will ye know (your folly)!\n",
      "\n",
      "SURAH NUMBER: 17 SUMMARY: (It will be said to him:) \"Read thine (own) record: Sufficient is thy soul this day to make out an account against thee.\" And say: \"Truth has (now) arrived and Falsehood perished: for Falsehood is (by its nature) bound to perish.\" (Allah) said: \"Go thy way; if any of them follow thee verily Hell will be the recompense of you (all)- an ample recompense. Say: \"The Spirit (cometh) by command of my Lord: of knowledge it is only a little that is communicated to you (O men!)\" Say: \"Call upon Allah or call upon Rahman: by whatever name ye call upon Him (it is well): for to Him belong the Most Beautiful Names. We have explained (things) in various (ways) in this QurÂ´an in order that they may receive admonition but it only increases their flight (from the Truth)! We gave Moses the Book and made it a Guide to the Children of Israel (commanding): \"Take not other than Me as Disposer of (your) affairs.\"\n",
      "\n",
      "SURAH NUMBER: 18 SUMMARY: \":\n",
      "And the Book (of Deeds) will be placed (before you); and thou wilt see the sinful in great terror because of what is (recorded) therein; they will say \"Ah! (Moses) said: \"If ever I ask thee about anything after this keep me not in thy company: then wouldst thou have received (full) excuse from my side.\" When they had passed on (some distance) Moses said to his attendant: \"Bring us our early meal; truly we have suffered much fatigue at this (stage of) our journey.\" I did indeed forget (about) the Fish: none but Satan made me forget to tell (you) about it: it took its course through the sea in a marvellous way!\" Moses said: \"Thou wilt find me if Allah so will (truly) patient: nor shall I disobey thee in aught.\" Moses said: \"That was what we were seeking after:\" So they went back on their footsteps following (the path they had come). He answered: \"This is the parting between me and thee: now will I tell thee the interpretation of (those things) over which thou wast unable to hold patience.\n",
      "\n",
      "SURAH NUMBER: 19 SUMMARY: He said: \"So (it will be) thy Lord saith Â´that is easy for Me: I did indeed create thee before when thou hadst been nothing!Â´\"\n",
      "(Zakariya) said: \"O my Lord! Also mention in the Book (the story of) IsmaÂ´il: He was (strictly) true to what he promised and he was a messenger (and) a prophet. Such (was) Jesus the son of Mary: (it is) a statement of truth about which they (vainly) dispute. She said: \"I seek refuge from thee to (Allah) Most Gracious: (come not near) if thou dost fear Allah.\" Also mention in the Book the case of Idris: He was a man of truth (and sincerity) (and) a prophet:\n",
      "And We raised him to a lofty station. Also mention in the Book (the story of) Moses: for he was specially chosen and he was a messenger (and) a prophet. But (a voice) cried to her from beneath the (palm-tree): \"Grieve not!\n",
      "\n",
      "SURAH NUMBER: 20 SUMMARY: (All) faces shall be humbled before (Him) - the Living the Self-Subsisting Eternal: hopeless indeed will be the man that carries iniquity (on his back). He said: \"Our Lord is He Who gave to each (created) thing its form and nature and further gave (it) guidance.\" (Allah) will say: \"Thus didst Thou when Our Signs came unto thee disregard them: so wilt thou this day be disregarded.\" \"Therefore concert your plan and then assemble in (serried) ranks: He wins (all along) today who gains the upper hand.\" (Allah) said: \"We have tested thy people in thy absence: the Samiri has led them astray.\" He said: \"Fear not: for I am with you: I hear and see (everything). \"Verily I am Allah: There is no god but I: So serve thou Me (only) and establish regular prayer for celebrating My praise.\n",
      "\n",
      "SURAH NUMBER: 21 SUMMARY: Say: \"My Lord knoweth (every) word (spoken) in the heavens and on earth: He is the One that heareth and knoweth (all things).\" But (later generations) cut off their affair (of unity) one from another: (yet) will they all return to Us. (Remember) Noah when he cried (to Us) aforetime: We listened to his (prayer) and delivered him and his family from great distress. Verily ye (unbelievers) and the (false) gods that ye worship besides Allah are (but) fuel for Hell! The Great Terror will bring them no grief: but the angels will meet them (with mutual greetings): \"This is your Day- (the Day) that ye were promised.\" Then were they confounded with shame: (they said) \"Thou knowest full well that these (idols) do not speak!\" He said \"Nay your Lord is the Lord of the heavens and the earth He Who created them (from nothing): and I am a witness to this (Truth).\n",
      "\n"
     ]
    },
    {
     "name": "stdout",
     "output_type": "stream",
     "text": [
      "SURAH NUMBER: 22 SUMMARY: Such (is his state): and whoever holds in honour the symbols of Allah (in the sacrifice of animals) such (honour) should come truly from piety of heart. But I granted respite to the Unbelievers and (only) after that did I punish them: but how (terrible) was my rejection (of them)! Allah will certainly aid those who aid his (cause);- for verily Allah is full of Strength Exalted in Might (able to enforce His Will). (Perhaps) they call on one whose hurt is nearer than his profit: evil indeed is the patron and evil the companion (or help)! To every people did We appoint rites (of sacrifice) that they might celebrate the name of Allah over the sustenance He gave them from animals (fit for food). For they have been guided (in this life) to the purest of speeches; they have been guided to the Path of Him Who is Worthy of (all) Praise. Those who believe (in the QurÂ´an) those who follow the Jewish (scriptures) and the Sabians Christians Magians and Polytheists#NAME?\n",
      "\n",
      "SURAH NUMBER: 23 SUMMARY: (And some said): \"He is only a man possessed: wait (and have patience) with him for a time.\" Verily in this there are Signs (for men to understand); (thus) do We try (men). Will ye not fear (Him)?\" enjoy (all) things good and pure and work righteousness: for I am well-acquainted with (all) that ye do. \"My Signs used to be rehearsed to you but ye used to turn back on your heels-\n",
      "\"In arrogance: talking nonsense about the (QurÂ´an) like one telling fables by night.\" (It will be said): \"Groan not in supplication this day: for ye shall certainly not be helped by Us. He will say: \"Be ye driven into it (with ignominy)!\n",
      "\n",
      "SURAH NUMBER: 24 SUMMARY: Say: \"Swear ye not; Obedience is (more) reasonable; verily Allah is well acquainted with all that ye do.\" Allah doth admonish you that ye may never repeat such (conduct) if ye are (true) Believers. They say \"We believe in Allah and in the messenger and we obey\": but even after that some of them turn away: they are not (really) Believers. Those who love (to see) scandal published broadcast among the Believers will have a grievous Penalty in this life and in the Hereafter: Allah knows and ye know not. Say: \"Obey Allah and obey the Messenger: but if ye turn away he is only responsible for the duty placed on him and ye for that placed on you. On that Day Allah will pay them back (all) their just dues and they will realise that Allah is the (very) Truth that makes all things manifest. Allah doth guide whom He will to His Light: Allah doth set forth Parables for men: and Allah doth know all things.\n",
      "\n",
      "SURAH NUMBER: 25 SUMMARY: (Allah will say): \"Now have they proved you liars in what ye say: so ye cannot avert (your penalty) nor (get) help.\" And We have distributed the (water) amongst them in order that they may celebrate (our) praises but most men are averse (to aught) but (rank) ingratitude. Say: \"The (QurÂ´an) was sent down by Him who knows the mystery (that is) in the heavens and the earth: verily He is Oft-Forgiving Most Merciful.\" The Day they see the angels- no joy will there be to the sinners that Day: The (angels) will say: \"There is a barrier forbidden (to you) altogether!\" Such as fear not the meeting with Us (for Judgment) say: \"Why are not the angels sent down to us or (why) do we not see our Lord?\" Say: \"No reward do I ask of you for it but this: that each one who will may take a (straight) Path to his Lord.\" And the (Unbelievers) must indeed have passed by the town on which was rained a shower of evil: did they not then see it (with their own eyes)?\n",
      "\n",
      "SURAH NUMBER: 26 SUMMARY: Verily in this is a Sign: but most of them do not believe. Then Pharaoh sent heralds to (all) the Cities\n",
      "(Saying): \"These (Israelites) are but a small band\n",
      "\"And they are raging furiously against us;\n",
      "\"But we are a multitude amply fore-warned.\" And verily thy Lord is He the Exalted in Might Most Merciful. He said: \"Yea (and more)- for ye shall in that case be (raised to posts) nearest (to my person).\" \"No reward do I ask of you for it: my reward is only from the Lord of the Worlds. They said: \"Keep him and his brother in suspense (for a while) and dispatch to the Cities heralds to collect-\n",
      "\"And bring up to thee all (our) sorcerers well-versed.\" \"And fear Him Who created you and (who created) the generations before (you)\"\n",
      "They said: \"Thou art only one of those bewitched!\n",
      "\n",
      "SURAH NUMBER: 27 SUMMARY: (We also sent) Lut (as a messenger): behold He said to his people \"Do ye do what is shameful though ye see (its iniquity)? \"Go thou with this letter of mine and deliver it to them: then draw back from them and (wait to) see what answer they return\"...\n",
      "(The queen) said: \"Ye chiefs! \"But I am going to send him a present and (wait) to see with what (answer) return (my) ambassadors.\" (Can there be another) god besides Allah? We have been taught the speech of birds and on us has been bestowed (a little) of all things: this is indeed Grace manifest (from Allah.)\" I have indeed wronged my soul: I do (now) submit (in Islam) with Solomon to the Lord of the Worlds.\" We gave (in the past) knowledge to David and Solomon: And they both said: \"Praise be to Allah Who has favoured us above many of his servants who believe!\"\n",
      "\n",
      "SURAH NUMBER: 28 SUMMARY: They said: \"We cannot water (our flocks) until the shepherds take back (their flocks): And our father is a very old man.\" Then the (whole) story that Day will seem obscure to them (like light to the blind) and they will not be able (even) to question each other. The reward of Allah (in the Hereafter) is best for those who believe and work righteousness: but this none shall attain save those who steadfastly persevere (in good).\" So when he came to him and narrated the story he said: \"Fear thou not: (well) hast thou escaped from unjust people.\" Said one of the (damsels): \"O my (dear) father! And she said to the sister of (Moses) \"Follow him\" so she (the sister) watched him in the character of a stranger. \"Move thy hand into thy bosom and it will come forth white without stain (or harm) and draw thy hand close to thy side (to guard) against fear.\n",
      "\n",
      "SURAH NUMBER: 29 SUMMARY: And (remember) Lut: behold he said to his people: \"Ye do commit lewdness such as no people in Creation (ever) committed before you. \"And if ye reject (the Message) so did generations before you: and the duty of the messenger is only to preach publicly (and clearly).\" \"Not on earth nor in heaven will ye be able (fleeing) to frustrate (his Plan) nor have ye besides Allah any protector or helper.\" (Remember also) Qarun Pharaoh and Haman: there came to them Moses with Clear Signs but they behaved with insolence on the earth; yet they could not overreach (Us). We (once) sent Noah to his people and he tarried among them a thousand years less fifty: but the Deluge overwhelmed them while they (persisted in) sin. Verily Allah doth know of (every thing) whatever that they call upon besides Him: and He is Exalted (in power) Wise. It is Allah who feeds (both) them and you: for He hears and knows (all things).\n",
      "\n",
      "SURAH NUMBER: 30 SUMMARY: Then enjoy (your brief day); but soon will ye know (your folly). A. L. M.\n",
      "The Roman Empire has been defeated-\n",
      "In a land close by; but they (even) after (this) defeat of theirs will soon be victorious-\n",
      "Within a few years. Say: \"Travel through the earth and see what was the end of those before (you): Most of them worshipped others besides Allah.\" So on that Day no excuse of theirs will avail the transgressors nor will they be invited (then) to seek grace (by repentance). So patiently persevere: for verily the promise of Allah is true: nor let those shake thy firmness who have (themselves) no certainty of faith. Nor canst thou lead back the blind from their straying: only those wilt thou make to hear who believe in Our signs and submit (their wills in Islam). And if We (but) send a Wind from which they see (their tilth) turn yellow#NAME?\n",
      "\n",
      "SURAH NUMBER: 31 SUMMARY: we bestowed (in the past) Wisdom on Luqman: \"Show (thy) gratitude to Allah.\" When they are told to follow the (Revelation) that Allah has sent down they say: \"Nay we shall follow the ways that we found our fathers (following). To Allah belong all things in heaven and earth: verily Allah is He (that is) free of all wants worthy of all praise. join not in worship (others) with Allah: for false worship is indeed the highest wrong-doing.\" \"And swell not thy cheek (for pride) at men nor walk in insolence through the earth; for Allah loveth not any arrogant boaster. And your creation or your resurrection is in no wise but as an individual soul: for Allah is He Who hears and sees (all things). These are on (true) guidance from their Lord: and these are the ones who will prosper.\n",
      "\n",
      "SURAH NUMBER: 32 SUMMARY: We have seen and we have heard: Now then send us back (to the world): we will work righteousness: for we do indeed (now) believe.\" Say: \"The Angel of Death put in charge of you will (duly) take your souls: then shall ye be brought back to your Lord.\" And He gave you (the faculties of) hearing and sight and feeling (and understanding): little thanks do ye give! Now no person knows what delights of the eye are kept hidden (in reserve) for them - as a reward for their (good) deeds. And indeed We will make them taste of the Penalty of this (life) prior to the supreme Penalty in order that they may (repent and) return. We did indeed aforetime give the Book to Moses: be not then in doubt of its reaching (thee): and We made it a guide to the Children of Israel. If only thou couldst see when the guilty ones will bend low their heads before their Lord (saying:) \"Our Lord!\n",
      "\n",
      "SURAH NUMBER: 33 SUMMARY: (Such was) the practice (approved) of Allah among those who lived aforetime: No change wilt thou find in the practice (approved) of Allah. (and then) not (so early as) to wait for its preparation: but when ye are invited enter; and when ye have taken your meal disperse without seeking familiar talk. Than (the Brotherhood of) Believers and Muhajirs: nevertheless do ye what is just to your closest friends: such is the writing in the Decree (of Allah). Such (behaviour) annoys the Prophet: he is ashamed to dismiss you but Allah is not ashamed (to tell you) the truth. O ye who believe! Men ask thee concerning the Hour: Say \"The knowledge thereof is with Allah (alone)\": and what will make thee understand?- perchance the Hour is nigh! But there is no blame on you if ye make a mistake therein: (what counts is) the intention of your hearts: and Allah is Oft-Returning Most Merciful.\n",
      "\n"
     ]
    },
    {
     "name": "stdout",
     "output_type": "stream",
     "text": [
      "SURAH NUMBER: 34 SUMMARY: Say: \"Verily my Lord doth cast the (mantle of) Truth (over His servants)- He that has full knowledge of (all) that is hidden.\" They worked for him as he desired (making) arches images basons as large as reservoirs and (cooking) cauldrons fixed (in their places): \"Work ye sons of David with thanks! Say: \"No reward do I ask of you: it is (all) in your interest: my reward is only due from Allah: And He is witness to all things.\" The Unbelievers say: \"We shall neither believe in this scripture nor in (any) that (came) before it.\" Say: \"Show me those whom ye have joined with Him as partners: by no means (can ye). Say: \"Call upon other (gods) whom ye fancy besides Allah: They have no power#NAME?#NAME? Never did We send a warner to a population but the wealthy ones among them said: \"We believe not in the (Message) with which ye have been sent.\"\n",
      "\n",
      "SURAH NUMBER: 35 SUMMARY: But no change wilt thou find in AllahÂ´s way (of dealing): no turning off wilt thou find in AllahÂ´s way (of dealing). Verily Allah knows (all) the hidden things of the heavens and the earth: verily He has full knowledge of all that is in (menÂ´s) hearts. Or have We given them a Book from which they (can derive) clear (evidence)?- Nay the wrong-doers promise each other nothing but delusions. In the end did I punish those who rejected Faith: and how (terrible) was My rejection (of them)! or three or four (pairs): He adds to Creation as He pleases: for Allah has power over all things. So taste ye (the fruits of your deeds): for the wrong-doers there is no helper.\" If any do seek for glory and power#NAME?- for them is a Penalty terrible; and the plotting of such will be void (of result).\n",
      "\n",
      "SURAH NUMBER: 36 SUMMARY: \"Embrace ye the (fire) this Day for that ye (persistently) rejected (Truth).\" And he makes comparisons for Us and forgets his own (origin and) Creation: He says \"Who can give life to (dry) bones and decomposed ones (at that)?\" The (people) said: \"Ye are only men like ourselves; and (Allah) Most Gracious sends no sort of revelation: ye do nothing but lie.\" of them some do carry them and some they eat:\n",
      "And they have (other) profits from them (besides) and they get (milk) to drink. (A voice will say:) \"This is what (Allah) Most Gracious had promised. They have not the power to help them: but they will be brought up (before Our Judgment-seat) as a troop (to be condemned). Glory to Allah Who created in pairs all things that the earth produces as well as their own (human) kind and (other) things of which they have no knowledge.\n",
      "\n",
      "SURAH NUMBER: 37 SUMMARY: Then when (the son) reached (the age of) (serious) work with him he said: \"O my son! he has come with the (very) Truth and he confirms (the Message of) the messengers (before him). And We left (this blessing) for them among generations (to come) in later times:\n",
      "\"Peace and salutation to Moses and Aaron!\" And We left (this blessing) for him among generations (to come) in later times:\n",
      "\"Peace and salutation to such as Elias!\" (A voice will say) \"This is the Day of Sorting Out whose truth ye (once) denied!\" when we die and become dust and bones shall we (then) be raised up (again)\n",
      "\"And also our fathers of old?\" \"So now has been proved true against us the word of our Lord that we shall indeed (have to) taste (the punishment of our sins).\n",
      "\n",
      "SURAH NUMBER: 38 SUMMARY: (The command was given:) \"Strike with thy foot: here is (water) wherein to wash cool and refreshing and (water) to drink.\" but - for the wrong-doers will be an evil place of (Final) Return!-\n",
      "Hell!- they will burn therein - an evil bed (indeed to lie on)!-\n",
      "Yea such! (Iblis) said: \"Then by Thy power I will put them all in the wrong-\n",
      "\"Except Thy Servants amongst them sincere and purified (by Thy Grace).\" (The followers shall cry to the misleaders:) \"Nay ye (too)! \"...and David gathered that We had tried him: he asked forgiveness of his Lord fell down bowing (in prostration) and turned (to Allah in repentance). Forgive me and grant me a kingdom which (it may be) suits not another after me: for Thou art the Grantor of Bounties (without measure). So We forgave him this (lapse): he enjoyed indeed a Near Approach to Us and a beautiful place of (Final) Return.\n",
      "\n",
      "SURAH NUMBER: 39 SUMMARY: That lofty mansions one above another have been built: beneath them flow rivers (of delight): (such is) the Promise of Allah: never doth Allah fail in (His) promise. Truly thou wilt die (one day) and truly they (too) will die (one day). (To them) will be said: \"Enter ye the gates of Hell to dwell therein: and evil is (this) Abode of the Arrogant!\" The Decision between them (at Judgment) will be in (perfect) justice and the cry (on all sides) will be \"Praise be to Allah the Lord of the Worlds!\" And the wrong-doers of this (generation)- the evil results of their Deeds will soon overtake them (too) and they will never be able to frustrate (Our Plan)! \"Turn ye to our Lord (in repentance) and bow to His (Will) before the Penalty comes on you: after that ye shall not be helped. Say: \"It is Allah I serve with my sincere (and exclusive) devotion:\n",
      "\"Serve ye what ye will besides him.\"\n",
      "\n",
      "SURAH NUMBER: 40 SUMMARY: \"Soon will ye remember what I say to you (now) My (own) affair I commit to Allah: for Allah (ever) watches over His Servants.\" And Allah will judge with (justice and) Truth: but those whom (men) invoke besides Him will not (be in a position) to judge at all. (Allah) knows of (the tricks) that deceive with the eyes and all that the hearts (of men) conceal. Not equal are the blind and those who (clearly) see: Nor are (equal) those who believe and work deeds of righteousness and those who do evil. But the prayer of those without Faith is nothing but (futile wandering) in (mazes of) error!\" They will reply: \"They have left us in the lurch: Nay we invoked not of old anything (that had real existence).\" Then Allah saved him from (every) ill that they plotted (against him) but the burnt of the Penalty encompassed on all sides the People of Pharaoh.\n",
      "\n",
      "SURAH NUMBER: 41 SUMMARY: Say: \"See ye if the (Revelation) is (really) from Allah and yet do ye reject it? But if they turn away say thou: \"I have warned you of a stunning Punishment (as of thunder and lightning) like that which (overtook) the Â´Ad and the Thamud!\" But is the (Unbelievers) are arrogant (no matter): for in the presence of thy Lord are those who celebrate His praises by night and by day. Moreover He comprehended in His design the sky and it had been (as) smoke: He said to it and to the earth: \"Come ye together willingly or unwillingly.\" Truly He Who gives life to the (dead) earth can surely give life to (men) who are dead. In the case of those who say \"Our Lord is Allah\" and further stand straight and steadfast the angels descend on them (from time to time): \"Fear ye not!\" Man does not weary of asking for good (things) but if ill touches him he gives up all hope (and) is lost in despair.\n",
      "\n",
      "SURAH NUMBER: 42 SUMMARY: And thou wilt see them brought forward to the (Penalty) in a humble frame of mind because of (their) disgrace (and) looking with a stealthy glance. He is the One that sends down rain (even) after (men) have given up all hope and scatters His Mercy (far and wide). Nor can ye frustrate (aught) (fleeing) through the earth; nor have ye besides Allah any one to protect or to help. Or He can cause them to perish because of the (evil) which (the men) have earned; but much doth He forgive. Thou wilt see the Wrong-doers in fear on account of what they have earned and (the burden of) that must (necessarily) fall on them. Thus doth (He) send inspiration to thee as (He did) to those before thee#NAME? And if any one earns any good We shall give him an increase of good in respect thereof: for Allah is Oft-Forgiving Most Ready to appreciate (service).\n",
      "\n",
      "SURAH NUMBER: 43 SUMMARY: They said: \"For us we deny that ye (prophets) are sent (on a mission at all).\" At length when (such a one) comes to Us he says (to his evil companion): \"Would that between me and thee were the distance of East and West!\" The (QurÂ´an) is indeed the message for thee and for thy people; and soon shall ye (all) be brought to account. no fear shall be on you that Day nor shall ye grieve-\n",
      "(Being) those who have believed in Our Signs and bowed (their wills to Ours) in Islam. Abraham said to his father and his people: \"I do indeed clear myself of what ye worship:\n",
      "\"(I worship) only Him Who made me and He will certainly guide me.\" The sinners will be in the Punishment of Hell to dwell therein (for aye):\n",
      "Nowise will the (Punishment) be lightened for them and in despair will they be there overwhelmed. they say \"If it had been the will of (Allah) Most Gracious we should not have worshipped such (deities)!\"\n",
      "\n",
      "SURAH NUMBER: 44 SUMMARY: \"And leave the sea as a furrow (divided): for they are a host (destined) to be drowned.\" By the Book that makes things clear;-\n",
      "We sent it down during a Blessed Night: for We (ever) wish to warn (against Evil). We shall indeed remove the Penalty for a while (but) truly ye will revert (to your ways). (But they were aggressive:) then he cried to his Lord: \"These are indeed a people given to sin.\" (The reply came:) \"March forth with My Servants by night: for ye are sure to be pursued. We created not the heavens the earth and all between them merely in (idle) sport:\n",
      "We created them not except for just ends: but most of them do not understand. Then watch thou for the Day that the sky will bring forth a kind of smoke (or mist) plainly visible\n",
      "Enveloping the people: this will be a Penalty Grievous.\n",
      "\n",
      "SURAH NUMBER: 45 SUMMARY: Then We put thee on the (right) Way of Religion: so follow thou that (Way) and follow not the desires of those who know not. And thou wilt see every sect bowing the knee: Every sect will be called to its Record: \"This Day shall ye be recompensed for all that ye did! Allah has knowing (him as such) left him astray and sealed his hearing and his heart (and understanding) and put a cover on his sight. If any one does a righteous deed it ensures to the benefit of his own soul; if he does evil it works against (his own soul). But as to those who rejected Allah (to them will be said): \"Were not Our Signs rehearsed to you? \"This Our Record speaks about you with truth: For We were wont to put on Record all that ye did.\" In the end will ye (all) be brought back to your Lord.\n",
      "\n",
      "SURAH NUMBER: 46 SUMMARY: (One will say:) \"Then taste ye the Penalty for that ye were wont to deny (Truth)!\" The Unbelievers say of those who believe: \"If (this Message) were a good thing (such men) would not have gone to it first before us!\" And We had firmly established them in a (prosperity and) power which We have not given to you (ye Quraish!) Therefore patiently persevere as did (all) messengers of inflexible purpose; and be in no haste about the (Unbelievers). When the (reading) was finished they returned to their people to warn (them of their sins). And when mankind are gathered together (at the Resurrection) they will be hostile to them and reject their worship (altogether)! On the Day that they see the (Punishment) promised them (it will be) as if they had not tarried more than an hour in a single day.\n",
      "\n",
      "SURAH NUMBER: 47 SUMMARY: This because they said to those who hate what Allah has revealed \"We will obey you in part of (this) matter\"; but Allah knows their (inner) secrets. Those who reject Allah and hinder (men) from the Path of Allah- their deeds will Allah render astray (from their mark). and (Allah) will render their deeds astray (from their mark). But to those who receive Guidance He increases the (light of) Guidance and bestows on them their Piety and Restraint (from evil). Be not weary and faint-hearted crying for peace when ye should be uppermost: for Allah is with you and will never put you in loss for your (good) deeds. Behold ye are those invited to spend (of your substance) in the Way of Allah: But among you are some that are niggardly. And We shall try you until We test those among you who strive their utmost and persevere in patience; and We shall try your reported (mettle).\n",
      "\n",
      "SURAH NUMBER: 48 SUMMARY: They wish to change AllahÂ´s decree: Say: \"Not thus will ye follow us: Allah has already declared (this) beforehand\": then they will say \"But ye are jealous of us.\" Those who lagged behind (will say) when ye (are free to) march and take booty (in war): \"Permit us to follow you.\" (Such has been) the practice (approved) of Allah already in the past: no change wilt thou find in the practice (approved) of Allah. Say to the desert Arabs who lagged behind: \"Ye shall be summoned (to fight) against a people given to vehement war: then shall ye fight or they shall submit. Thou wilt see them bow and prostrate themselves (in prayer) seeking Grace from Allah and (His) Good Pleasure. Then if ye show obedience Allah will grant you a goodly reward but if ye turn back as ye did before He will punish you with a grievous Penalty.\" Muhammad is the messenger of Allah; and those who are with him are strong against Unbelievers (but) compassionate amongst each other.\n",
      "\n",
      "SURAH NUMBER: 49 SUMMARY: O ye who believe! The Believers are but a single Brotherhood: So make peace and reconciliation between your two (contending) brothers; and fear Allah that ye may receive Mercy. Say \"Ye have no faith; but ye (only)say Â´We have submitted our wills to AllahÂ´ For not yet has Faith entered your hearts. Avoid suspicion as much (as possible): for suspicion in some cases is a sin: And spy not on each other behind their backs. \"Verily Allah knows the secrets of the heavens and the earth: and Allah Sees well all that ye do.\" If a wicked person comes to you with any news ascertain the truth lest ye harm people unwittingly and afterwards become full of repentance for what ye have done. But if ye obey Allah and His Messenger He will not belittle aught of your deeds: for Allah is Oft-Forgiving Most Merciful.\"\n",
      "\n"
     ]
    },
    {
     "name": "stdout",
     "output_type": "stream",
     "text": [
      "SURAH NUMBER: 50 SUMMARY: Behold two (guardian angels) appointed to learn (his doings) learn (and noted them) one sitting on the right and one on the left. And there will come forth every soul: with each will be an (angel) to drive and an (angel) to bear witness. That is a (sort of) return far (from our understanding).\" And during part of the night (also) celebrate His praises and (so likewise) after the postures of adoration. (It will be said:) \"Thou wast heedless of this; now have We removed thy veil and sharp is thy sight this Day!\" And the stupor of death will bring Truth (before his eyes): \"This was the thing which thou wast trying to escape!\" And his Companion will say: \"Here is (his Record) ready with me!\"\n",
      "\n",
      "SURAH NUMBER: 51 SUMMARY: (Abraham) said: \"And what O ye Messengers is your errand (now)?\" And in the Thamud (was another Sign): Behold they were told \"Enjoy (your brief day) for a little while!\" For the Wrong-doers their portion is like unto the portion of their fellows (of earlier generations): then let them not ask Me to hasten (that portion)! By the Sky with (its) numerous Paths\n",
      "Truly ye are in a doctrine discordant\n",
      "Through which are deluded (away from the Truth) such as would be deluded. For Allah is He Who gives (all) Sustenance#NAME?- Steadfast (for ever). (It will be) a Day when they will be tried (and tested) over the Fire! Similarly no messenger came to the Peoples before them but they said (of him) in like manner \"A sorcerer or one possessed\"!\n",
      "\n",
      "SURAH NUMBER: 52 SUMMARY: Therefore proclaim thou the praises (of thy Lord): for by the Grace of thy Lord thou art no (vulgar) soothsayer nor art thou one possessed. (To them will be said:) \"Eat and drink ye with profit and health because of your (good) deeds.\" Were they to see a piece of the sky falling (on them) they would (only) say: \"Clouds gathered in heaps!\" They will recline (with ease) on Thrones (of dignity) arranged in ranks; and We shall join them to Companions with beautiful big and lustrous eyes. Then woe that Day to those that treat (Truth) as Falsehood;-\n",
      "That play (and paddle) in shallow trifles. \"Burn ye therein: the same is it to you whether ye bear it with patience or not: Ye but receive the recompense of your (own) deeds.\" Round about them will serve (devoted) to them young male servants (handsome) as Pearls well-guarded.\n",
      "\n",
      "SURAH NUMBER: 53 SUMMARY: The (Judgment) ever approaching draws nigh:\n",
      "No (soul) but Allah can lay it bare. The (ProphetÂ´s) (mind and) heart in no way falsified that which he saw. And before them the people of Noah for that they were (all) most unjust and most insolent transgressors\n",
      "And He destroyed the Overthrown Cities (of Sodom and Gomorrah). Nor does he say (aught) of (his own) Desire. These are nothing but names which ye have devised#NAME?- for which Allah has sent down no authority (whatever). Those who avoid great sins and shameful deeds only (falling into) small faults#NAME? So that (ruins unknown) have covered them up.\n",
      "\n",
      "SURAH NUMBER: 54 SUMMARY: The Â´Ad (people) (too) rejected (Truth): then how terrible was My Penalty and My Warning? There have already come to them Recitals wherein there is (enough) to check (them)\n",
      "Mature wisdom;- but (the preaching of) Warners profits them not. Nay the Hour (of Judgment) is the time promised them (for their full recompense): And that Hour will be most grievous and most bitter. All that they do is noted in (their) Books (of Deeds):\n",
      "Every matter small and great is on record. The (people) rejected all Our Signs; but We seized them with such Penalty (as comes) from One Exalted in Power able to carry out His Will. They reject (the warning) and follow their (own) lusts but every matter has its appointed time. The Thamud (also) rejected (their) Warners.\n",
      "\n",
      "SURAH NUMBER: 55 SUMMARY: Then which of the favours of your Lord will ye deny? a flame of fire (to burn) and a smoke (to choke): no defence will ye have:\n",
      "Then which of the favours of your Lord will ye deny? And besides these two there are two other Gardens-\n",
      "Then which of the favours of your Lord will ye deny?-\n",
      "Dark-green in colour (from plentiful watering). (He is) Lord of the two Easts and Lord of the two Wests:\n",
      "Then which of the favours of your Lord will ye deny? In them (each) will be two Springs pouring forth water in continuous abundance:\n",
      "Then which of the favours of your Lord will ye deny? Of Him seeks (its need) every creature in the heavens and on earth: every day in (new) Splendour doth He (shine)! And the Firmament has He raised high and He has set up the Balance (of Justice)\n",
      "In order that ye may not transgress (due) balance.\n",
      "\n",
      "SURAH NUMBER: 56 SUMMARY: We have decreed Death to be your common lot and We are not to be frustrated\n",
      "from changing your Forms and creating you (again) in (forms) that ye know not. Do ye then see?- The (human Seed) that ye throw out-\n",
      "Is it ye who create it or are We the Creators? And made them virgin - pure (and undefiled) -\n",
      "Beloved (by nature) equal in age-\n",
      "For the Companions of the Right Hand. A (goodly) number from those of old\n",
      "And a (goodly) number from those of later times. (They will be) among Lote-trees without thorns\n",
      "Among Talh trees with flowers (or fruits) piled one above another-\n",
      "In shade long-extended\n",
      "By water flowing constantly\n",
      "And fruit in abundance. Whose season is not limited nor (supply) forbidden\n",
      "And on Thrones (of Dignity) raised high. (They will be) on Thrones encrusted (with gold and precious stones)\n",
      "Reclining on them facing each other.\n",
      "\n",
      "SURAH NUMBER: 57 SUMMARY: but ye led yourselves into temptation; ye looked forward (to our ruin); ye doubted (AllahÂ´s Promise); and (your false) desires deceived you; until there issued the Command of Allah. Know ye (all) that the life of this world is but play and amusement pomp and mutual boasting and multiplying (in rivalry) among yourselves riches and children. Believe in Allah and His messenger and spend (in charity) out of the (substance) whereof He has made you heirs. Not equal among you are those who spent (freely) and fought before the Victory (with those who did so later). for (Allah) will increase it manifold to his credit and he will have (besides) a liberal Reward. And Forgiveness from Allah and (His) Good Pleasure (for the devotees of Allah). He merges Night into Day and He merges Day into Night; and He has full knowledge of the secrets of (all) hearts.\n",
      "\n",
      "SURAH NUMBER: 58 SUMMARY: And in fact they use words (both) iniquitous and false: but truly Allah is one that blots out (sins) and forgives (again and again). And the Unbelievers (will have) a humiliating Penalty-\n",
      "On the Day that Allah will raise them all up (again) and show them the Truth (and meaning) of their conduct. When ye are told to make room in the assemblies (spread out and) make room: (ample) room will Allah provide for you. They have made their oaths a screen (for their misdeeds): thus they obstruct (men) from the Path of Allah: therefore shall they have a humiliating Penalty. If any men among you divorce their wives by Zihar (calling them mothers) they cannot be their mothers: None can be their mothers except those who gave them birth. If then ye do not so and Allah forgives you then (at least) establish regular prayer; practise regular charity; and obey Allah and His Messenger. But if ye find not (the wherewithal) Allah is Oft-Forgiving Most Merciful.\n",
      "\n",
      "SURAH NUMBER: 59 SUMMARY: Of a truth ye are stronger (than they) because of the terror in their hearts (sent) by Allah. and entertain no desire in their hearts for things given to the (latter) but give them preference over themselves even though poverty was their (own lot). Strong is their fighting (spirit) amongst themselves: thou wouldst think they were united but their hearts are divided: that is because they are a people devoid of wisdom. Allah is He than Whom there is no other god;- Who knows (all things) both secret and open; He Most Gracious Most Merciful. Yea fear Allah: for Allah is well-acquainted with (all) that ye do. the needy and the wayfarer; In order that it may not (merely) make a circuit between the wealthy among you. Forgive us and our brethren who came before us into the Faith and leave not in our hearts rancour (or sense of injury) against those who have believed.\n",
      "\n",
      "SURAH NUMBER: 60 SUMMARY: They are not lawful (wives) for the Unbelievers nor are the (Unbelievers) lawful (husbands) for them. It may be that Allah will grant love (and friendship) between you and those whom ye (now) hold as enemies. in Thee do we trust and to Thee do we turn in repentance: to Thee is (our) Final Goal. and pray to Allah for the forgiveness (of their sins): for Allah is Oft-Forgiving Most Merciful. Such is the command of Allah: He judges (with justice) between you. (They prayed): \"Our Lord! O ye who believe!\n",
      "\n",
      "SURAH NUMBER: 61 SUMMARY: Their intention is to extinguish AllahÂ´s Light (by blowing) with their mouths: But Allah will complete (the revelation of) His Light even though the Unbelievers may detest (it). O ye who believe! Be ye helpers of Allah: As said Jesus the son of Mary to the Disciples \"Who will be my helpers to (the work of) Allah?\" why do ye vex and insult me though ye know that I am the messenger of Allah (sent) to you?\" And another (favour will He bestow) which ye do love#NAME? Grievously odious is it in the sight of Allah that ye say that which ye do not. Why say ye that which ye do not?\n",
      "\n",
      "SURAH NUMBER: 62 SUMMARY: If ye think that ye are friends to Allah to the exclusion of (other) men then express your desire for Death if ye are truthful!\" But never will they express their desire (for Death) because of the (deeds) their hands have sent on before them! before in manifest error;-\n",
      "As well as (to confer all these benefits upon) others of them who have not already joined them: And He is exalted in Might Wise. Say: \"The (blessing) from the Presence of Allah is better than any amusement or bargain! and Allah is the Best to provide (for all needs).\" Say: \"O ye that stand on Judaism! Evil is the similitude of people who falsify the Signs of Allah: and Allah guides not people who do wrong.\n",
      "\n",
      "SURAH NUMBER: 63 SUMMARY: They have made their oaths a screen (for their misdeeds): thus they obstruct (men) from the Path of Allah: truly evil are their deeds. But to no soul will Allah grant respite when the time appointed (for it) has come; and Allah is well acquainted with (all) that ye do. They are as (worthless as hollow) pieces of timber propped up (unable to stand on their own). They are the ones who say \"Spend nothing on those who are with AllahÂ´s Messenger to the end that they may disperse (and quit Medina).\" They say \"If we return to Medina surely the more honourable (element) will expel therefrom the meaner.\" I should then have given (largely) in charity and I should have been one of the doers of good\". When the Hypocrites come to thee they say \"We bear witness that thou art indeed the Messenger of Allah.\"\n",
      "\n"
     ]
    },
    {
     "name": "stdout",
     "output_type": "stream",
     "text": [
      "SURAH NUMBER: 64 SUMMARY: He knows what is in the heavens and on earth; and He knows what ye conceal and what ye reveal: yea Allah knows well the (secrets) of (all) hearts. No kind of calamity can occur except by the leave of Allah: and if any one believes in Allah (Allah) guides his heart (aright): for Allah knows all things. Say: \"Yea By my Lord Ye shall surely be raised up: then shall ye be told (the truth) of all that ye did. So obey Allah and obey His Messenger: but if ye turn back the duty of Our Messenger is but to proclaim (the Message) clearly and openly. But Allah can do without (them): and Allah is free of all needs worthy of all praise. That was because there came to them messengers with Clear Signs but they said: \"Shall (mere) human beings direct us?\" But if ye forgive and overlook and cover up (their faults) verily Allah is Oft-Forgiving Most Merciful.\n",
      "\n",
      "SURAH NUMBER: 65 SUMMARY: Through the midst of them (all) descends His Command: that ye may know that Allah has power over all things and that Allah comprehends all things in (His) Knowledge. And if ye find yourselves in difficulties let another woman suckle (the child) on the (fatherÂ´s) behalf. And for those who fear Allah He (ever) prepares a way out\n",
      "And He provides for him from (sources) he never could imagine. Let the women live (in Â´iddat) in the same style as ye live according to your means: Annoy them not so as to restrict them. Let the man of means spend according to his means: and the man whose resources are restricted let him spend according to what Allah has given him. And if any one puts his trust in Allah sufficient is (Allah) for him. Allah has prepared for them a severe Punishment (in the Hereafter).\n",
      "\n",
      "SURAH NUMBER: 66 SUMMARY: who believe who are devout who turn to Allah in repentance who worship (in humility) who travel (for Faith) and fast#NAME? Allah has already ordained for you (O men) the dissolution of your oaths (in some cases): and Allah is your Protector and He is Full of Knowledge and Wisdom. \"He said \"He told me Who knows and is well-acquainted (with all things).\" (They will say) \"O ye Unbelievers! It may be if he divorced you (all) that Allah will give him in exchange consorts better than you#NAME? the angels - will back (him) up. Their abode is Hell- an evil refuge (indeed).\n",
      "\n",
      "SURAH NUMBER: 67 SUMMARY: But indeed men before them rejected (My warning): then how (terrible) was My rejection (of them)? None can uphold them except (Allah) Most Gracious: Truly (Allah) Most Gracious: Truly it is He that watches over all things. For those who reject their Lord (and Cherisher) is the Penalty of Hell: and evil is (such) Destination. Say: \"See ye?- If your stream be some morning lost (in the underground earth) who then can supply you with clear-flowing water?\" And whether ye hide your word or publish it He certainly has (full) knowledge of the secrets of (all) hearts. Say: \"As to the knowledge of the time it is with Allah alone: I am (sent) only to warn plainly in public.\" and He is the One that understands the finest mysteries (and) is well-acquainted (with them).\n",
      "\n",
      "SURAH NUMBER: 68 SUMMARY: Said one of them more just (than the rest): \"Did I not say to you Â´Why not glorify (Allah)?Â´\"\n",
      "They said: \"Glory to our Lord! But when they saw the (garden) they said: \"We have surely lost our way:\n",
      "\"Indeed we are shut out (of the fruits of our labour)!\" A slanderer going about with calumnies\n",
      "(Habitually) hindering (all) good transgressing beyond bounds deep in sin\n",
      "Violent (and cruel)#NAME? So they departed conversing in secret low tones (saying)-\n",
      "\"Let not a single indigent person break in upon you into the (garden) this day.\" \"It may be that our Lord will give us in exchange a better (garden) than this: for we do turn to Him (in repentance)!\" Verily it is thy Lord that knoweth best which (among men) hath strayed from His Path: and He knoweth best those who receive (true) Guidance. So the (garden) became by the morning like a dark and desolate spot (whose fruit had been gathered).\n",
      "\n",
      "SURAH NUMBER: 69 SUMMARY: (The stern command will say): \"Seize ye him and bind ye him\n",
      "\"And burn ye him in the Blazing Fire. \"Eat ye and drink ye with full satisfaction; because of the (good) that ye sent before you in the days that are gone!\" \"I did really understand that my Account would (One Day) reach me!\" \"And that I had never realised how my account (stood)! And disobeyed (each) the messenger of their Lord; so He punished them with an abundant Penalty. And he will be in a life of Bliss\n",
      "In a Garden on high\n",
      "The Fruits whereof (will hang in bunches) low and near. And We certainly know that there are amongst you those that reject (it).\n",
      "\n",
      "SURAH NUMBER: 70 SUMMARY: for it would be the Fire of Hell!-\n",
      "Plucking out (his being) right to the skull!-\n",
      "Inviting (all) such as turn their backs and turn away their faces (from the Right). They see the (Day) indeed as a far-off (event):\n",
      "But We see it (quite) near. The angels and the spirit ascend unto him in a Day the measure whereof is (as) fifty thousand years:\n",
      "Therefore do thou hold Patience- a Patience of beautiful (contentment). And collect (wealth) and hide it (from use)! For We have created them out of the (base matter) they know! A questioner asked about a Penalty to befall-\n",
      "The Unbelievers the which there is none to ward off-\n",
      "(A Penalty) from Allah Lord of the Ways of Ascent. His wife and his brother\n",
      "His kindred who sheltered him\n",
      "And all all that is on earth- so it could deliver him:\n",
      "By no means!\n",
      "\n",
      "SURAH NUMBER: 71 SUMMARY: \"Â´And Allah has produced you from the earth growing (gradually)\n",
      "\"Â´And in the End He will return you into the (earth) and raise you forth (again at the Resurrection)? \"Â´And Allah has made the earth for you as a carpet (spread out)\n",
      "\"Â´That ye may go about therein in spacious roads.Â´\"\n",
      "Noah said: \"O my Lord! I have called to my People night and day:\n",
      "\"But my call only increases (their) flight (from the Right). We sent Noah to his People (with the Command): \"Do thou warn thy People before there comes to them a grievous Penalty.\" Forgive me my parents all who enter my house in Faith and (all) believing men and believing women: and to the wrong-doers grant Thou no increase but in perdition!\" \"Â´See ye not how Allah has created the seven heavens one above another\n",
      "\"Â´And made the moon a light in their midst and made the sun as a (Glorious) Lamp? \"For if Thou dost leave (any of) them they will but mislead Thy devotees and they will breed none but wicked ungrateful ones.\n",
      "\n",
      "SURAH NUMBER: 72 SUMMARY: Â´It gives guidance to the Right and we have believed therein: we shall not join (in worship) any (gods) with our Lord. Â´We used indeed to sit there in (hidden) stations to (steal) a hearing; but any who listen now will find a flaming fire watching him in ambush. Â´And they (came to) think as ye thought that Allah would not raise up any one (to Judgment). Say: \"I know not whether the (Punishment) which ye are promised is near or whether my Lord will appoint for it a distant term. Say: \"I do no more than invoke my Lord and I join not with Him any (false god).\" Â´And we understand not whether ill is intended to those on earth or whether their Lord (really) intends to guide them to right conduct. Say: It has been revealed to me that a company of Jinns listened (to the QurÂ´an).\n",
      "\n",
      "SURAH NUMBER: 73 SUMMARY: Truly the rising by night is most potent for governing (the soul) and most suitable for (framing) the Word (of Prayer and Praise). And leave Me (alone to deal with) those in possession of the good things of life who (yet) deny the Truth; and bear with them for a little while. (He is) Lord of the East and the West: there is no god but He: take Him therefore for (thy) Disposer of Affairs. With Us are Fetters (to bind them) and a Fire (to burn them)\n",
      "And a Food that chokes and a Penalty Grievous. So He hath turned to you (in mercy): read ye therefore of the QurÂ´an as much as may be easy for you. Then how shall ye if ye deny (Allah) guard yourselves against a Day that will make children hoary-headed?-\n",
      "Whereon the sky will be cleft asunder? And have patience with what they say and leave them with noble (dignity).\n",
      "\n",
      "SURAH NUMBER: 74 SUMMARY: (They will be) in Gardens (of Delight): they will question each other\n",
      "And (ask) of the Sinners:\n",
      "\"What led you into Hell Fire?\" Yet is he greedy-that I should add (yet more);-\n",
      "By no means! Naught doth it permit to endure and naught doth it leave alone!-\n",
      "Darkening and changing the colour of man! But for thy LordÂ´s (Cause) be patient and constant! Forsooth each one of them wants to be given scrolls (of revelation) spread out! Nor expect in giving any increase (for thyself)! O thou wrapped up (in the mantle)!\n",
      "\n",
      "SURAH NUMBER: 75 SUMMARY: And he will conclude that it was (the Time) of Parting;\n",
      "And one leg will be joined with another:\n",
      "That Day the Drive will be (all) to thy Lord! Then did he become a leech-like clot; then did (Allah) make and fashion (him) in due proportion. I do call to witness the Resurrection Day;\n",
      "And I do call to witness the self-reproaching spirit: (Eschew Evil). That Day will Man be told (all) that he put forward and all that he put back. Move not thy tongue concerning the (QurÂ´an) to make haste therewith. But man wishes to do wrong (even) in the time in front of him. Before thy Lord (alone) that Day will be the place of rest.\n",
      "\n",
      "SURAH NUMBER: 76 SUMMARY: Reclining in the (Garden) on raised thrones they will see there neither the sunÂ´s (excessive heat) nor (the moonÂ´s) excessive cold. And round about them will (serve) youths of perpetual (freshness): If thou seest them thou wouldst think them scattered Pearls. And the shades of the (Garden) will come low over them and the bunches (of fruit) there will hang low in humility. And amongst them will be passed round vessels of silver and goblets of crystal-\n",
      "Crystal-clear made of silver: they will determine the measure thereof (according to their wishes). As to the Righteous they shall drink of a Cup (of Wine) mixed with Kafur-\n",
      "A Fountain where the Devotees of Allah do drink making it flow in unstinted abundance. Verily We created Man from a drop of mingled sperm in order to try him: So We gave him (the gifts) of Hearing and Sight. We showed him the Way: whether he be grateful or ungrateful (rests on his will).\n",
      "\n",
      "SURAH NUMBER: 77 SUMMARY: Ah woe that Day to the Rejecters of Truth! Have We not created you from a fluid (held) despicable?-\n",
      "The which We placed in a place of rest firmly fixed\n",
      "For a period (of gestation) determined (according to need)? \"Indeed it throws about sparks (huge) as Forts\n",
      "\"As if there were (a string of) yellow camels (marching swiftly).\" \"Depart ye to a Shadow (of smoke ascending) in three columns\n",
      "\"(Which yields) no shade of coolness and is of no use against the fierce Blaze. For We do determine (according to need); for We are the best to determine (things). The living and the dead\n",
      "And made therein mountains standing firm lofty (in stature); and provided for you water sweet (and wholesome)? As to the Righteous they shall be amidst (cool) shades and springs (of water).\n",
      "\n",
      "SURAH NUMBER: 78 SUMMARY: Verily for the Righteous there will be a fulfilment of (the heartÂ´s) desires;\n",
      "Gardens enclosed and grapevines;\n",
      "And voluptuous women of equal age;\n",
      "And a cup full (to the brim). For that they used not to fear any account (for their deeds)\n",
      "But they (impudently) treated Our Signs as false. And (have We not) built over you the seven firmaments\n",
      "And placed (therein) a Light of Splendour? \"So taste ye (the fruits of your deeds); for no increase shall We grant you except in Punishment.\" Nothing cool shall they taste therein nor any drink\n",
      "Save a boiling fluid and a fluid dark murky intensely cold\n",
      "A fitting recompense (for them). And (have We not) created you in pairs\n",
      "And made your sleep for rest\n",
      "And made the night as a covering\n",
      "And made the day as a means of subsistence? Verily verily they shall soon (come to) know!\n",
      "\n",
      "SURAH NUMBER: 79 SUMMARY: But (Pharaoh) rejected it and disobeyed (guidance);\n",
      "Further he turned his back striving hard (against Allah). But verily it will be but a single (Compelling) Cry\n",
      "When behold they will be in the (full) awakening (to Judgment). The Day they see it (It will be) as if they had tarried but a single evening or (at most till) the following morn! (Allah) hath constructed it:\n",
      "On high hath He raised its canopy and He hath given it order and perfection. Then he collected (his men) and made a proclamation\n",
      "Saying \"I am your Lord Most High\". But Allah did punish him (and made an) example of him - in the Hereafter as in this life. Its night doth He endow with darkness and its splendour doth He bring out (with light).\n",
      "\n",
      "SURAH NUMBER: 80 SUMMARY: (It is) in Books held (greatly) in honour\n",
      "Exalted (in dignity) kept pure and holy\n",
      "(Written) by the hands of scribes-\n",
      "Honourable and Pious and Just. (The Prophet) frowned and turned away\n",
      "Because there came to him the blind man (interrupting). As to one who regards Himself as self-sufficient\n",
      "To him dost thou attend;\n",
      "Though it is no blame to thee if he grow not (in spiritual understanding). But what could tell thee but that perchance he might grow (in spiritual understanding)?-\n",
      "Or that he might receive admonition and the teaching might profit him? But as to him who came to thee striving earnestly\n",
      "And with fear (in his heart)\n",
      "Of him wast thou unmindful. Each one of them that Day will have enough concern (of his own) to make him indifferent to the others. By no means (should it be so)!\n",
      "\n",
      "SURAH NUMBER: 81 SUMMARY: Verily this is no less than a Message to (all) the Worlds:\n",
      "(With profit) to whoever among you wills to go straight:\n",
      "But ye shall not will except as Allah wills#NAME? your companion is not one possessed;\n",
      "And without doubt he saw him in the clear horizon. And (O people!) Nor is it the word of an evil spirit accursed. Neither doth he withhold grudgingly a knowledge of the Unseen. When whither go ye?\n",
      "\n",
      "SURAH NUMBER: 82 SUMMARY: But verily over you (are appointed angels) to protect you-\n",
      "Kind and honourable- Writing down (your deeds):\n",
      "They know (and understand) all that ye do. (It will be) the Day when no soul shall have power (to do) aught for another: For the command that Day will be (wholly) with Allah. Fashioned thee in due proportion and gave thee a just bias;\n",
      "In whatever Form He wills does He put thee together. What has seduced thee from thy Lord Most Beneficent?-\n",
      "Him Who created thee. And what will explain to thee what the Day of Judgment is? Again what will explain to thee what the Day of Judgment is? But ye do reject Right and Judgment!\n",
      "\n",
      "SURAH NUMBER: 83 SUMMARY: But on this Day the Believers will laugh at the Unbelievers:\n",
      "On Thrones (of Dignity) they will command (a sight) (of all things). (There is) a Register (fully) inscribed\n",
      "To which bear witness those Nearest (to Allah). Truly the Righteous will be in Bliss:\n",
      "On Thrones (of Dignity) will they command a sight (of all things):\n",
      "Thou wilt recognise in their faces the beaming brightness of Bliss. (There is) a Register (fully) inscribed. Further it will be said to them: \"This is the (reality) which ye rejected as false! Do they not think that they will be called to account?-\n",
      "On a Mighty Day\n",
      "A Day when (all) mankind will stand before the Lord of the Worlds? Surely the record of the wicked is (preserved) in Sijjin.\n",
      "\n",
      "SURAH NUMBER: 84 SUMMARY: What then is the matter with them that they believe not?-\n",
      "And when the QurÂ´an is read to them they fall not prostrate\n",
      "But on the contrary the Unbelievers reject (it). for his Lord was (ever) watchful of him! Truly did he think that he would not have to return (to Us)! So I do call to witness the ruddy glow of Sunset;\n",
      "The Night and its Homing;\n",
      "And the Moon in her fullness:\n",
      "Ye shall surely travel from stage to stage. Then he who is given his Record in his right hand\n",
      "Soon will his account be taken by an easy reckoning\n",
      "And he will turn to his people rejoicing! Verily thou art ever toiling on towards thy Lord- painfully toiling#NAME? Truly did he go about among his people rejoicing!\n",
      "\n",
      "SURAH NUMBER: 85 SUMMARY: they sat over against the (fire)\n",
      "And they witnessed (all) that they were doing against the Believers. And yet the Unbelievers (persist) in rejecting (the Truth)! It is He Who creates from the very beginning and He can restore (life). And He is the Oft-Forgiving Full of Loving-Kindness\n",
      "Lord of the Throne of Glory\n",
      "Doer (without let) of all that He intends. Day this is a Glorious QurÂ´an\n",
      "(Inscribed) in a Tablet Preserved! But Allah doth encompass them from behind! And Allah is Witness to all things.\n",
      "\n"
     ]
    },
    {
     "name": "stdout",
     "output_type": "stream",
     "text": [
      "SURAH NUMBER: 86 SUMMARY: He is created from a drop emitted-\n",
      "Proceeding from between the backbone and the ribs:\n",
      "Surely (Allah) is able to bring him back (to life)! The Day that (all) things secret will be tested\n",
      "(Man) will have no power and no helper. Therefore grant a delay to the Unbelievers: Give respite to them gently (for awhile). As for them they are but plotting a scheme\n",
      "And I am planning a scheme. Now let man but think from what he is created!\n",
      "\n",
      "SURAH NUMBER: 87 SUMMARY: And granted guidance;\n",
      "And Who bringeth out the (green and luscious) pasture\n",
      "And then doth make it (but) swarthy stubble. And We will make it easy for thee (to follow) the simple (Path). By degrees shall We teach thee to declare (the Message) so thou shalt not forget\n",
      "Except as Allah wills: For He knoweth what is manifest and what is hidden. Day (behold) ye prefer the life of this world;\n",
      "But the Hereafter is better and more enduring. Therefore give admonition in case the admonition profits (the hearer). But those will prosper who purify themselves\n",
      "And glorify the name of their Guardian-Lord and (lift their hearts) in prayer. And this is in the Books of the earliest (Revelation)-\n",
      "The Books of Abraham and Moses.\n",
      "\n",
      "SURAH NUMBER: 88 SUMMARY: Thou art not one to manage (menÂ´s) affairs. Has the story reached thee of the overwhelming (Event)? Therefore do thou give admonition for thou art one to admonish.\n",
      "\n",
      "SURAH NUMBER: 89 SUMMARY: (To the righteous soul will be said:) \"O (thou) soul in (complete) rest and satisfaction! Seest thou not how thy Lord dealt with the Â´Ad (people)-\n",
      "Of the (city of) Iram with lofty pillars\n",
      "The like of which were not produced in (all) the land? Would that I had sent forth (good deeds) for (this) my (Future) Life!\" And with the Thamud (people) who cut out (huge) rocks in the valley?-\n",
      "And with Pharaoh lord of stakes? (All) these transgressed beyond bounds in the lands\n",
      "And heaped therein mischief (on mischief). For that Day His Chastisement will be such as none (else) can inflict\n",
      "And His bonds will be such as none (other) can bind. But when He trieth him restricting his subsistence for him then saith he (in despair) \"My Lord hath humiliated me!\"\n",
      "\n",
      "SURAH NUMBER: 90 SUMMARY: I do call to witness this City;-\n",
      "And thou art a freeman of this City;-\n",
      "And (the mystic ties of) parent and child;-\n",
      "Verily We have created man into toil and struggle. Have We not made for him a pair of eyes?-\n",
      "And a tongue and a pair of lips?-\n",
      "And shown him the two highways? Then will he be of those who believe and enjoin patience (constancy and self-restraint) and enjoin deeds of kindness and compassion. He may say (boastfully); Wealth have I squandered in abundance! But those who reject Our Signs they are the (unhappy) Companions of the Left Hand. On them will be Fire vaulted over (all round). But he hath made no haste on the path that is steep.\n",
      "\n",
      "SURAH NUMBER: 91 SUMMARY: The Thamud (people) rejected (their prophet) through their inordinate wrong-doing\n",
      "Behold the most wicked man among them was deputed (for impiety). So their Lord on account of their crime obliterated their traces and made them equal (in destruction high and low)! Then they rejected him (as a false prophet) and they hamstrung her. And (bar her not from) having her drink!\" But the Messenger of Allah said to them: \"It is a She-camel of Allah! And for Him is no fear of its consequences.\n",
      "\n",
      "SURAH NUMBER: 92 SUMMARY: So he who gives (in charity) and fears (Allah)\n",
      "And (in all sincerity) testifies to the best-\n",
      "We will indeed make smooth for him the path to Bliss. Verily We take upon Ourselves to guide\n",
      "And verily unto Us (belong) the End and the Beginning. Therefore do I warn you of a Fire blazing fiercely;\n",
      "None shall reach it but those most unfortunate ones\n",
      "Who give the lie to Truth and turn their backs.\n",
      "\n",
      "SURAH NUMBER: 93 SUMMARY: Did He not find thee an orphan and give thee shelter (and care)? And soon will thy Guardian-Lord give thee (that wherewith) thou shalt be well-pleased. And He found thee wandering and He gave thee guidance. And He found thee in need and made thee independent. By the Glorious Morning Light\n",
      "And by the Night when it is still-\n",
      "Thy Guardian-Lord hath not forsaken thee nor is He displeased. Therefore treat not the orphan with harshness\n",
      "Nor repulse the petitioner (unheard);\n",
      "But the bounty of the Lord - rehearse and proclaim! And verily the Hereafter will be better for thee than the present.\n",
      "\n",
      "SURAH NUMBER: 94 SUMMARY: Have We not expanded thee thy breast?-\n",
      "And removed from thee thy burden\n",
      "The which did gall thy back?-\n",
      "And raised high the esteem (in which) thou (art held)? Therefore when thou art free (from thine immediate task) still labour hard\n",
      "And to thy Lord turn (all) thy attention. So verily with every difficulty there is relief:\n",
      "Verily with every difficulty there is relief.\n",
      "\n",
      "SURAH NUMBER: 95 SUMMARY: Then what can after this contradict thee as to the judgment (to come)? Is not Allah the wisest of judges?\n",
      "\n",
      "SURAH NUMBER: 96 SUMMARY: Then let him call (for help) to his council (of comrades):\n",
      "We will call on the angels of punishment (to deal with him)! in the name of thy Lord and Cherisher Who created-\n",
      "Created man out of a (mere) clot of congealed blood:\n",
      "Proclaim! Day heed him not: But bow down in adoration and bring thyself the closer (to Allah)! Seest thou if he is on (the road of) Guidance?-\n",
      "Or enjoins Righteousness? Seest thou one who forbids-\n",
      "A votary when he (turns) to pray? And thy Lord is Most Bountiful-\n",
      "He Who taught (the use of) the pen-\n",
      "Taught man that which he knew not. Seest thou if he denies (Truth) and turns away?\n",
      "\n",
      "SURAH NUMBER: 97 SUMMARY: Therein come down the angels and the Spirit by AllahÂ´s permission on every errand:\n",
      "Peace!...This until the rise of morn! We have indeed revealed this (Message) in the Night of Power:\n",
      "And what will explain to thee what the night of power is? The Night of Power is better than a thousand months.\n",
      "\n",
      "SURAH NUMBER: 98 SUMMARY: Those who reject (Truth) among the People of the Book and among the Polytheists will be in Hell-Fire to dwell therein (for aye). Nor did the People of the Book make schisms until after there came to them Clear Evidence. They are the worst of creatures. Those who have faith and do righteous deeds#NAME?\n",
      "\n",
      "SURAH NUMBER: 99 SUMMARY: On that Day will men proceed in companies sorted out to be shown the deeds that they (had done). And anyone who has done an atomÂ´s weight of evil shall see it. Then shall anyone who has done an atomÂ´s weight of good see it!\n",
      "\n",
      "SURAH NUMBER: 100 SUMMARY: And that which is (locked up) in (human) breasts is made manifest-\n",
      "That their Lord had been Well-acquainted with them (even to) that Day? Does he not know#NAME?\n",
      "\n",
      "SURAH NUMBER: 101 SUMMARY: But he whose balance (of good deeds) will be (found) light-\n",
      "Will have his home in a (bottomless) Pit. Then he whose balance (of good deeds) will be (found) heavy\n",
      "Will be in a life of good pleasure and satisfaction. The (Day) of Noise and Clamour:\n",
      "What is the (Day) of Noise and Clamour? (It is) a Day whereon men will be like moths scattered about\n",
      "And the mountains will be like carded wool. And what will explain to thee what the (Day) of Noise and Clamour is? (It is) a Fire Blazing fiercely! And what will explain to thee what this is?\n",
      "\n",
      "SURAH NUMBER: 102 SUMMARY: The mutual rivalry for piling up (the good things of this world) diverts you (from the more serious things)\n",
      "Until ye visit the graves. Nay were ye to know with certainty of mind (ye would beware!) Then shall ye be questioned that Day about the joy (ye indulged in! But nay ye soon shall know (the reality). Again ye soon shall know! Again ye shall see it with certainty of sight! Ye shall certainly see Hell-Fire!\n",
      "\n",
      "SURAH NUMBER: 103 SURAH: By (the Token of) Time (through the ages)\n",
      "Verily Man is in loss\n",
      "Except such as have Faith and do righteous deeds and (join together) in the mutual teaching of Truth and of Patience and Constancy.\n",
      "\n",
      "\n",
      "SURAH NUMBER: 104 SUMMARY: Woe to every (kind of) scandal-monger and-backbiter\n",
      "Who pileth up wealth and layeth it by\n",
      "Thinking that his wealth would make him last for ever! He will be sure to be thrown into That which Breaks to Pieces\n",
      "And what will explain to thee That which Breaks to Pieces? By no means!\n",
      "\n",
      "SURAH NUMBER: 105 SUMMARY: Then did He make them like an empty field of stalks and straw (of which the corn) has been eaten up. Did He not make their treacherous plan go astray? And He sent against them Flights of Birds\n",
      "Striking them with stones of baked clay. Seest thou not how thy Lord dealt with the Companions of the Elephant?\n",
      "\n",
      "SURAH NUMBER: 106 SURAH: For the covenants (of security and safeguard enjoyed) by the Quraish\n",
      "Their covenants (covering) journeys by winter and summer-\n",
      "Let them adore the Lord of this House\n",
      "Who provides them with food against hunger and with security against fear (of danger).\n",
      "\n",
      "\n",
      "SURAH NUMBER: 107 SUMMARY: So woe to the worshippers\n",
      "Who are neglectful of their prayers\n",
      "Those who (want but) to be seen (of men)\n",
      "But refuse (to supply) (even) neighbourly needs. Then such is the (man) who repulses the orphan (with harshness)\n",
      "And encourages not the feeding of the indigent. Seest thou one who denies the Judgment (to come)?\n",
      "\n",
      "SURAH NUMBER: 108 SUMMARY: For he who hateth thee he will be cut off (from Future Hope). To thee have We granted the Fount (of Abundance). Therefore to thy Lord turn in Prayer and Sacrifice.\n",
      "\n",
      "SURAH NUMBER: 109 SUMMARY: And I will not worship that which ye have been wont to worship\n",
      "Nor will ye worship that which I worship. I worship not that which ye worship\n",
      "Nor will ye worship that which I worship. Say : O ye that reject Faith! To you be your Way and to me mine.\n",
      "\n",
      "SURAH NUMBER: 110 SURAH: When comes the Help of Allah and Victory\n",
      "And thou dost see the people enter AllahÂ´s Religion in crowds\n",
      "Celebrate the praises of thy Lord and pray for His Forgiveness: For He is Oft-Returning (in Grace and Mercy).\n",
      "\n",
      "\n",
      "SURAH NUMBER: 111 SUMMARY: His wife shall carry the (crackling) wood - As fuel!-\n",
      "A twisted rope of palm-leaf fibre round her (own) neck! No profit to him from all his wealth and all his gains! Perish the hands of the Father of Flame! Burnt soon will he be in a Fire of Blazing Flame! Perish he!\n",
      "\n",
      "SURAH NUMBER: 112 SUMMARY: Say: He is Allah the One and Only;\n",
      "Allah the Eternal Absolute;\n",
      "He begetteth not nor is He begotten;\n",
      "And there is none like unto Him.\n",
      "\n",
      "SURAH NUMBER: 113 SURAH: Say: I seek refuge with the Lord of the Dawn\n",
      "From the mischief of created things;\n",
      "From the mischief of Darkness as it overspreads;\n",
      "From the mischief of those who practise secret arts;\n",
      "And from the mischief of the envious one as he practises envy.\n",
      "\n",
      "\n",
      "SURAH NUMBER: 114 SURAH: Say: I seek refuge with the Lord and Cherisher of Mankind\n",
      "The King (or Ruler) of Mankind\n",
      "The god (or judge) of Mankind-\n",
      "From the mischief of the Whisperer (of Evil) who withdraws (after his whisper)-\n",
      "(The same) who whispers into the hearts of Mankind-\n",
      "Among Jinns and among men.\n",
      "\n",
      "\n"
     ]
    }
   ],
   "source": [
    "s_num = 1\n",
    "for ayats in surah:\n",
    "    s = \"\"\n",
    "    for ayat in ayats:\n",
    "        #print(ayat.split(\"|\")[-1])\n",
    "        s += ayat.split(\"|\")[-1] + \"\\n\"\n",
    "    summary = summarise(s)\n",
    "    if len(summary) < 5:\n",
    "        print(\"SURAH NUMBER:\",s_num, \"SURAH:\", s)\n",
    "    else:\n",
    "        print(\"SURAH NUMBER:\",s_num, \"SUMMARY:\", summary)\n",
    "    print()\n",
    "    s_num+=1"
   ]
  },
  {
   "cell_type": "markdown",
   "metadata": {},
   "source": [
    "# Search Engine "
   ]
  },
  {
   "cell_type": "code",
   "execution_count": 51,
   "metadata": {},
   "outputs": [],
   "source": [
    "import tensorflow as tf\n",
    "import tensorflow_hub as hub\n",
    "from tqdm import tqdm\n",
    "from nltk.corpus import wordnet as wn\n",
    "from nltk import pos_tag\n",
    "from nltk.corpus import stopwords\n",
    "from sklearn.metrics.pairwise import linear_kernel"
   ]
  },
  {
   "cell_type": "code",
   "execution_count": 38,
   "metadata": {},
   "outputs": [
    {
     "name": "stderr",
     "output_type": "stream",
     "text": [
      "[nltk_data] Downloading package averaged_perceptron_tagger to\n",
      "[nltk_data]     C:\\Users\\Ali Zahid Raja\\AppData\\Roaming\\nltk_data...\n",
      "[nltk_data]   Package averaged_perceptron_tagger is already up-to-\n",
      "[nltk_data]       date!\n"
     ]
    },
    {
     "data": {
      "text/plain": [
       "True"
      ]
     },
     "execution_count": 38,
     "metadata": {},
     "output_type": "execute_result"
    }
   ],
   "source": [
    "nltk.download('averaged_perceptron_tagger')"
   ]
  },
  {
   "cell_type": "code",
   "execution_count": 39,
   "metadata": {},
   "outputs": [],
   "source": [
    "df[\"useful_info\"] =df.Translation.replace(to_replace='[!\"#$%&\\'()*+,/:;<=>?@[\\\\]^_`{|}~]',value=' ',regex=True) \n",
    "#remove punctuation\n",
    "df.useful_info =df.useful_info.replace(to_replace='-',value=' ',regex=True)\n",
    "df.useful_info =df.useful_info.replace(to_replace='\\s+',value=' ',regex=True)    #remove new line\n",
    "df.useful_info =df.useful_info.replace(to_replace='  ',value='',regex=True)   #remove double white space  \n",
    "df.useful_info =df.useful_info.replace(to_replace=\"'\",value='',regex=True)   \n",
    "\n",
    "\n",
    "df.useful_info = df.useful_info.apply(lambda x:x.strip())  # Ltrim and Rtrim of whitespace\n",
    "\n",
    "df['useful_info']=[entry.lower() for entry in df['useful_info']] #Lowercase"
   ]
  },
  {
   "cell_type": "code",
   "execution_count": 40,
   "metadata": {},
   "outputs": [
    {
     "name": "stderr",
     "output_type": "stream",
     "text": [
      "100%|█████████████████████████████████████████████████████████████████████████████████████████████████████████████████████████████████████████████████████████████| 6162/6162 [00:01<00:00, 5266.70it/s]\n"
     ]
    }
   ],
   "source": [
    "df[\"info_tokenize\"]= [word_tokenize(entry) for entry in tqdm(df[\"useful_info\"])] "
   ]
  },
  {
   "cell_type": "code",
   "execution_count": 41,
   "metadata": {},
   "outputs": [],
   "source": [
    "def wordLemmatizer(data):\n",
    "    tag_map = defaultdict(lambda : wn.NOUN)\n",
    "    tag_map['J'] = wn.ADJ\n",
    "    tag_map['V'] = wn.VERB\n",
    "    tag_map['R'] = wn.ADV\n",
    "    clean_k =pd.DataFrame()\n",
    "    word_Lemmatized = WordNetLemmatizer()\n",
    "    for index,entry in tqdm(enumerate(data)):\n",
    "        \n",
    "        Final_words = []\n",
    "        for word, tag in pos_tag(entry):\n",
    "            if len(word)>1 and word not in stopwords.words('english') and word.isalpha():\n",
    "                word_Final = word_Lemmatized.lemmatize(word,tag_map[tag[0]])\n",
    "                Final_words.append(word_Final)\n",
    "        \n",
    "        clean_k.loc[index,'Keyword_final'] = str(Final_words)\n",
    "    clean_k=clean_k.replace(to_replace =\"'\", value = '', regex = True)\n",
    "    clean_k=clean_k.replace(to_replace =\" \", value = '', regex = True)\n",
    "    clean_k=clean_k.replace(to_replace =\"\\[\", value = '', regex = True)\n",
    "    clean_k=clean_k.replace(to_replace ='\\]', value = '', regex = True)\n",
    "    return clean_k"
   ]
  },
  {
   "cell_type": "code",
   "execution_count": 42,
   "metadata": {},
   "outputs": [
    {
     "name": "stderr",
     "output_type": "stream",
     "text": [
      "6162it [01:07, 91.80it/s] \n"
     ]
    },
    {
     "data": {
      "text/html": [
       "<div>\n",
       "<style scoped>\n",
       "    .dataframe tbody tr th:only-of-type {\n",
       "        vertical-align: middle;\n",
       "    }\n",
       "\n",
       "    .dataframe tbody tr th {\n",
       "        vertical-align: top;\n",
       "    }\n",
       "\n",
       "    .dataframe thead th {\n",
       "        text-align: right;\n",
       "    }\n",
       "</style>\n",
       "<table border=\"1\" class=\"dataframe\">\n",
       "  <thead>\n",
       "    <tr style=\"text-align: right;\">\n",
       "      <th></th>\n",
       "      <th>Surah</th>\n",
       "      <th>Ayat</th>\n",
       "      <th>Translation</th>\n",
       "      <th>useful_info</th>\n",
       "      <th>info_tokenize</th>\n",
       "      <th>Keyword_final</th>\n",
       "    </tr>\n",
       "  </thead>\n",
       "  <tbody>\n",
       "    <tr>\n",
       "      <th>0</th>\n",
       "      <td>1</td>\n",
       "      <td>1</td>\n",
       "      <td>In the name of Allah Most Gracious Most Merciful.</td>\n",
       "      <td>in the name of allah most gracious most merciful.</td>\n",
       "      <td>[in, the, name, of, allah, most, gracious, mos...</td>\n",
       "      <td>name,allah,gracious,merciful</td>\n",
       "    </tr>\n",
       "    <tr>\n",
       "      <th>1</th>\n",
       "      <td>1</td>\n",
       "      <td>2</td>\n",
       "      <td>Praise be to Allah the Cherisher and Sustainer...</td>\n",
       "      <td>praise be to allah the cherisher and sustainer...</td>\n",
       "      <td>[praise, be, to, allah, the, cherisher, and, s...</td>\n",
       "      <td>praise,allah,cherisher,sustainer,world</td>\n",
       "    </tr>\n",
       "    <tr>\n",
       "      <th>2</th>\n",
       "      <td>1</td>\n",
       "      <td>3</td>\n",
       "      <td>Most Gracious Most Merciful;</td>\n",
       "      <td>most gracious most merciful</td>\n",
       "      <td>[most, gracious, most, merciful]</td>\n",
       "      <td>gracious,merciful</td>\n",
       "    </tr>\n",
       "    <tr>\n",
       "      <th>3</th>\n",
       "      <td>1</td>\n",
       "      <td>4</td>\n",
       "      <td>Master of the Day of Judgment.</td>\n",
       "      <td>master of the day of judgment.</td>\n",
       "      <td>[master, of, the, day, of, judgment, .]</td>\n",
       "      <td>master,day,judgment</td>\n",
       "    </tr>\n",
       "    <tr>\n",
       "      <th>4</th>\n",
       "      <td>1</td>\n",
       "      <td>5</td>\n",
       "      <td>Thee do we worship and Thine aid we seek.</td>\n",
       "      <td>thee do we worship and thine aid we seek.</td>\n",
       "      <td>[thee, do, we, worship, and, thine, aid, we, s...</td>\n",
       "      <td>thee,worship,thine,aid,seek</td>\n",
       "    </tr>\n",
       "  </tbody>\n",
       "</table>\n",
       "</div>"
      ],
      "text/plain": [
       "   Surah  Ayat                                        Translation  \\\n",
       "0      1     1  In the name of Allah Most Gracious Most Merciful.   \n",
       "1      1     2  Praise be to Allah the Cherisher and Sustainer...   \n",
       "2      1     3                       Most Gracious Most Merciful;   \n",
       "3      1     4                     Master of the Day of Judgment.   \n",
       "4      1     5          Thee do we worship and Thine aid we seek.   \n",
       "\n",
       "                                         useful_info  \\\n",
       "0  in the name of allah most gracious most merciful.   \n",
       "1  praise be to allah the cherisher and sustainer...   \n",
       "2                        most gracious most merciful   \n",
       "3                     master of the day of judgment.   \n",
       "4          thee do we worship and thine aid we seek.   \n",
       "\n",
       "                                       info_tokenize  \\\n",
       "0  [in, the, name, of, allah, most, gracious, mos...   \n",
       "1  [praise, be, to, allah, the, cherisher, and, s...   \n",
       "2                   [most, gracious, most, merciful]   \n",
       "3            [master, of, the, day, of, judgment, .]   \n",
       "4  [thee, do, we, worship, and, thine, aid, we, s...   \n",
       "\n",
       "                            Keyword_final  \n",
       "0            name,allah,gracious,merciful  \n",
       "1  praise,allah,cherisher,sustainer,world  \n",
       "2                       gracious,merciful  \n",
       "3                     master,day,judgment  \n",
       "4             thee,worship,thine,aid,seek  "
      ]
     },
     "execution_count": 42,
     "metadata": {},
     "output_type": "execute_result"
    }
   ],
   "source": [
    "df[\"Keyword_final\"] = wordLemmatizer(df['info_tokenize'])\n",
    "df.head()"
   ]
  },
  {
   "cell_type": "code",
   "execution_count": 44,
   "metadata": {},
   "outputs": [],
   "source": [
    "#Using Google Universal Sentence Encoder\n",
    "#USEmodel = hub.load(\"https://tfhub.dev/google/universal-sentence-encoder/4\")\n",
    "USEmodel = hub.load(\"model/\")"
   ]
  },
  {
   "cell_type": "code",
   "execution_count": 45,
   "metadata": {},
   "outputs": [],
   "source": [
    "train = USEmodel(df.Keyword_final)\n",
    "train_m = tf.train.Checkpoint(v=tf.Variable(train))\n",
    "\n",
    "train_m.f = tf.function( lambda  x: exported_m.v * x, input_signature=[tf.TensorSpec(shape=None, dtype=tf.float32)])\n",
    "\n",
    "model = train_m.v.numpy()"
   ]
  },
  {
   "cell_type": "code",
   "execution_count": 46,
   "metadata": {},
   "outputs": [
    {
     "data": {
      "text/plain": [
       "(6162, 512)"
      ]
     },
     "execution_count": 46,
     "metadata": {},
     "output_type": "execute_result"
    }
   ],
   "source": [
    "model.shape"
   ]
  },
  {
   "cell_type": "code",
   "execution_count": 60,
   "metadata": {},
   "outputs": [],
   "source": [
    "def SearchDocument(query,size=10):\n",
    "    q = [query]\n",
    "    Q_Train = USEmodel(q)\n",
    "    \n",
    "    linear_similarities = linear_kernel(Q_Train, model).flatten() \n",
    "    \n",
    "    Top_index_doc = linear_similarities.argsort()[:-(size+1):-1]\n",
    "    #print(Top_index_doc)\n",
    "    linear_similarities.sort()\n",
    "    find = pd.DataFrame()\n",
    "    for i,index in enumerate(Top_index_doc):\n",
    "        find.loc[i,'Surah'] = str(df['Surah'][index])\n",
    "        find.loc[i,'Ayat'] = str(df['Ayat'][index])\n",
    "        find.loc[i,'Tranlation'] = df['Translation'][index] \n",
    "        \n",
    "    for j,simScore in enumerate(linear_similarities[:-(size+1):-1]):\n",
    "        find.loc[j,'Score'] = simScore\n",
    "        \n",
    "    if size==1:\n",
    "        print(\"Query: \",query,\".  Surah:\", find.loc[0,'Surah'], \" Ayat:\", find.loc[0,'Ayat'],\"\\n\")\n",
    "    else:\n",
    "        return find"
   ]
  },
  {
   "cell_type": "code",
   "execution_count": 82,
   "metadata": {},
   "outputs": [
    {
     "data": {
      "text/html": [
       "<div>\n",
       "<style scoped>\n",
       "    .dataframe tbody tr th:only-of-type {\n",
       "        vertical-align: middle;\n",
       "    }\n",
       "\n",
       "    .dataframe tbody tr th {\n",
       "        vertical-align: top;\n",
       "    }\n",
       "\n",
       "    .dataframe thead th {\n",
       "        text-align: right;\n",
       "    }\n",
       "</style>\n",
       "<table border=\"1\" class=\"dataframe\">\n",
       "  <thead>\n",
       "    <tr style=\"text-align: right;\">\n",
       "      <th></th>\n",
       "      <th>Surah</th>\n",
       "      <th>Ayat</th>\n",
       "      <th>Tranlation</th>\n",
       "      <th>Score</th>\n",
       "    </tr>\n",
       "  </thead>\n",
       "  <tbody>\n",
       "    <tr>\n",
       "      <th>0</th>\n",
       "      <td>16</td>\n",
       "      <td>52</td>\n",
       "      <td>To Him belongs whatever is in the heavens and ...</td>\n",
       "      <td>0.439656</td>\n",
       "    </tr>\n",
       "    <tr>\n",
       "      <th>1</th>\n",
       "      <td>20</td>\n",
       "      <td>67</td>\n",
       "      <td>So Moses conceived in his mind a (sort of) fear.</td>\n",
       "      <td>0.415242</td>\n",
       "    </tr>\n",
       "    <tr>\n",
       "      <th>2</th>\n",
       "      <td>55</td>\n",
       "      <td>68</td>\n",
       "      <td>In them will be Fruits and dates and pomegrana...</td>\n",
       "      <td>0.414635</td>\n",
       "    </tr>\n",
       "    <tr>\n",
       "      <th>3</th>\n",
       "      <td>3</td>\n",
       "      <td>88</td>\n",
       "      <td>In that will they dwell; nor will their penalt...</td>\n",
       "      <td>0.406788</td>\n",
       "    </tr>\n",
       "    <tr>\n",
       "      <th>4</th>\n",
       "      <td>51</td>\n",
       "      <td>48</td>\n",
       "      <td>And We have spread out the (spacious) earth: H...</td>\n",
       "      <td>0.402913</td>\n",
       "    </tr>\n",
       "    <tr>\n",
       "      <th>5</th>\n",
       "      <td>12</td>\n",
       "      <td>27</td>\n",
       "      <td>\"But if it be that his shirt is torn from the ...</td>\n",
       "      <td>0.399255</td>\n",
       "    </tr>\n",
       "    <tr>\n",
       "      <th>6</th>\n",
       "      <td>6</td>\n",
       "      <td>37</td>\n",
       "      <td>They say: \"Why is not a sign sent down to him ...</td>\n",
       "      <td>0.392825</td>\n",
       "    </tr>\n",
       "    <tr>\n",
       "      <th>7</th>\n",
       "      <td>18</td>\n",
       "      <td>78</td>\n",
       "      <td>He answered: \"This is the parting between me a...</td>\n",
       "      <td>0.391247</td>\n",
       "    </tr>\n",
       "    <tr>\n",
       "      <th>8</th>\n",
       "      <td>14</td>\n",
       "      <td>49</td>\n",
       "      <td>And thou wilt see the sinners that day bound t...</td>\n",
       "      <td>0.385285</td>\n",
       "    </tr>\n",
       "    <tr>\n",
       "      <th>9</th>\n",
       "      <td>26</td>\n",
       "      <td>56</td>\n",
       "      <td>\"But we are a multitude amply fore-warned.\"</td>\n",
       "      <td>0.384834</td>\n",
       "    </tr>\n",
       "  </tbody>\n",
       "</table>\n",
       "</div>"
      ],
      "text/plain": [
       "  Surah Ayat                                         Tranlation     Score\n",
       "0    16   52  To Him belongs whatever is in the heavens and ...  0.439656\n",
       "1    20   67   So Moses conceived in his mind a (sort of) fear.  0.415242\n",
       "2    55   68  In them will be Fruits and dates and pomegrana...  0.414635\n",
       "3     3   88  In that will they dwell; nor will their penalt...  0.406788\n",
       "4    51   48  And We have spread out the (spacious) earth: H...  0.402913\n",
       "5    12   27  \"But if it be that his shirt is torn from the ...  0.399255\n",
       "6     6   37  They say: \"Why is not a sign sent down to him ...  0.392825\n",
       "7    18   78  He answered: \"This is the parting between me a...  0.391247\n",
       "8    14   49  And thou wilt see the sinners that day bound t...  0.385285\n",
       "9    26   56        \"But we are a multitude amply fore-warned.\"  0.384834"
      ]
     },
     "execution_count": 82,
     "metadata": {},
     "output_type": "execute_result"
    }
   ],
   "source": [
    "SearchDocument(\"Happiness\")"
   ]
  },
  {
   "cell_type": "code",
   "execution_count": 73,
   "metadata": {},
   "outputs": [
    {
     "data": {
      "text/html": [
       "<div>\n",
       "<style scoped>\n",
       "    .dataframe tbody tr th:only-of-type {\n",
       "        vertical-align: middle;\n",
       "    }\n",
       "\n",
       "    .dataframe tbody tr th {\n",
       "        vertical-align: top;\n",
       "    }\n",
       "\n",
       "    .dataframe thead th {\n",
       "        text-align: right;\n",
       "    }\n",
       "</style>\n",
       "<table border=\"1\" class=\"dataframe\">\n",
       "  <thead>\n",
       "    <tr style=\"text-align: right;\">\n",
       "      <th></th>\n",
       "      <th>Surah</th>\n",
       "      <th>Ayat</th>\n",
       "      <th>Tranlation</th>\n",
       "      <th>Score</th>\n",
       "    </tr>\n",
       "  </thead>\n",
       "  <tbody>\n",
       "    <tr>\n",
       "      <th>0</th>\n",
       "      <td>78</td>\n",
       "      <td>32</td>\n",
       "      <td>Gardens enclosed and grapevines;</td>\n",
       "      <td>0.269470</td>\n",
       "    </tr>\n",
       "    <tr>\n",
       "      <th>1</th>\n",
       "      <td>3</td>\n",
       "      <td>17</td>\n",
       "      <td>Those who show patience Firmness and self-cont...</td>\n",
       "      <td>0.244484</td>\n",
       "    </tr>\n",
       "    <tr>\n",
       "      <th>2</th>\n",
       "      <td>80</td>\n",
       "      <td>22</td>\n",
       "      <td>Then when it is His Will He will raise him up ...</td>\n",
       "      <td>0.243122</td>\n",
       "    </tr>\n",
       "    <tr>\n",
       "      <th>3</th>\n",
       "      <td>8</td>\n",
       "      <td>69</td>\n",
       "      <td>But (now) enjoy what ye took in war lawful and...</td>\n",
       "      <td>0.209417</td>\n",
       "    </tr>\n",
       "    <tr>\n",
       "      <th>4</th>\n",
       "      <td>27</td>\n",
       "      <td>10</td>\n",
       "      <td>\"Now do thou throw thy rod!\" But when he saw i...</td>\n",
       "      <td>0.190323</td>\n",
       "    </tr>\n",
       "    <tr>\n",
       "      <th>5</th>\n",
       "      <td>3</td>\n",
       "      <td>65</td>\n",
       "      <td>Ye People of the Book! Why dispute ye about Ab...</td>\n",
       "      <td>0.187273</td>\n",
       "    </tr>\n",
       "    <tr>\n",
       "      <th>6</th>\n",
       "      <td>44</td>\n",
       "      <td>20</td>\n",
       "      <td>\"For me I have sought safety with my Lord and ...</td>\n",
       "      <td>0.186442</td>\n",
       "    </tr>\n",
       "    <tr>\n",
       "      <th>7</th>\n",
       "      <td>94</td>\n",
       "      <td>3</td>\n",
       "      <td>The which did gall thy back?-</td>\n",
       "      <td>0.185104</td>\n",
       "    </tr>\n",
       "    <tr>\n",
       "      <th>8</th>\n",
       "      <td>44</td>\n",
       "      <td>57</td>\n",
       "      <td>As a Bounty from thy Lord! that will be the su...</td>\n",
       "      <td>0.184960</td>\n",
       "    </tr>\n",
       "    <tr>\n",
       "      <th>9</th>\n",
       "      <td>65</td>\n",
       "      <td>4</td>\n",
       "      <td>Such of your women as have passed the age of m...</td>\n",
       "      <td>0.184224</td>\n",
       "    </tr>\n",
       "  </tbody>\n",
       "</table>\n",
       "</div>"
      ],
      "text/plain": [
       "  Surah Ayat                                         Tranlation     Score\n",
       "0    78   32                   Gardens enclosed and grapevines;  0.269470\n",
       "1     3   17  Those who show patience Firmness and self-cont...  0.244484\n",
       "2    80   22  Then when it is His Will He will raise him up ...  0.243122\n",
       "3     8   69  But (now) enjoy what ye took in war lawful and...  0.209417\n",
       "4    27   10  \"Now do thou throw thy rod!\" But when he saw i...  0.190323\n",
       "5     3   65  Ye People of the Book! Why dispute ye about Ab...  0.187273\n",
       "6    44   20  \"For me I have sought safety with my Lord and ...  0.186442\n",
       "7    94    3                      The which did gall thy back?-  0.185104\n",
       "8    44   57  As a Bounty from thy Lord! that will be the su...  0.184960\n",
       "9    65    4  Such of your women as have passed the age of m...  0.184224"
      ]
     },
     "execution_count": 73,
     "metadata": {},
     "output_type": "execute_result"
    }
   ],
   "source": [
    "SearchDocument(\"What reward do I get?\")"
   ]
  },
  {
   "cell_type": "code",
   "execution_count": 71,
   "metadata": {},
   "outputs": [
    {
     "data": {
      "text/html": [
       "<div>\n",
       "<style scoped>\n",
       "    .dataframe tbody tr th:only-of-type {\n",
       "        vertical-align: middle;\n",
       "    }\n",
       "\n",
       "    .dataframe tbody tr th {\n",
       "        vertical-align: top;\n",
       "    }\n",
       "\n",
       "    .dataframe thead th {\n",
       "        text-align: right;\n",
       "    }\n",
       "</style>\n",
       "<table border=\"1\" class=\"dataframe\">\n",
       "  <thead>\n",
       "    <tr style=\"text-align: right;\">\n",
       "      <th></th>\n",
       "      <th>Surah</th>\n",
       "      <th>Ayat</th>\n",
       "      <th>Tranlation</th>\n",
       "      <th>Score</th>\n",
       "    </tr>\n",
       "  </thead>\n",
       "  <tbody>\n",
       "    <tr>\n",
       "      <th>0</th>\n",
       "      <td>6</td>\n",
       "      <td>133</td>\n",
       "      <td>Thy Lord is self-sufficient full of Mercy: if ...</td>\n",
       "      <td>0.221592</td>\n",
       "    </tr>\n",
       "    <tr>\n",
       "      <th>1</th>\n",
       "      <td>71</td>\n",
       "      <td>15</td>\n",
       "      <td>\"Â´See ye not how Allah has created the seven ...</td>\n",
       "      <td>0.188571</td>\n",
       "    </tr>\n",
       "    <tr>\n",
       "      <th>2</th>\n",
       "      <td>6</td>\n",
       "      <td>14</td>\n",
       "      <td>Say: \"Shall I take for my protector any other ...</td>\n",
       "      <td>0.185818</td>\n",
       "    </tr>\n",
       "    <tr>\n",
       "      <th>3</th>\n",
       "      <td>19</td>\n",
       "      <td>35</td>\n",
       "      <td>It is not befitting to (the majesty of) Allah ...</td>\n",
       "      <td>0.175928</td>\n",
       "    </tr>\n",
       "    <tr>\n",
       "      <th>4</th>\n",
       "      <td>2</td>\n",
       "      <td>245</td>\n",
       "      <td>Who is he that will loan to Allah a beautiful ...</td>\n",
       "      <td>0.175535</td>\n",
       "    </tr>\n",
       "    <tr>\n",
       "      <th>5</th>\n",
       "      <td>73</td>\n",
       "      <td>9</td>\n",
       "      <td>(He is) Lord of the East and the West: there i...</td>\n",
       "      <td>0.174650</td>\n",
       "    </tr>\n",
       "    <tr>\n",
       "      <th>6</th>\n",
       "      <td>6</td>\n",
       "      <td>77</td>\n",
       "      <td>When he saw the moon rising in splendour he sa...</td>\n",
       "      <td>0.174209</td>\n",
       "    </tr>\n",
       "    <tr>\n",
       "      <th>7</th>\n",
       "      <td>54</td>\n",
       "      <td>24</td>\n",
       "      <td>For they said: \"What! a man! a Solitary one fr...</td>\n",
       "      <td>0.171353</td>\n",
       "    </tr>\n",
       "    <tr>\n",
       "      <th>8</th>\n",
       "      <td>39</td>\n",
       "      <td>10</td>\n",
       "      <td>Say: \"O ye my servants who believe! Fear your ...</td>\n",
       "      <td>0.167181</td>\n",
       "    </tr>\n",
       "    <tr>\n",
       "      <th>9</th>\n",
       "      <td>40</td>\n",
       "      <td>32</td>\n",
       "      <td>\"And O my people! I fear for you a Day when th...</td>\n",
       "      <td>0.162728</td>\n",
       "    </tr>\n",
       "  </tbody>\n",
       "</table>\n",
       "</div>"
      ],
      "text/plain": [
       "  Surah Ayat                                         Tranlation     Score\n",
       "0     6  133  Thy Lord is self-sufficient full of Mercy: if ...  0.221592\n",
       "1    71   15  \"Â´See ye not how Allah has created the seven ...  0.188571\n",
       "2     6   14  Say: \"Shall I take for my protector any other ...  0.185818\n",
       "3    19   35  It is not befitting to (the majesty of) Allah ...  0.175928\n",
       "4     2  245  Who is he that will loan to Allah a beautiful ...  0.175535\n",
       "5    73    9  (He is) Lord of the East and the West: there i...  0.174650\n",
       "6     6   77  When he saw the moon rising in splendour he sa...  0.174209\n",
       "7    54   24  For they said: \"What! a man! a Solitary one fr...  0.171353\n",
       "8    39   10  Say: \"O ye my servants who believe! Fear your ...  0.167181\n",
       "9    40   32  \"And O my people! I fear for you a Day when th...  0.162728"
      ]
     },
     "execution_count": 71,
     "metadata": {},
     "output_type": "execute_result"
    }
   ],
   "source": [
    "SearchDocument(\"What is the punishment for sin?\")"
   ]
  },
  {
   "cell_type": "code",
   "execution_count": null,
   "metadata": {},
   "outputs": [],
   "source": []
  }
 ],
 "metadata": {
  "interpreter": {
   "hash": "e700657700ca3726e7d919db0cb1bdb00b1449743532d1443fbe37ca2c1ec67d"
  },
  "kernelspec": {
   "display_name": "Python 3 (ipykernel)",
   "language": "python",
   "name": "python3"
  },
  "language_info": {
   "codemirror_mode": {
    "name": "ipython",
    "version": 3
   },
   "file_extension": ".py",
   "mimetype": "text/x-python",
   "name": "python",
   "nbconvert_exporter": "python",
   "pygments_lexer": "ipython3",
   "version": "3.7.9"
  }
 },
 "nbformat": 4,
 "nbformat_minor": 2
}
