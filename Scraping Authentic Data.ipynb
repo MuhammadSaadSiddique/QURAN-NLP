{
 "cells": [
  {
   "cell_type": "markdown",
   "metadata": {},
   "source": [
    "# Gathering Data from https://www.altafsir.com/"
   ]
  },
  {
   "cell_type": "code",
   "execution_count": 6,
   "metadata": {},
   "outputs": [],
   "source": [
    "import pandas as pd\n",
    "import os\n",
    "import selenium\n",
    "from selenium import webdriver\n",
    "import time\n",
    "from PIL import Image\n",
    "import io\n",
    "import requests\n",
    "from webdriver_manager.chrome import ChromeDriverManager\n",
    "from selenium.common.exceptions import ElementClickInterceptedException"
   ]
  },
  {
   "cell_type": "code",
   "execution_count": 7,
   "metadata": {},
   "outputs": [
    {
     "name": "stderr",
     "output_type": "stream",
     "text": [
      "\n",
      "\n",
      "====== WebDriver manager ======\n",
      "Current google-chrome version is 98.0.4758\n",
      "Get LATEST chromedriver version for 98.0.4758 google-chrome\n",
      "Trying to download new driver from https://chromedriver.storage.googleapis.com/98.0.4758.102/chromedriver_win32.zip\n",
      "Driver has been saved in cache [C:\\Users\\Ali Zahid Raja\\.wdm\\drivers\\chromedriver\\win32\\98.0.4758.102]\n",
      "d:\\python\\python37\\lib\\site-packages\\ipykernel_launcher.py:2: DeprecationWarning: executable_path has been deprecated, please pass in a Service object\n",
      "  \n"
     ]
    }
   ],
   "source": [
    "#Install Driver\n",
    "driver = webdriver.Chrome(ChromeDriverManager().install())"
   ]
  },
  {
   "cell_type": "markdown",
   "metadata": {},
   "source": [
    "## Verse Translation"
   ]
  },
  {
   "cell_type": "code",
   "execution_count": 134,
   "metadata": {
    "scrolled": true
   },
   "outputs": [
    {
     "name": "stderr",
     "output_type": "stream",
     "text": [
      "d:\\python\\python37\\lib\\site-packages\\ipykernel_launcher.py:5: DeprecationWarning: find_element_by_* commands are deprecated. Please use find_element() instead\n",
      "  \"\"\"\n",
      "d:\\python\\python37\\lib\\site-packages\\ipykernel_launcher.py:6: DeprecationWarning: find_element_by_* commands are deprecated. Please use find_element() instead\n",
      "  \n"
     ]
    },
    {
     "name": "stdout",
     "output_type": "stream",
     "text": [
      "1\n",
      "2\n",
      "3\n",
      "4\n",
      "5\n",
      "6\n",
      "7\n",
      "8\n",
      "9\n",
      "10\n",
      "11\n",
      "12\n",
      "13\n",
      "14\n",
      "15\n",
      "16\n",
      "17\n",
      "18\n",
      "19\n",
      "20\n",
      "21\n",
      "22\n",
      "23\n",
      "24\n",
      "25\n",
      "26\n",
      "27\n",
      "28\n",
      "29\n",
      "30\n",
      "31\n",
      "32\n",
      "33\n",
      "34\n",
      "35\n",
      "36\n",
      "37\n",
      "38\n",
      "39\n",
      "40\n",
      "41\n",
      "42\n",
      "43\n",
      "44\n",
      "45\n",
      "46\n",
      "47\n",
      "48\n",
      "49\n",
      "50\n",
      "51\n",
      "52\n",
      "53\n",
      "54\n",
      "55\n",
      "56\n",
      "57\n",
      "58\n",
      "59\n",
      "60\n",
      "61\n",
      "62\n",
      "63\n",
      "64\n",
      "65\n",
      "66\n",
      "67\n",
      "68\n",
      "69\n",
      "70\n",
      "71\n",
      "72\n",
      "73\n",
      "74\n",
      "75\n",
      "76\n",
      "77\n",
      "78\n",
      "79\n",
      "80\n",
      "81\n",
      "82\n",
      "83\n",
      "84\n",
      "85\n",
      "86\n",
      "87\n",
      "88\n",
      "89\n",
      "90\n",
      "91\n",
      "92\n",
      "93\n",
      "94\n",
      "95\n",
      "96\n",
      "97\n",
      "98\n",
      "99\n",
      "100\n",
      "101\n",
      "102\n",
      "103\n",
      "104\n",
      "105\n",
      "106\n",
      "107\n",
      "108\n",
      "109\n",
      "110\n",
      "111\n",
      "112\n",
      "113\n",
      "114\n"
     ]
    }
   ],
   "source": [
    "SURAH = []\n",
    "for i in range(1, 115):\n",
    "    url = 'https://www.altafsir.com/ViewTranslations.asp?Display=yes&SoraNo=' + str(i) + '&Ayah=0&toAyah=0&Language=2&LanguageID=2&TranslationBook=3'\n",
    "    driver.get(url)\n",
    "    driver.switch_to.frame(driver.find_element_by_tag_name(\"iframe\"))\n",
    "    SURAH.append(driver.find_element_by_tag_name('body').text)\n",
    "    print(i)"
   ]
  },
  {
   "cell_type": "code",
   "execution_count": 135,
   "metadata": {},
   "outputs": [
    {
     "data": {
      "text/plain": [
       "114"
      ]
     },
     "execution_count": 135,
     "metadata": {},
     "output_type": "execute_result"
    }
   ],
   "source": [
    "len(SURAH)"
   ]
  },
  {
   "cell_type": "code",
   "execution_count": 138,
   "metadata": {},
   "outputs": [
    {
     "data": {
      "text/plain": [
       "'The Opening\\nIn the name of Allah, the Beneficent, the Merciful.\\n[1:1]\\nIn the name of Allah, the Beneficent, the Merciful.\\n\\n[1:2]\\nPraise be to Allah, Lord of the Worlds,\\n\\n[1:3]\\nThe Beneficent, the Merciful.\\n\\n[1:4]\\nOwner of the Day of Judgment,\\n\\n[1:5]\\nThee (alone) we worship; Thee (alone) we ask for help\\n\\n[1:6]\\nShow us the straight path,\\n\\n[1:7]\\nThe path of those whom Thou hast favoured; Not the (path) of those who earn Thine anger nor of those who go astray.'"
      ]
     },
     "execution_count": 138,
     "metadata": {},
     "output_type": "execute_result"
    }
   ],
   "source": [
    "SURAH[0]"
   ]
  },
  {
   "cell_type": "markdown",
   "metadata": {},
   "source": [
    "## Cleaning Text"
   ]
  },
  {
   "cell_type": "code",
   "execution_count": 162,
   "metadata": {},
   "outputs": [],
   "source": [
    "clean_surah = []\n",
    "for i in SURAH:\n",
    "    surah = i.split(\"\\n\")\n",
    "    ayats = \"\"\n",
    "    for i in range(len(surah)):\n",
    "        if i == 0:\n",
    "            #print(surah[i])\n",
    "            ayats += surah[i] + \"\\n\"\n",
    "        elif i == 1:\n",
    "            continue\n",
    "        else:\n",
    "            if len(surah[i]) > 0:\n",
    "                if surah[i][0] == '[':\n",
    "                    continue\n",
    "                else:\n",
    "                    #print(surah[i])\n",
    "                    ayats += surah[i] + \"\\n\"\n",
    "    ayats = ayats[:-1]\n",
    "    clean_surah.append(ayats.split(\"\\n\"))"
   ]
  },
  {
   "cell_type": "code",
   "execution_count": 163,
   "metadata": {},
   "outputs": [
    {
     "data": {
      "text/plain": [
       "['The Opening',\n",
       " 'In the name of Allah, the Beneficent, the Merciful.',\n",
       " 'Praise be to Allah, Lord of the Worlds,',\n",
       " 'The Beneficent, the Merciful.',\n",
       " 'Owner of the Day of Judgment,',\n",
       " 'Thee (alone) we worship; Thee (alone) we ask for help',\n",
       " 'Show us the straight path,',\n",
       " 'The path of those whom Thou hast favoured; Not the (path) of those who earn Thine anger nor of those who go astray.']"
      ]
     },
     "execution_count": 163,
     "metadata": {},
     "output_type": "execute_result"
    }
   ],
   "source": [
    "clean_surah[0]"
   ]
  },
  {
   "cell_type": "code",
   "execution_count": 178,
   "metadata": {},
   "outputs": [],
   "source": [
    "surah_s = []\n",
    "ayat_s = []\n",
    "name_s = []\n",
    "translation = []\n",
    "surah_num = 1\n",
    "for i in clean_surah:\n",
    "    ayat_num = 1\n",
    "    for j in range(1, len(i)):\n",
    "        name_s.append(i[0])\n",
    "        surah_s.append(surah_num)\n",
    "        ayat_s.append(ayat_num)\n",
    "        translation.append(i[j])\n",
    "        ayat_num += 1\n",
    "    surah_num+=1"
   ]
  },
  {
   "cell_type": "code",
   "execution_count": 179,
   "metadata": {},
   "outputs": [
    {
     "data": {
      "text/plain": [
       "6236"
      ]
     },
     "execution_count": 179,
     "metadata": {},
     "output_type": "execute_result"
    }
   ],
   "source": [
    "len(surah_s)"
   ]
  },
  {
   "cell_type": "code",
   "execution_count": 180,
   "metadata": {},
   "outputs": [
    {
     "data": {
      "text/html": [
       "<div>\n",
       "<style scoped>\n",
       "    .dataframe tbody tr th:only-of-type {\n",
       "        vertical-align: middle;\n",
       "    }\n",
       "\n",
       "    .dataframe tbody tr th {\n",
       "        vertical-align: top;\n",
       "    }\n",
       "\n",
       "    .dataframe thead th {\n",
       "        text-align: right;\n",
       "    }\n",
       "</style>\n",
       "<table border=\"1\" class=\"dataframe\">\n",
       "  <thead>\n",
       "    <tr style=\"text-align: right;\">\n",
       "      <th></th>\n",
       "      <th>Name</th>\n",
       "      <th>Surah</th>\n",
       "      <th>Ayat</th>\n",
       "      <th>Verse</th>\n",
       "    </tr>\n",
       "  </thead>\n",
       "  <tbody>\n",
       "    <tr>\n",
       "      <th>0</th>\n",
       "      <td>The Opening</td>\n",
       "      <td>1</td>\n",
       "      <td>1</td>\n",
       "      <td>In the name of Allah, the Beneficent, the Merc...</td>\n",
       "    </tr>\n",
       "    <tr>\n",
       "      <th>1</th>\n",
       "      <td>The Opening</td>\n",
       "      <td>1</td>\n",
       "      <td>2</td>\n",
       "      <td>Praise be to Allah, Lord of the Worlds,</td>\n",
       "    </tr>\n",
       "    <tr>\n",
       "      <th>2</th>\n",
       "      <td>The Opening</td>\n",
       "      <td>1</td>\n",
       "      <td>3</td>\n",
       "      <td>The Beneficent, the Merciful.</td>\n",
       "    </tr>\n",
       "    <tr>\n",
       "      <th>3</th>\n",
       "      <td>The Opening</td>\n",
       "      <td>1</td>\n",
       "      <td>4</td>\n",
       "      <td>Owner of the Day of Judgment,</td>\n",
       "    </tr>\n",
       "    <tr>\n",
       "      <th>4</th>\n",
       "      <td>The Opening</td>\n",
       "      <td>1</td>\n",
       "      <td>5</td>\n",
       "      <td>Thee (alone) we worship; Thee (alone) we ask f...</td>\n",
       "    </tr>\n",
       "  </tbody>\n",
       "</table>\n",
       "</div>"
      ],
      "text/plain": [
       "          Name  Surah  Ayat                                              Verse\n",
       "0  The Opening      1     1  In the name of Allah, the Beneficent, the Merc...\n",
       "1  The Opening      1     2            Praise be to Allah, Lord of the Worlds,\n",
       "2  The Opening      1     3                      The Beneficent, the Merciful.\n",
       "3  The Opening      1     4                      Owner of the Day of Judgment,\n",
       "4  The Opening      1     5  Thee (alone) we worship; Thee (alone) we ask f..."
      ]
     },
     "execution_count": 180,
     "metadata": {},
     "output_type": "execute_result"
    }
   ],
   "source": [
    "df = pd.DataFrame(data=zip(name_s, surah_s, ayat_s, translation), columns=['Name', 'Surah', 'Ayat', 'Verse'])\n",
    "df.head()"
   ]
  },
  {
   "cell_type": "code",
   "execution_count": 182,
   "metadata": {},
   "outputs": [
    {
     "data": {
      "text/html": [
       "<div>\n",
       "<style scoped>\n",
       "    .dataframe tbody tr th:only-of-type {\n",
       "        vertical-align: middle;\n",
       "    }\n",
       "\n",
       "    .dataframe tbody tr th {\n",
       "        vertical-align: top;\n",
       "    }\n",
       "\n",
       "    .dataframe thead th {\n",
       "        text-align: right;\n",
       "    }\n",
       "</style>\n",
       "<table border=\"1\" class=\"dataframe\">\n",
       "  <thead>\n",
       "    <tr style=\"text-align: right;\">\n",
       "      <th></th>\n",
       "      <th>Name</th>\n",
       "      <th>Surah</th>\n",
       "      <th>Ayat</th>\n",
       "      <th>Verse</th>\n",
       "    </tr>\n",
       "  </thead>\n",
       "  <tbody>\n",
       "    <tr>\n",
       "      <th>6231</th>\n",
       "      <td>Mankind</td>\n",
       "      <td>114</td>\n",
       "      <td>2</td>\n",
       "      <td>The King of mankind,</td>\n",
       "    </tr>\n",
       "    <tr>\n",
       "      <th>6232</th>\n",
       "      <td>Mankind</td>\n",
       "      <td>114</td>\n",
       "      <td>3</td>\n",
       "      <td>The God of mankind,</td>\n",
       "    </tr>\n",
       "    <tr>\n",
       "      <th>6233</th>\n",
       "      <td>Mankind</td>\n",
       "      <td>114</td>\n",
       "      <td>4</td>\n",
       "      <td>From the evil of the sneaking whisperer,</td>\n",
       "    </tr>\n",
       "    <tr>\n",
       "      <th>6234</th>\n",
       "      <td>Mankind</td>\n",
       "      <td>114</td>\n",
       "      <td>5</td>\n",
       "      <td>Who whispereth in the hearts of mankind,</td>\n",
       "    </tr>\n",
       "    <tr>\n",
       "      <th>6235</th>\n",
       "      <td>Mankind</td>\n",
       "      <td>114</td>\n",
       "      <td>6</td>\n",
       "      <td>Of the jinn and of mankind.</td>\n",
       "    </tr>\n",
       "  </tbody>\n",
       "</table>\n",
       "</div>"
      ],
      "text/plain": [
       "         Name  Surah  Ayat                                     Verse\n",
       "6231  Mankind    114     2                      The King of mankind,\n",
       "6232  Mankind    114     3                       The God of mankind,\n",
       "6233  Mankind    114     4  From the evil of the sneaking whisperer,\n",
       "6234  Mankind    114     5  Who whispereth in the hearts of mankind,\n",
       "6235  Mankind    114     6               Of the jinn and of mankind."
      ]
     },
     "execution_count": 182,
     "metadata": {},
     "output_type": "execute_result"
    }
   ],
   "source": [
    "df.tail()"
   ]
  },
  {
   "cell_type": "code",
   "execution_count": 181,
   "metadata": {},
   "outputs": [],
   "source": [
    "df.to_csv(\"Quran_English.csv\", index=False)"
   ]
  },
  {
   "cell_type": "code",
   "execution_count": null,
   "metadata": {},
   "outputs": [],
   "source": []
  },
  {
   "cell_type": "markdown",
   "metadata": {},
   "source": [
    "# Tafaseer"
   ]
  },
  {
   "cell_type": "code",
   "execution_count": 1,
   "metadata": {},
   "outputs": [],
   "source": [
    "import pandas as pd"
   ]
  },
  {
   "cell_type": "code",
   "execution_count": 2,
   "metadata": {},
   "outputs": [],
   "source": [
    "df = pd.read_csv(\"Quran_English.csv\")"
   ]
  },
  {
   "cell_type": "code",
   "execution_count": 3,
   "metadata": {},
   "outputs": [],
   "source": [
    "url = 'https://www.altafsir.com/Tafasir.asp?tMadhNo=0&tTafsirNo=74&tSoraNo=1&tAyahNo=2&tDisplay=yes&UserProfile=0&LanguageId=2'"
   ]
  },
  {
   "cell_type": "code",
   "execution_count": 8,
   "metadata": {},
   "outputs": [],
   "source": [
    "driver.get(url)"
   ]
  },
  {
   "cell_type": "code",
   "execution_count": 9,
   "metadata": {},
   "outputs": [
    {
     "name": "stderr",
     "output_type": "stream",
     "text": [
      "d:\\python\\python37\\lib\\site-packages\\ipykernel_launcher.py:1: DeprecationWarning: find_element_by_* commands are deprecated. Please use find_element() instead\n",
      "  \"\"\"Entry point for launching an IPython kernel.\n"
     ]
    },
    {
     "data": {
      "text/plain": [
       "\"In the Name of God the name of a thing is that by which it can be known. The Names of God exalted be He are the archetypal forms ṣuwar nawʿiyya whose specificities and ipseities hūwiyya indicate the attributes of God and His essence and which indicate by their very existence His countenance and by their individuation His oneness. For these are the outward manifestations through which He can be known; Allāh is a name for the divine essence qua essence absolutely without taking into consideration that it may be qualified by the attributes or indeed taking into consideration that it may not be so qualified; the Compassionate is the one who causes existence and perfection to flow upon all things in the measure that divine wisdom requires and to the capacity of the receiving entities qawābil from the outset of their creation; the Merciful al-Raḥīm is the one who bestows the spiritual perfection kamāl maʿnawī that has been earmarked for the human species in the end sc. in the Hereafter. It is for this reason that they say O You Who are the Compassionate One of this world and of the Hereafter yā raḥmān al-dunyā wa'l-ākhira but say O Merciful One of the Hereafter raḥīm al-ākhira the meaning then is in the perfect human all-encompassing form general and specific mercy which is the locus of manifestation of the divine essence and the greatest truth with the totality of attributes I commence and I recite. It Allāh is the Greatest Name of God. It is to this meaning that the Prophet's ṣlʿm alluded when he said 'I have been given the sum of all excellent speech sc. The QurÌān and have been sent to complete the noble character traits makārim al-akhlāq. For words constitute the realities ḥaqāÌiq of existents mawjūdāt and their concrete substances aʿyān just as Jesus peace be upon him was called a Word from God cf. 33945. The noble character traits are the perfections of these existents and represent their specifities constituting the sources of their the existents' actions in their entirety contained as they are in the comprehensive human microcosm kawn insānī. Herein lies a subtlety la?īfa namely that the prophets peace be upon them have made the letters of the alphabet analogous to the ranks of existents marātib al-mawjūdāt.\""
      ]
     },
     "execution_count": 9,
     "metadata": {},
     "output_type": "execute_result"
    }
   ],
   "source": [
    "driver.find_element_by_class_name('TextResultEnglish').text"
   ]
  },
  {
   "cell_type": "code",
   "execution_count": 10,
   "metadata": {},
   "outputs": [
    {
     "data": {
      "text/plain": [
       "114"
      ]
     },
     "execution_count": 10,
     "metadata": {},
     "output_type": "execute_result"
    }
   ],
   "source": [
    "clean_text = []\n",
    "text=[]\n",
    "for index, row in df.iterrows():\n",
    "    clean_text.append(row['Verse'])\n",
    "    text.append(row['Name'] + \"|\" + str(row['Surah'])+\"|\"+str(row['Ayat'])+\"|\"+row['Verse'])\n",
    "\n",
    "surah = []\n",
    "ayat = []\n",
    "curr = 1\n",
    "for i in range(len(text)):\n",
    "    if int(text[i].split(\"|\")[1]) != curr:\n",
    "        if len(ayat)>0:\n",
    "            surah.append(ayat)\n",
    "        ayat = []\n",
    "        curr+=1\n",
    "    \n",
    "    ayat.append(clean_text[i])\n",
    "surah.append(ayat)\n",
    "\n",
    "len_of_surahs = []\n",
    "for i in surah:\n",
    "    len_of_surahs.append(len(i))\n",
    "\n",
    "len(len_of_surahs)"
   ]
  },
  {
   "cell_type": "code",
   "execution_count": 13,
   "metadata": {
    "scrolled": true
   },
   "outputs": [
    {
     "name": "stderr",
     "output_type": "stream",
     "text": [
      "d:\\python\\python37\\lib\\site-packages\\ipykernel_launcher.py:7: DeprecationWarning: find_element_by_* commands are deprecated. Please use find_element() instead\n",
      "  import sys\n"
     ]
    },
    {
     "name": "stdout",
     "output_type": "stream",
     "text": [
      "1\n",
      "2\n",
      "3\n",
      "4\n",
      "5\n",
      "6\n",
      "7\n",
      "8\n",
      "9\n",
      "10\n",
      "11\n",
      "12\n",
      "13\n",
      "14\n",
      "15\n",
      "16\n",
      "17\n",
      "18\n",
      "19\n",
      "20\n",
      "21\n",
      "22\n",
      "23\n",
      "24\n",
      "25\n",
      "26\n",
      "27\n",
      "28\n",
      "29\n",
      "30\n",
      "31\n",
      "32\n",
      "33\n",
      "34\n",
      "35\n",
      "36\n",
      "37\n",
      "38\n",
      "39\n",
      "40\n",
      "41\n",
      "42\n",
      "43\n",
      "44\n",
      "45\n",
      "46\n",
      "47\n",
      "48\n",
      "49\n",
      "50\n",
      "51\n",
      "52\n",
      "53\n",
      "54\n",
      "55\n",
      "56\n",
      "57\n",
      "58\n",
      "59\n",
      "60\n",
      "61\n",
      "62\n",
      "63\n",
      "64\n",
      "65\n",
      "66\n",
      "67\n",
      "68\n",
      "69\n",
      "70\n",
      "71\n",
      "72\n",
      "73\n",
      "74\n",
      "75\n",
      "76\n",
      "77\n",
      "78\n",
      "79\n",
      "80\n",
      "81\n",
      "82\n",
      "83\n",
      "84\n",
      "85\n",
      "86\n",
      "87\n",
      "88\n",
      "89\n",
      "90\n",
      "91\n",
      "92\n",
      "93\n",
      "94\n",
      "95\n",
      "96\n",
      "97\n",
      "98\n",
      "99\n",
      "100\n",
      "101\n",
      "102\n",
      "103\n",
      "104\n",
      "105\n",
      "106\n",
      "107\n",
      "108\n",
      "109\n",
      "110\n",
      "111\n",
      "112\n",
      "113\n",
      "114\n"
     ]
    }
   ],
   "source": [
    "TAFSEER = []\n",
    "for i in range(1, 115):\n",
    "    for j in range(1, len_of_surahs[i-1] + 1):\n",
    "        try:\n",
    "            url = 'https://www.altafsir.com/Tafasir.asp?tMadhNo=0&tTafsirNo=74&tSoraNo='+str(i)+'&tAyahNo='+str(j)+'&tDisplay=yes&UserProfile=0&LanguageId=2'\n",
    "            driver.get(url)\n",
    "            TAFSEER.append(driver.find_element_by_class_name('TextResultEnglish').text)\n",
    "        except:\n",
    "            TAFSEER.append(\"\")\n",
    "    print(i)"
   ]
  },
  {
   "cell_type": "markdown",
   "metadata": {},
   "source": [
    "# Took 4 hours to run"
   ]
  },
  {
   "cell_type": "code",
   "execution_count": 14,
   "metadata": {},
   "outputs": [
    {
     "data": {
      "text/plain": [
       "6236"
      ]
     },
     "execution_count": 14,
     "metadata": {},
     "output_type": "execute_result"
    }
   ],
   "source": [
    "len(TAFSEER)"
   ]
  },
  {
   "cell_type": "code",
   "execution_count": 15,
   "metadata": {},
   "outputs": [
    {
     "data": {
      "text/plain": [
       "'In the Name of God the Compassionate the Merciful'"
      ]
     },
     "execution_count": 15,
     "metadata": {},
     "output_type": "execute_result"
    }
   ],
   "source": [
    "TAFSEER[0]"
   ]
  },
  {
   "cell_type": "code",
   "execution_count": 16,
   "metadata": {},
   "outputs": [
    {
     "data": {
      "text/html": [
       "<div>\n",
       "<style scoped>\n",
       "    .dataframe tbody tr th:only-of-type {\n",
       "        vertical-align: middle;\n",
       "    }\n",
       "\n",
       "    .dataframe tbody tr th {\n",
       "        vertical-align: top;\n",
       "    }\n",
       "\n",
       "    .dataframe thead th {\n",
       "        text-align: right;\n",
       "    }\n",
       "</style>\n",
       "<table border=\"1\" class=\"dataframe\">\n",
       "  <thead>\n",
       "    <tr style=\"text-align: right;\">\n",
       "      <th></th>\n",
       "      <th>Name</th>\n",
       "      <th>Surah</th>\n",
       "      <th>Ayat</th>\n",
       "      <th>Verse</th>\n",
       "      <th>Tafseer</th>\n",
       "    </tr>\n",
       "  </thead>\n",
       "  <tbody>\n",
       "    <tr>\n",
       "      <th>0</th>\n",
       "      <td>The Opening</td>\n",
       "      <td>1</td>\n",
       "      <td>1</td>\n",
       "      <td>In the name of Allah, the Beneficent, the Merc...</td>\n",
       "      <td>In the Name of God the Compassionate the Merciful</td>\n",
       "    </tr>\n",
       "    <tr>\n",
       "      <th>1</th>\n",
       "      <td>The Opening</td>\n",
       "      <td>1</td>\n",
       "      <td>2</td>\n",
       "      <td>Praise be to Allah, Lord of the Worlds,</td>\n",
       "      <td>In the Name of God the name of a thing is that...</td>\n",
       "    </tr>\n",
       "    <tr>\n",
       "      <th>2</th>\n",
       "      <td>The Opening</td>\n",
       "      <td>1</td>\n",
       "      <td>3</td>\n",
       "      <td>The Beneficent, the Merciful.</td>\n",
       "      <td>The Compassionate the Merciful that is to say ...</td>\n",
       "    </tr>\n",
       "    <tr>\n",
       "      <th>3</th>\n",
       "      <td>The Opening</td>\n",
       "      <td>1</td>\n",
       "      <td>4</td>\n",
       "      <td>Owner of the Day of Judgment,</td>\n",
       "      <td>Master of the Day of Judgement that is the day...</td>\n",
       "    </tr>\n",
       "    <tr>\n",
       "      <th>4</th>\n",
       "      <td>The Opening</td>\n",
       "      <td>1</td>\n",
       "      <td>5</td>\n",
       "      <td>Thee (alone) we worship; Thee (alone) we ask f...</td>\n",
       "      <td>You alone we worship and You alone we ask for ...</td>\n",
       "    </tr>\n",
       "  </tbody>\n",
       "</table>\n",
       "</div>"
      ],
      "text/plain": [
       "          Name  Surah  Ayat  \\\n",
       "0  The Opening      1     1   \n",
       "1  The Opening      1     2   \n",
       "2  The Opening      1     3   \n",
       "3  The Opening      1     4   \n",
       "4  The Opening      1     5   \n",
       "\n",
       "                                               Verse  \\\n",
       "0  In the name of Allah, the Beneficent, the Merc...   \n",
       "1            Praise be to Allah, Lord of the Worlds,   \n",
       "2                      The Beneficent, the Merciful.   \n",
       "3                      Owner of the Day of Judgment,   \n",
       "4  Thee (alone) we worship; Thee (alone) we ask f...   \n",
       "\n",
       "                                             Tafseer  \n",
       "0  In the Name of God the Compassionate the Merciful  \n",
       "1  In the Name of God the name of a thing is that...  \n",
       "2  The Compassionate the Merciful that is to say ...  \n",
       "3  Master of the Day of Judgement that is the day...  \n",
       "4  You alone we worship and You alone we ask for ...  "
      ]
     },
     "execution_count": 16,
     "metadata": {},
     "output_type": "execute_result"
    }
   ],
   "source": [
    "df['Tafseer'] = TAFSEER\n",
    "df.head()"
   ]
  },
  {
   "cell_type": "code",
   "execution_count": 17,
   "metadata": {},
   "outputs": [],
   "source": [
    "df.to_csv(\"Quran_English_with_Tafseer.csv\", index=False)"
   ]
  },
  {
   "cell_type": "code",
   "execution_count": null,
   "metadata": {},
   "outputs": [],
   "source": []
  }
 ],
 "metadata": {
  "interpreter": {
   "hash": "e700657700ca3726e7d919db0cb1bdb00b1449743532d1443fbe37ca2c1ec67d"
  },
  "kernelspec": {
   "display_name": "Python 3 (ipykernel)",
   "language": "python",
   "name": "python3"
  },
  "language_info": {
   "codemirror_mode": {
    "name": "ipython",
    "version": 3
   },
   "file_extension": ".py",
   "mimetype": "text/x-python",
   "name": "python",
   "nbconvert_exporter": "python",
   "pygments_lexer": "ipython3",
   "version": "3.7.9"
  }
 },
 "nbformat": 4,
 "nbformat_minor": 2
}
