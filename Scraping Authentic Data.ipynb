{
 "cells": [
  {
   "cell_type": "markdown",
   "metadata": {},
   "source": [
    "# Gathering Data from https://www.altafsir.com/"
   ]
  },
  {
   "cell_type": "code",
   "execution_count": 1,
   "metadata": {},
   "outputs": [],
   "source": [
    "import pandas as pd\n",
    "import os\n",
    "import selenium\n",
    "from selenium import webdriver\n",
    "import time\n",
    "from PIL import Image\n",
    "import io\n",
    "import requests\n",
    "from webdriver_manager.chrome import ChromeDriverManager\n",
    "from selenium.common.exceptions import ElementClickInterceptedException\n",
    "from selenium.webdriver.common.by import By\n",
    "from selenium.webdriver.support.select import Select"
   ]
  },
  {
   "cell_type": "code",
   "execution_count": 2,
   "metadata": {},
   "outputs": [
    {
     "name": "stderr",
     "output_type": "stream",
     "text": [
      "/var/folders/2x/qhy93fs134s_883czg81ywrm0000gn/T/ipykernel_89072/2409737876.py:2: DeprecationWarning: executable_path has been deprecated, please pass in a Service object\n",
      "  driver = webdriver.Chrome(ChromeDriverManager().install())\n"
     ]
    }
   ],
   "source": [
    "#Install Driver\n",
    "driver = webdriver.Chrome(ChromeDriverManager().install())"
   ]
  },
  {
   "cell_type": "markdown",
   "metadata": {},
   "source": [
    "## Verse Translation"
   ]
  },
  {
   "cell_type": "code",
   "execution_count": 3,
   "metadata": {
    "scrolled": true
   },
   "outputs": [
    {
     "name": "stdout",
     "output_type": "stream",
     "text": [
      "Muhammad Tahir-ul-Qadri\n",
      "Recitations of Ibrahim walk from saheeh international\n",
      "Royal Aal al-Bayt Institute Translation\n",
      "Martin Lings\n",
      "Muhammad Asad\n",
      "Arthur J. Arberry\n",
      "Abdullah Yusuf Ali\n",
      "Marmaduke Pickthall\n"
     ]
    }
   ],
   "source": [
    "for j in (21,17,10,8,7,5,4,3):\n",
    "    work = []\n",
    "    url = 'https://www.altafsir.com/ViewTranslations.asp?Display=yes&SoraNo=1&Ayah=0&toAyah=0&Language=2&LanguageID=2&TranslationBook='+str(j)\n",
    "    driver.get(url)\n",
    "    select = Select(driver.find_element('id','TranslationBook'))\n",
    "    selected_option = select.first_selected_option\n",
    "    print(selected_option.text)\n",
    "    work.append(selected_option.text)\n",
    "    \n",
    "    for i in range(1, 115):\n",
    "        url = 'https://www.altafsir.com/ViewTranslations.asp?Display=yes&SoraNo=' + str(i) + '&Ayah=0&toAyah=0&Language=2&LanguageID=2&TranslationBook='+str(j)\n",
    "        driver.get(url)\n",
    "        \n",
    "        driver.switch_to.frame(driver.find_element(By.TAG_NAME, \"iframe\"))\n",
    "        work.append(driver.find_element(By.TAG_NAME, \"body\").text)\n",
    "        #print(i)\n",
    "    \n",
    "    clean_surah = []\n",
    "    for i in work:\n",
    "        surah = i.split(\"\\n\")\n",
    "        ayats = \"\"\n",
    "        for i in range(len(surah)):\n",
    "            if i == 0:\n",
    "                #print(surah[i])\n",
    "                ayats += surah[i] + \"\\n\"\n",
    "            elif i == 1:\n",
    "                continue\n",
    "            else:\n",
    "                if len(surah[i]) > 0:\n",
    "                    if surah[i][0] == '[':\n",
    "                        continue\n",
    "                    else:\n",
    "                        #print(surah[i])\n",
    "                        ayats += surah[i] + \"\\n\"\n",
    "        ayats = ayats[:-1]\n",
    "        clean_surah.append(ayats.split(\"\\n\"))\n",
    "\n",
    "    surah_s = []\n",
    "    ayat_s = []\n",
    "    name_s = []\n",
    "    translation = []\n",
    "    worker=work[0].replace(\" \", \"_\")\n",
    "\n",
    "    surah_num = 0\n",
    "    for i in clean_surah:\n",
    "        ayat_num = 1\n",
    "        for k in range(1, len(i)):\n",
    "            name_s.append(i[0])\n",
    "            surah_s.append(surah_num)\n",
    "            ayat_s.append(ayat_num)\n",
    "            translation.append(i[k])\n",
    "            #print(worker, name_s, surah_s, ayat_s)\n",
    "            ayat_num += 1\n",
    "        surah_num+=1\n",
    "    df = pd.DataFrame(data=zip(name_s, surah_s, ayat_s, translation), columns=['Name', 'Surah', 'Ayat', 'Verse'])\n",
    "    df.to_csv(worker + \"_translation.csv\", index=False)\n",
    "    \n",
    "    "
   ]
  },
  {
   "cell_type": "code",
   "execution_count": null,
   "metadata": {},
   "outputs": [],
   "source": []
  },
  {
   "cell_type": "code",
   "execution_count": null,
   "metadata": {},
   "outputs": [],
   "source": []
  },
  {
   "cell_type": "markdown",
   "metadata": {},
   "source": [
    "# Tafaseer"
   ]
  },
  {
   "cell_type": "code",
   "execution_count": 4,
   "metadata": {
    "scrolled": true
   },
   "outputs": [
    {
     "name": "stdout",
     "output_type": "stream",
     "text": [
      "Kashani Tafsir\n",
      "Al Qushairi Tafsir\n"
     ]
    }
   ],
   "source": [
    "TAFSEERS = []\n",
    "  \n",
    "# 74, 73, 107, 108 completed\n",
    "for k in (107, 108):\n",
    "    url = 'https://www.altafsir.com/Tafasir.asp?tMadhNo=0&tTafsirNo=' + str(k) + '&tSoraNo=1&tAyahNo=1&tDisplay=yes&UserProfile=0&LanguageId=2'\n",
    "    driver.get(url)    \n",
    "    worker = []\n",
    "    select = Select(driver.find_element('id','Tafsir'))\n",
    "    selected_option = select.first_selected_option\n",
    "    print(selected_option.text)\n",
    "    worker.append(selected_option.text)\n",
    "    \n",
    "    for i in range(1, 115):\n",
    "        url = 'https://www.altafsir.com/Tafasir.asp?tMadhNo=0&tTafsirNo=' + str(k) + '&tSoraNo='+str(i)+'&tAyahNo=1&tDisplay=yes&UserProfile=0&LanguageId=2'\n",
    "        driver.get(url)\n",
    "        select = Select(driver.find_element('id','Ayat'))\n",
    "        ayats = len(select.options)\n",
    "        #print(\"Ayats\", ayats)\n",
    "        for j in range(1, ayats + 1):\n",
    "            url = 'https://www.altafsir.com/Tafasir.asp?tMadhNo=0&tTafsirNo=' + str(k) + '&tSoraNo='+str(i)+'&tAyahNo='+str(j)+'&tDisplay=yes&UserProfile=0&LanguageId=2'\n",
    "            driver.get(url)\n",
    "            try:\n",
    "                worker.append(driver.find_element(By.CLASS_NAME, \"TextAyah\").text)\n",
    "                worker.append(driver.find_element(By.CLASS_NAME, 'TextResultEnglish').text)\n",
    "            except:\n",
    "                worker.append(\"\")\n",
    "                worker.append(\"\")\n",
    "            \n",
    "        #print(i)\n",
    "    \n",
    "    # ONLY FOR 1 Worker\n",
    "    worker_name = worker[0].replace(\" \", \"_\")\n",
    "    arabic = []\n",
    "    tafsir = []\n",
    "    for i in range(1, len(worker)):\n",
    "        if i%2==0:\n",
    "            tafsir.append(worker[i])\n",
    "        else:\n",
    "            arabic.append(worker[i].replace(\"{\",\"\").replace(\"}\", \"\").strip())\n",
    "    #print(worker)\n",
    "    df = pd.DataFrame(data=zip(arabic, tafsir), columns=['Arabic', 'Tafseer'])\n",
    "    df.head()\n",
    "    df.to_csv(worker_name + \"_tafseer.csv\", index=False)"
   ]
  },
  {
   "cell_type": "markdown",
   "metadata": {},
   "source": [
    "# Took 4 hours to run per Worker"
   ]
  },
  {
   "cell_type": "code",
   "execution_count": null,
   "metadata": {},
   "outputs": [],
   "source": []
  },
  {
   "cell_type": "code",
   "execution_count": null,
   "metadata": {},
   "outputs": [],
   "source": []
  }
 ],
 "metadata": {
  "interpreter": {
   "hash": "e700657700ca3726e7d919db0cb1bdb00b1449743532d1443fbe37ca2c1ec67d"
  },
  "kernelspec": {
   "display_name": "Python 3 (ipykernel)",
   "language": "python",
   "name": "python3"
  },
  "language_info": {
   "codemirror_mode": {
    "name": "ipython",
    "version": 3
   },
   "file_extension": ".py",
   "mimetype": "text/x-python",
   "name": "python",
   "nbconvert_exporter": "python",
   "pygments_lexer": "ipython3",
   "version": "3.9.14"
  }
 },
 "nbformat": 4,
 "nbformat_minor": 2
}
